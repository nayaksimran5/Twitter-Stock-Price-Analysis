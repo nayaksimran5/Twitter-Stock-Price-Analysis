{
 "cells": [
  {
   "cell_type": "markdown",
   "id": "e6b1a9ce-0579-42b0-9139-a6796008cb8d",
   "metadata": {},
   "source": [
    "### Project: Stock Market Prediction Using Twitter Data \n",
    "\n",
    "For this project, I will retrieve and analyze tweets related to major stock market trends and specific companies like Tesla ($TSLA), Apple ($AAPL), Amazon ($AMZN), and Microsoft ($MSFT). The tweets will be filtered based on stock-related hashtags such as #StockMarket, #Investing, #Trading, #TeslaStock, #AAPL, #Crypto, and relevant keywords like \"bullish,\" \"bearish,\" \"market crash,\" and \"price surge.\" \n",
    "\n",
    "By performing sentiment analysis on these tweets, I aim to quantify public opinion and correlate it with stock price fluctuations. The visualization will display sentiment trends, stock price movements, and trading volume patterns, helping investors and analysts understand how public sentiment influences the market. "
   ]
  },
  {
   "cell_type": "code",
   "execution_count": null,
   "id": "260dcd7c-4ed6-4d62-a615-f58f98628727",
   "metadata": {
    "scrolled": true
   },
   "outputs": [],
   "source": [
    "!pip install tweepy"
   ]
  },
  {
   "cell_type": "markdown",
   "id": "ad087099-5605-4506-a5fd-5b225d300825",
   "metadata": {},
   "source": [
    "### Importing Libraries"
   ]
  },
  {
   "cell_type": "code",
   "execution_count": 1,
   "id": "e68dd128-ff39-4c7d-8509-a7666f4ccc13",
   "metadata": {},
   "outputs": [],
   "source": [
    "import tweepy\n",
    "import pandas as pd"
   ]
  },
  {
   "cell_type": "code",
   "execution_count": 3,
   "id": "ec4aed8c-d5da-473e-b57b-4993972e53bb",
   "metadata": {},
   "outputs": [],
   "source": [
    "bearer_token = 'AAAAAAAAAAAAAAAAAAAAAL0D0AEAAAAAVaybQyI7NZ32U6xwspgMRlsO7V8%3DNuFRl0OYpoIKfLhj0lVQnxMW2xkJufhVUjkbVFyHmkmeZqHIC7'\n",
    "client = tweepy.Client(bearer_token = bearer_token, wait_on_rate_limit = True)"
   ]
  },
  {
   "cell_type": "markdown",
   "id": "472254f9-1633-4a6c-b751-0615d81090c8",
   "metadata": {},
   "source": [
    "### Fetching Tweets From Twitter API"
   ]
  },
  {
   "cell_type": "code",
   "execution_count": null,
   "id": "b6db94c4-c02f-4f1c-be5a-cfb6e2000372",
   "metadata": {},
   "outputs": [
    {
     "name": "stderr",
     "output_type": "stream",
     "text": [
      "Rate limit exceeded. Sleeping for 901 seconds.\n"
     ]
    }
   ],
   "source": [
    "# Define the function to fetch tweets\n",
    "def fetch_tweets(client, query, max_results=10):\n",
    "    tweets = []\n",
    "\n",
    "    # Fetch recent tweets based on the query\n",
    "    response = client.search_recent_tweets(\n",
    "        query = query,\n",
    "        tweet_fields = ['created_at', 'public_metrics', 'author_id', 'text'],\n",
    "        max_results = max_results\n",
    "    )\n",
    "\n",
    "    # Check if the response has data\n",
    "    if response.data:\n",
    "        for tweet in response.data:\n",
    "            tweets.append({\n",
    "                'created_at': tweet.created_at,\n",
    "                'text': tweet.text,\n",
    "                'retweets': tweet.public_metrics['retweet_count'],\n",
    "                'likes': tweet.public_metrics['like_count']\n",
    "            })\n",
    "    # Return a DataFrame with the tweets\n",
    "    return pd.DataFrame(tweets)\n",
    "\n",
    "# Define the query for stock-related tweets\n",
    "query = 'StockMarket'\n",
    "\n",
    "# Fetch tweets and store in a DataFrame\n",
    "tweets_df = fetch_tweets(client,query, max_results = 100)\n",
    "\n",
    "# Check if the DataFrame is empty and print the results\n",
    "#if tweets_df.empty:\n",
    "#    print('No tweets were found for the given query.')\n",
    "#return\n",
    "\n",
    "# Check if the DataFrame is empty and print the results\n",
    "if not tweets_df.empty:\n",
    "    print(tweets_df)\n",
    "else:\n",
    "    print('No tweets were found for the given query.')"
   ]
  },
  {
   "cell_type": "code",
   "execution_count": null,
   "id": "2922877c-9e99-4560-bf96-bf3d89a1cdd6",
   "metadata": {},
   "outputs": [],
   "source": [
    "print(client)"
   ]
  },
  {
   "cell_type": "code",
   "execution_count": null,
   "id": "19aeb1d8-4c32-4c04-bf9e-c2267689c375",
   "metadata": {},
   "outputs": [],
   "source": [
    "tweets_df.to_csv('stockmarket_tweets.csv')"
   ]
  },
  {
   "cell_type": "code",
   "execution_count": 3,
   "id": "d6127afa-2e85-4e52-b0a9-0aca9165cbac",
   "metadata": {},
   "outputs": [
    {
     "name": "stdout",
     "output_type": "stream",
     "text": [
      "    Unnamed: 0                 created_at  \\\n",
      "0            0  2025-04-02 22:08:54+00:00   \n",
      "1            1  2025-04-02 22:07:54+00:00   \n",
      "2            2  2025-04-02 22:07:43+00:00   \n",
      "3            3  2025-04-02 22:07:29+00:00   \n",
      "4            4  2025-04-02 22:06:15+00:00   \n",
      "..         ...                        ...   \n",
      "95          95  2025-04-02 21:29:49+00:00   \n",
      "96          96  2025-04-02 21:29:27+00:00   \n",
      "97          97  2025-04-02 21:29:23+00:00   \n",
      "98          98  2025-04-02 21:29:21+00:00   \n",
      "99          99  2025-04-02 21:29:12+00:00   \n",
      "\n",
      "                                                 text  retweets  likes  \n",
      "0   RT @TheEconomist: Turkey’s economy has taken a...       179      0  \n",
      "1   Digital currencies are literally immune to tar...         0      1  \n",
      "2   RT @zona_inversion: Buenos días 😀,  #reflexion...         6      0  \n",
      "3   JUST IN: 🇺🇸🇨🇳 US raises total tariffs on Chine...         0      0  \n",
      "4   $XAGUSD 1D;\\n\\n\"Finally\" the gold to #silver r...         0      1  \n",
      "..                                                ...       ...    ...  \n",
      "95  Brian Allen: “…[sinister plot of the oligarchs...         0      0  \n",
      "96  RT @PaytmMoney: 📢 Share Market Weekly Update: ...        47      0  \n",
      "97  RT @TheEconomist: Turkey’s economy has taken a...       179      0  \n",
      "98  Just minutes after Trump's announcement about ...         0      1  \n",
      "99  RT @sicksociety69: The #UnitedStates #StockMar...       100      0  \n",
      "\n",
      "[100 rows x 5 columns]\n"
     ]
    }
   ],
   "source": [
    "tweets_df = pd.read_csv('stockmarket_tweets.csv')\n",
    "print(tweets_df)"
   ]
  },
  {
   "cell_type": "markdown",
   "id": "97069c4e-d91f-49b6-9a19-e30530ce3ede",
   "metadata": {},
   "source": [
    "### New Tweets"
   ]
  },
  {
   "cell_type": "code",
   "execution_count": 51,
   "id": "e9c6dc50-ba25-4fb5-bd67-9e1d902b0af8",
   "metadata": {},
   "outputs": [],
   "source": [
    "bearer_token = 'AAAAAAAAAAAAAAAAAAAAAMMD0AEAAAAA%2FqbYiIdC3B67dyznp7CCpNpBtos%3DAVeMW2f10GEj602LQouTebJ600qaeHqaU6FxxsHiCC9sT9Uq7n'\n",
    "client = tweepy.Client(bearer_token = bearer_token, wait_on_rate_limit = True)"
   ]
  },
  {
   "cell_type": "code",
   "execution_count": 65,
   "id": "1fba0ca6-c710-40fc-b7c9-51fb53da1809",
   "metadata": {
    "scrolled": true
   },
   "outputs": [
    {
     "name": "stderr",
     "output_type": "stream",
     "text": [
      "Rate limit exceeded. Sleeping for 444 seconds.\n"
     ]
    },
    {
     "name": "stdout",
     "output_type": "stream",
     "text": [
      "                  created_at  \\\n",
      "0  2025-04-04 20:12:56+00:00   \n",
      "1  2025-04-04 20:12:49+00:00   \n",
      "2  2025-04-04 20:12:46+00:00   \n",
      "3  2025-04-04 20:12:39+00:00   \n",
      "4  2025-04-04 20:12:11+00:00   \n",
      "5  2025-04-04 20:12:10+00:00   \n",
      "6  2025-04-04 20:11:48+00:00   \n",
      "7  2025-04-04 20:11:47+00:00   \n",
      "8  2025-04-04 20:11:46+00:00   \n",
      "9  2025-04-04 20:11:43+00:00   \n",
      "10 2025-04-04 20:11:29+00:00   \n",
      "11 2025-04-04 20:11:20+00:00   \n",
      "12 2025-04-04 20:11:15+00:00   \n",
      "13 2025-04-04 20:11:13+00:00   \n",
      "14 2025-04-04 20:10:12+00:00   \n",
      "15 2025-04-04 20:09:35+00:00   \n",
      "16 2025-04-04 20:09:29+00:00   \n",
      "17 2025-04-04 20:09:28+00:00   \n",
      "18 2025-04-04 20:09:24+00:00   \n",
      "19 2025-04-04 20:09:18+00:00   \n",
      "20 2025-04-04 20:08:51+00:00   \n",
      "21 2025-04-04 20:08:43+00:00   \n",
      "22 2025-04-04 20:08:36+00:00   \n",
      "23 2025-04-04 20:08:23+00:00   \n",
      "24 2025-04-04 20:07:46+00:00   \n",
      "25 2025-04-04 20:07:41+00:00   \n",
      "26 2025-04-04 20:07:25+00:00   \n",
      "27 2025-04-04 20:07:24+00:00   \n",
      "28 2025-04-04 20:07:20+00:00   \n",
      "29 2025-04-04 20:07:20+00:00   \n",
      "30 2025-04-04 20:07:12+00:00   \n",
      "31 2025-04-04 20:06:48+00:00   \n",
      "32 2025-04-04 20:06:29+00:00   \n",
      "33 2025-04-04 20:06:27+00:00   \n",
      "34 2025-04-04 20:06:11+00:00   \n",
      "35 2025-04-04 20:05:48+00:00   \n",
      "36 2025-04-04 20:05:45+00:00   \n",
      "37 2025-04-04 20:05:44+00:00   \n",
      "38 2025-04-04 20:05:32+00:00   \n",
      "39 2025-04-04 20:05:14+00:00   \n",
      "40 2025-04-04 20:05:01+00:00   \n",
      "41 2025-04-04 20:04:54+00:00   \n",
      "42 2025-04-04 20:04:17+00:00   \n",
      "43 2025-04-04 20:04:17+00:00   \n",
      "44 2025-04-04 20:04:06+00:00   \n",
      "45 2025-04-04 20:04:04+00:00   \n",
      "46 2025-04-04 20:04:00+00:00   \n",
      "47 2025-04-04 20:03:50+00:00   \n",
      "48 2025-04-04 20:03:44+00:00   \n",
      "49 2025-04-04 20:03:38+00:00   \n",
      "50 2025-04-04 20:03:36+00:00   \n",
      "51 2025-04-04 20:03:31+00:00   \n",
      "52 2025-04-04 20:03:30+00:00   \n",
      "53 2025-04-04 20:03:25+00:00   \n",
      "54 2025-04-04 20:02:49+00:00   \n",
      "55 2025-04-04 20:02:47+00:00   \n",
      "56 2025-04-04 20:02:45+00:00   \n",
      "57 2025-04-04 20:02:33+00:00   \n",
      "58 2025-04-04 20:02:26+00:00   \n",
      "59 2025-04-04 20:02:14+00:00   \n",
      "\n",
      "                                                 text  retweets  likes  \n",
      "0   Monday Index will hit 10% Circuit 💪\\n\\n#nifty ...         0      0  \n",
      "1   The U.S. stock market has lost $9.6 trillion i...         0      0  \n",
      "2   $AABB going to be the new flight to safety? If...         0      0  \n",
      "3   SPX just logged its worst back-to-back days in...         0      0  \n",
      "4   🚨 BREAKING: The S&amp;P 500 took a massive hit...         0      0  \n",
      "5   NOT FINANCIAL ADVICE 🚫 Find more by link in bi...         0      0  \n",
      "6   Nike stock spikes 5% after Vietnamese leader s...         0      0  \n",
      "7   @WatcherGuru And they said #Bideninflation was...         0      1  \n",
      "8   @unusual_whales 🚨🚨Markets look extremely overs...         0      0  \n",
      "9   The U.S. stock market has lost $10 trillion in...         0      2  \n",
      "10  #stockmarket When measured by PPP, which adjus...         0      1  \n",
      "11  The U.S. stock market has lost $9.6 trillion i...         0      0  \n",
      "12  NASDAQ Index, SP500, Dow Jones Forecasts – Sto...         0      0  \n",
      "13  📉 #StockMarket Wrap-Up Today:\\n 🔹 #DOW -5.5%\\n...         0      0  \n",
      "14  Feeling uncertain about the recent market ups ...         0      0  \n",
      "15  @unusual_whales America voted for @realDonaldT...         0      0  \n",
      "16  Everyone right now\\n\\n#stocks #stockmarket #tr...         0      0  \n",
      "17  Repeating again and again - Believe it or not,...         0      0  \n",
      "18  Tariffs are hitting stocks harder than COVID e...         0      0  \n",
      "19  If this escalation continues, it may even chal...         0      0  \n",
      "20  NFP week final boss #DayTrading #Futures #Stoc...         0      0  \n",
      "21  lets give a listen what they might be thinking...         0      2  \n",
      "22  NASDAQ Index, SP500, Dow Jones Forecasts – Sto...         0      0  \n",
      "23  Stock Market Declines: US stocks saw their big...         0      1  \n",
      "24  NASDAQ Index, SP500, Dow Jones Forecasts – Sto...         0      0  \n",
      "25  @unusual_whales Winning so much you hate winni...         0      0  \n",
      "26  At least $SPX can't possibly close down anothe...         0      1  \n",
      "27  #Tariffs Cause Another #StockMarket #Rout—Loss...         0      0  \n",
      "28  Markets close down again and FOX is doing this...         0      0  \n",
      "29  WORST DAY IN THE US STOCK MARKET SINCE 2020\\n\\...         0      2  \n",
      "30  This is fun 📉 #stockmarket #commodities https:...         0      0  \n",
      "31  What did I wake up to this morning 😠😭 \\n#stock...         0      0  \n",
      "32  Dow drops 2,200 points Friday, S&amp;P 500 los...         0      0  \n",
      "33  One of the major contributors to market melt-d...         0      0  \n",
      "34  Nike stock spikes 5% after Vietnamese leader s...         0      0  \n",
      "35  THE DOW JONES JUST DROPPED BY MORE THAN 1,500 ...         0      3  \n",
      "36  How does losing 10% in your 401k in the last t...         0      0  \n",
      "37  🚨 LIBERATION DAY turned into LIQUIDATION WEEK ...         0      0  \n",
      "38  @RothLindberg Where are those 9 millions now?\\...         0      2  \n",
      "39  @unusual_whales At this point doesn’t matter i...         0      0  \n",
      "40  👇\\n\\r$ATLO $CZFS $FDBC \\n\\rLike 😎 🙏\\n #trading...         0      0  \n",
      "41  Watch the full video on our YouTube channel, t...         0      3  \n",
      "42  So @CBSNews is going to break in with \"breakin...         0      0  \n",
      "43  So many new retail investors can be flooding t...         0      0  \n",
      "44  @unusual_whales Trump’s Tariff Fallout? 📉💸 US ...         0      0  \n",
      "45  Watch the full video on our YouTube channel, t...         0      0  \n",
      "46  💰 80% Gain on #RXRX!\\n\\nRXRX went crazy, and w...         0      0  \n",
      "47  NASDAQ 100 IS OFFICIALLY IN A BEAR MARKET 🐻 Th...         0      1  \n",
      "48  Bought a little bit at the close, but it's adm...         0      0  \n",
      "49  @TradingThomas3 At this point doesn’t matter i...         0      0  \n",
      "50  The Miracle of The Global Structure Network Li...         0      0  \n",
      "51  While the #StockMarket crashes the orange azzh...         0      0  \n",
      "52  💎 $TWOH 💎 $TWOH 💎 $TWOH \\n                   +...         1      3  \n",
      "53  When you look at google trends you pretty quic...         0      0  \n",
      "54  💎 $TWOH 💎 $TWOH 💎 $TWOH \\n                   +...         0      1  \n",
      "55  Can safely say that this is at least a correct...         0      0  \n",
      "56  🚨 Is Trump’s trade war pushing the U.S. toward...         0      2  \n",
      "57  Thanks, Trump!\\n\\nSO MUCH WINNING!\\n\\n#tariffs...         0      1  \n",
      "58  Correction is inevitable ..\\n\\n#BTC \\n#StockMa...         0      2  \n",
      "59  @purplerain116 I own few shares of GME however...         0      1  \n"
     ]
    }
   ],
   "source": [
    "# Define the function to fetch tweets\n",
    "def fetch_tweets(client, query, max_results=60):\n",
    "    tweets = []\n",
    "\n",
    "    # Fetch recent tweets based on the query\n",
    "    response = client.search_recent_tweets(\n",
    "        query=query + \" -is:retweet lang:en\",  # Correct way to add language filter\n",
    "        tweet_fields=['created_at', 'public_metrics', 'author_id', 'text'],\n",
    "        max_results=max_results\n",
    "    )\n",
    "\n",
    "    # Check if the response has data\n",
    "    if response.data:\n",
    "        for tweet in response.data:\n",
    "            tweets.append({\n",
    "                'created_at': tweet.created_at,\n",
    "                'text': tweet.text,\n",
    "                'retweets': tweet.public_metrics['retweet_count'],\n",
    "                'likes': tweet.public_metrics['like_count']\n",
    "            })\n",
    "    \n",
    "    # Return a DataFrame with the tweets\n",
    "    return pd.DataFrame(tweets)\n",
    "\n",
    "# Define the query for stock-related tweets\n",
    "query = \"#StockMarket\"  # Using hashtag for stock-related tweets\n",
    "\n",
    "# Fetch tweets and store in a DataFrame (only retrieving 10 tweets)\n",
    "tweets_df3 = fetch_tweets(client, query, max_results=60)\n",
    "\n",
    "# Check if the DataFrame is empty and print the results\n",
    "if not tweets_df3.empty:\n",
    "    print(tweets_df3)\n",
    "else:\n",
    "    print(\"No tweets were found for the given query.\")\n"
   ]
  },
  {
   "cell_type": "code",
   "execution_count": 59,
   "id": "4740b6ef-c330-43ab-8f89-387dabcfadca",
   "metadata": {},
   "outputs": [
    {
     "name": "stdout",
     "output_type": "stream",
     "text": [
      "                 created_at  \\\n",
      "0 2025-04-04 19:57:44+00:00   \n",
      "1 2025-04-04 19:57:37+00:00   \n",
      "2 2025-04-04 19:57:26+00:00   \n",
      "3 2025-04-04 19:56:59+00:00   \n",
      "4 2025-04-04 19:56:55+00:00   \n",
      "5 2025-04-04 19:56:35+00:00   \n",
      "6 2025-04-04 19:56:16+00:00   \n",
      "7 2025-04-04 19:55:46+00:00   \n",
      "8 2025-04-04 19:55:39+00:00   \n",
      "9 2025-04-04 19:55:30+00:00   \n",
      "\n",
      "                                                text  retweets  likes  \n",
      "0  Let's see how far #Trump non sense will take u...         0      0  \n",
      "1  SINCE TRUMP TOOK OFFICE, THE U.S. STOCK MARKET...         0      1  \n",
      "2  📉 Wall Street just had its worst day since 202...         0      0  \n",
      "3  Results happen over time, not overnight. Work ...         0      0  \n",
      "4  🚨 Amid Trump’s tariffs, U.S. defense stocks li...         0      1  \n",
      "5  @RpsAgainstTrump .-.\\nTRUMP AND THE STOCK MARK...         0      1  \n",
      "6  Coincidence? I don't think so. In the meantime...         0      0  \n",
      "7  Next Friday you’ll be nostalgic about today’s ...         1      1  \n",
      "8  Coincidence? I don't think so. In the meantime...         0      0  \n",
      "9  lol I was right 😅 #stockmarketcrash #StockMark...         0      0  \n"
     ]
    }
   ],
   "source": [
    "print(tweets_df2)"
   ]
  },
  {
   "cell_type": "code",
   "execution_count": 5,
   "id": "d4e9f64a-58e7-4114-8f1e-fa617047e667",
   "metadata": {},
   "outputs": [
    {
     "name": "stdout",
     "output_type": "stream",
     "text": [
      "<tweepy.client.Client object at 0x7ff25a1e2be0>\n"
     ]
    }
   ],
   "source": [
    "print(client)"
   ]
  },
  {
   "cell_type": "code",
   "execution_count": 61,
   "id": "b0174d92-1a18-4665-93c2-c62ab42f9d7b",
   "metadata": {},
   "outputs": [],
   "source": [
    "tweets_df2.to_csv('stockmarket_new_tweets.csv')"
   ]
  },
  {
   "cell_type": "code",
   "execution_count": 63,
   "id": "58019464-afe2-4d6e-a6d2-0a2c0c6a0244",
   "metadata": {},
   "outputs": [
    {
     "name": "stdout",
     "output_type": "stream",
     "text": [
      "   Unnamed: 0                 created_at  \\\n",
      "0           0  2025-04-04 19:57:44+00:00   \n",
      "1           1  2025-04-04 19:57:37+00:00   \n",
      "2           2  2025-04-04 19:57:26+00:00   \n",
      "3           3  2025-04-04 19:56:59+00:00   \n",
      "4           4  2025-04-04 19:56:55+00:00   \n",
      "5           5  2025-04-04 19:56:35+00:00   \n",
      "6           6  2025-04-04 19:56:16+00:00   \n",
      "7           7  2025-04-04 19:55:46+00:00   \n",
      "8           8  2025-04-04 19:55:39+00:00   \n",
      "9           9  2025-04-04 19:55:30+00:00   \n",
      "\n",
      "                                                text  retweets  likes  \n",
      "0  Let's see how far #Trump non sense will take u...         0      0  \n",
      "1  SINCE TRUMP TOOK OFFICE, THE U.S. STOCK MARKET...         0      1  \n",
      "2  📉 Wall Street just had its worst day since 202...         0      0  \n",
      "3  Results happen over time, not overnight. Work ...         0      0  \n",
      "4  🚨 Amid Trump’s tariffs, U.S. defense stocks li...         0      1  \n",
      "5  @RpsAgainstTrump .-.\\nTRUMP AND THE STOCK MARK...         0      1  \n",
      "6  Coincidence? I don't think so. In the meantime...         0      0  \n",
      "7  Next Friday you’ll be nostalgic about today’s ...         1      1  \n",
      "8  Coincidence? I don't think so. In the meantime...         0      0  \n",
      "9  lol I was right 😅 #stockmarketcrash #StockMark...         0      0  \n"
     ]
    }
   ],
   "source": [
    "tweets_df2 = pd.read_csv('stockmarket_new_tweets.csv')\n",
    "print(tweets_df2)"
   ]
  },
  {
   "cell_type": "code",
   "execution_count": 67,
   "id": "7a3edd37-cc88-4d21-84cd-bf77c453b8e5",
   "metadata": {},
   "outputs": [],
   "source": [
    "tweets_df3.to_csv('stockmarket_60new_tweets.csv')"
   ]
  },
  {
   "cell_type": "code",
   "execution_count": 69,
   "id": "fe5a22e7-5832-4797-8d83-0a78d5f4c989",
   "metadata": {
    "scrolled": true
   },
   "outputs": [
    {
     "name": "stdout",
     "output_type": "stream",
     "text": [
      "    Unnamed: 0                 created_at  \\\n",
      "0            0  2025-04-04 20:12:56+00:00   \n",
      "1            1  2025-04-04 20:12:49+00:00   \n",
      "2            2  2025-04-04 20:12:46+00:00   \n",
      "3            3  2025-04-04 20:12:39+00:00   \n",
      "4            4  2025-04-04 20:12:11+00:00   \n",
      "5            5  2025-04-04 20:12:10+00:00   \n",
      "6            6  2025-04-04 20:11:48+00:00   \n",
      "7            7  2025-04-04 20:11:47+00:00   \n",
      "8            8  2025-04-04 20:11:46+00:00   \n",
      "9            9  2025-04-04 20:11:43+00:00   \n",
      "10          10  2025-04-04 20:11:29+00:00   \n",
      "11          11  2025-04-04 20:11:20+00:00   \n",
      "12          12  2025-04-04 20:11:15+00:00   \n",
      "13          13  2025-04-04 20:11:13+00:00   \n",
      "14          14  2025-04-04 20:10:12+00:00   \n",
      "15          15  2025-04-04 20:09:35+00:00   \n",
      "16          16  2025-04-04 20:09:29+00:00   \n",
      "17          17  2025-04-04 20:09:28+00:00   \n",
      "18          18  2025-04-04 20:09:24+00:00   \n",
      "19          19  2025-04-04 20:09:18+00:00   \n",
      "20          20  2025-04-04 20:08:51+00:00   \n",
      "21          21  2025-04-04 20:08:43+00:00   \n",
      "22          22  2025-04-04 20:08:36+00:00   \n",
      "23          23  2025-04-04 20:08:23+00:00   \n",
      "24          24  2025-04-04 20:07:46+00:00   \n",
      "25          25  2025-04-04 20:07:41+00:00   \n",
      "26          26  2025-04-04 20:07:25+00:00   \n",
      "27          27  2025-04-04 20:07:24+00:00   \n",
      "28          28  2025-04-04 20:07:20+00:00   \n",
      "29          29  2025-04-04 20:07:20+00:00   \n",
      "30          30  2025-04-04 20:07:12+00:00   \n",
      "31          31  2025-04-04 20:06:48+00:00   \n",
      "32          32  2025-04-04 20:06:29+00:00   \n",
      "33          33  2025-04-04 20:06:27+00:00   \n",
      "34          34  2025-04-04 20:06:11+00:00   \n",
      "35          35  2025-04-04 20:05:48+00:00   \n",
      "36          36  2025-04-04 20:05:45+00:00   \n",
      "37          37  2025-04-04 20:05:44+00:00   \n",
      "38          38  2025-04-04 20:05:32+00:00   \n",
      "39          39  2025-04-04 20:05:14+00:00   \n",
      "40          40  2025-04-04 20:05:01+00:00   \n",
      "41          41  2025-04-04 20:04:54+00:00   \n",
      "42          42  2025-04-04 20:04:17+00:00   \n",
      "43          43  2025-04-04 20:04:17+00:00   \n",
      "44          44  2025-04-04 20:04:06+00:00   \n",
      "45          45  2025-04-04 20:04:04+00:00   \n",
      "46          46  2025-04-04 20:04:00+00:00   \n",
      "47          47  2025-04-04 20:03:50+00:00   \n",
      "48          48  2025-04-04 20:03:44+00:00   \n",
      "49          49  2025-04-04 20:03:38+00:00   \n",
      "50          50  2025-04-04 20:03:36+00:00   \n",
      "51          51  2025-04-04 20:03:31+00:00   \n",
      "52          52  2025-04-04 20:03:30+00:00   \n",
      "53          53  2025-04-04 20:03:25+00:00   \n",
      "54          54  2025-04-04 20:02:49+00:00   \n",
      "55          55  2025-04-04 20:02:47+00:00   \n",
      "56          56  2025-04-04 20:02:45+00:00   \n",
      "57          57  2025-04-04 20:02:33+00:00   \n",
      "58          58  2025-04-04 20:02:26+00:00   \n",
      "59          59  2025-04-04 20:02:14+00:00   \n",
      "\n",
      "                                                 text  retweets  likes  \n",
      "0   Monday Index will hit 10% Circuit 💪\\n\\n#nifty ...         0      0  \n",
      "1   The U.S. stock market has lost $9.6 trillion i...         0      0  \n",
      "2   $AABB going to be the new flight to safety? If...         0      0  \n",
      "3   SPX just logged its worst back-to-back days in...         0      0  \n",
      "4   🚨 BREAKING: The S&amp;P 500 took a massive hit...         0      0  \n",
      "5   NOT FINANCIAL ADVICE 🚫 Find more by link in bi...         0      0  \n",
      "6   Nike stock spikes 5% after Vietnamese leader s...         0      0  \n",
      "7   @WatcherGuru And they said #Bideninflation was...         0      1  \n",
      "8   @unusual_whales 🚨🚨Markets look extremely overs...         0      0  \n",
      "9   The U.S. stock market has lost $10 trillion in...         0      2  \n",
      "10  #stockmarket When measured by PPP, which adjus...         0      1  \n",
      "11  The U.S. stock market has lost $9.6 trillion i...         0      0  \n",
      "12  NASDAQ Index, SP500, Dow Jones Forecasts – Sto...         0      0  \n",
      "13  📉 #StockMarket Wrap-Up Today:\\n 🔹 #DOW -5.5%\\n...         0      0  \n",
      "14  Feeling uncertain about the recent market ups ...         0      0  \n",
      "15  @unusual_whales America voted for @realDonaldT...         0      0  \n",
      "16  Everyone right now\\n\\n#stocks #stockmarket #tr...         0      0  \n",
      "17  Repeating again and again - Believe it or not,...         0      0  \n",
      "18  Tariffs are hitting stocks harder than COVID e...         0      0  \n",
      "19  If this escalation continues, it may even chal...         0      0  \n",
      "20  NFP week final boss #DayTrading #Futures #Stoc...         0      0  \n",
      "21  lets give a listen what they might be thinking...         0      2  \n",
      "22  NASDAQ Index, SP500, Dow Jones Forecasts – Sto...         0      0  \n",
      "23  Stock Market Declines: US stocks saw their big...         0      1  \n",
      "24  NASDAQ Index, SP500, Dow Jones Forecasts – Sto...         0      0  \n",
      "25  @unusual_whales Winning so much you hate winni...         0      0  \n",
      "26  At least $SPX can't possibly close down anothe...         0      1  \n",
      "27  #Tariffs Cause Another #StockMarket #Rout—Loss...         0      0  \n",
      "28  Markets close down again and FOX is doing this...         0      0  \n",
      "29  WORST DAY IN THE US STOCK MARKET SINCE 2020\\n\\...         0      2  \n",
      "30  This is fun 📉 #stockmarket #commodities https:...         0      0  \n",
      "31  What did I wake up to this morning 😠😭 \\n#stock...         0      0  \n",
      "32  Dow drops 2,200 points Friday, S&amp;P 500 los...         0      0  \n",
      "33  One of the major contributors to market melt-d...         0      0  \n",
      "34  Nike stock spikes 5% after Vietnamese leader s...         0      0  \n",
      "35  THE DOW JONES JUST DROPPED BY MORE THAN 1,500 ...         0      3  \n",
      "36  How does losing 10% in your 401k in the last t...         0      0  \n",
      "37  🚨 LIBERATION DAY turned into LIQUIDATION WEEK ...         0      0  \n",
      "38  @RothLindberg Where are those 9 millions now?\\...         0      2  \n",
      "39  @unusual_whales At this point doesn’t matter i...         0      0  \n",
      "40  👇\\n\\r$ATLO $CZFS $FDBC \\n\\rLike 😎 🙏\\n #trading...         0      0  \n",
      "41  Watch the full video on our YouTube channel, t...         0      3  \n",
      "42  So @CBSNews is going to break in with \"breakin...         0      0  \n",
      "43  So many new retail investors can be flooding t...         0      0  \n",
      "44  @unusual_whales Trump’s Tariff Fallout? 📉💸 US ...         0      0  \n",
      "45  Watch the full video on our YouTube channel, t...         0      0  \n",
      "46  💰 80% Gain on #RXRX!\\n\\nRXRX went crazy, and w...         0      0  \n",
      "47  NASDAQ 100 IS OFFICIALLY IN A BEAR MARKET 🐻 Th...         0      1  \n",
      "48  Bought a little bit at the close, but it's adm...         0      0  \n",
      "49  @TradingThomas3 At this point doesn’t matter i...         0      0  \n",
      "50  The Miracle of The Global Structure Network Li...         0      0  \n",
      "51  While the #StockMarket crashes the orange azzh...         0      0  \n",
      "52  💎 $TWOH 💎 $TWOH 💎 $TWOH \\n                   +...         1      3  \n",
      "53  When you look at google trends you pretty quic...         0      0  \n",
      "54  💎 $TWOH 💎 $TWOH 💎 $TWOH \\n                   +...         0      1  \n",
      "55  Can safely say that this is at least a correct...         0      0  \n",
      "56  🚨 Is Trump’s trade war pushing the U.S. toward...         0      2  \n",
      "57  Thanks, Trump!\\n\\nSO MUCH WINNING!\\n\\n#tariffs...         0      1  \n",
      "58  Correction is inevitable ..\\n\\n#BTC \\n#StockMa...         0      2  \n",
      "59  @purplerain116 I own few shares of GME however...         0      1  \n"
     ]
    }
   ],
   "source": [
    "tweets_df3 = pd.read_csv('stockmarket_60new_tweets.csv')\n",
    "print(tweets_df3)"
   ]
  },
  {
   "cell_type": "markdown",
   "id": "8184da99-e975-472c-963c-99e45cd764f3",
   "metadata": {},
   "source": [
    "### Merging Tweet Datasets"
   ]
  },
  {
   "cell_type": "code",
   "execution_count": 3,
   "id": "7ff6c2db-130e-44d7-bcb9-2e31659bdc0d",
   "metadata": {},
   "outputs": [],
   "source": [
    "tweets_df = pd.read_csv('stockmarket_tweets.csv')\n",
    "tweets_df2 = pd.read_csv('stockmarket_new_tweets.csv')\n",
    "tweets_df3 = pd.read_csv('stockmarket_60new_tweets.csv')\n",
    "tweets_df4 = pd.read_csv('stock_tweets.csv')\n",
    "\n",
    "# Combine them into a single DataFrame\n",
    "combined_tweets_df = pd.concat([tweets_df, tweets_df2, tweets_df3, tweets_df4], ignore_index=True)"
   ]
  },
  {
   "cell_type": "code",
   "execution_count": 5,
   "id": "c5d1ea3b-a5ad-461f-855d-171ed3d95854",
   "metadata": {},
   "outputs": [
    {
     "name": "stdout",
     "output_type": "stream",
     "text": [
      "   Unnamed: 0                 created_at  \\\n",
      "0           0  2025-04-02 22:08:54+00:00   \n",
      "1           1  2025-04-02 22:07:54+00:00   \n",
      "2           2  2025-04-02 22:07:43+00:00   \n",
      "3           3  2025-04-02 22:07:29+00:00   \n",
      "4           4  2025-04-02 22:06:15+00:00   \n",
      "\n",
      "                                                text  retweets  likes  \n",
      "0  RT @TheEconomist: Turkey’s economy has taken a...       179      0  \n",
      "1  Digital currencies are literally immune to tar...         0      1  \n",
      "2  RT @zona_inversion: Buenos días 😀,  #reflexion...         6      0  \n",
      "3  JUST IN: 🇺🇸🇨🇳 US raises total tariffs on Chine...         0      0  \n",
      "4  $XAGUSD 1D;\\n\\n\"Finally\" the gold to #silver r...         0      1  \n"
     ]
    }
   ],
   "source": [
    "print(combined_tweets_df.head())"
   ]
  },
  {
   "cell_type": "markdown",
   "id": "b7555ba6-bad2-4570-8479-115e15ebf3ea",
   "metadata": {},
   "source": [
    "### Removing Duplicate Tweets"
   ]
  },
  {
   "cell_type": "code",
   "execution_count": 6,
   "id": "e4bf33a3-b862-41fb-83d8-a392b3a15609",
   "metadata": {},
   "outputs": [],
   "source": [
    "# Remove duplicates\n",
    "combined_tweets_df.drop_duplicates(inplace=True)"
   ]
  },
  {
   "cell_type": "code",
   "execution_count": 8,
   "id": "d6b1f238-478e-471b-9574-ece0817ceea2",
   "metadata": {},
   "outputs": [
    {
     "name": "stdout",
     "output_type": "stream",
     "text": [
      "(180, 5)\n"
     ]
    }
   ],
   "source": [
    "# Save to new CSV (optional)\n",
    "combined_tweets_df.to_csv(\"all_stock_tweets_API.csv\", index=False)\n",
    "\n",
    "# Check result\n",
    "print(combined_tweets_df.shape)"
   ]
  },
  {
   "cell_type": "markdown",
   "id": "bf8117c8-f5b9-4563-839f-5f95a68a8c21",
   "metadata": {},
   "source": [
    "### Most Frequent Words Before Cleaning "
   ]
  },
  {
   "cell_type": "code",
   "execution_count": 12,
   "id": "af03128b-74a5-4925-bfbc-a542c297b253",
   "metadata": {},
   "outputs": [
    {
     "name": "stdout",
     "output_type": "stream",
     "text": [
      "Most common words: [('the', 126), ('#StockMarket', 113), ('and', 59), ('a', 51), ('to', 50), ('in', 46), ('is', 44), ('of', 42), ('RT', 36), ('on', 29), ('#stockmarket', 27), ('are', 25), ('#stockmarketcrash', 24), ('The', 22), ('#tariffs', 21), ('-', 21), ('market', 21), ('for', 20), ('stock', 20), ('you', 19)]\n"
     ]
    }
   ],
   "source": [
    "from collections import Counter\n",
    "word_freq = Counter(\" \".join(combined_tweets_df[\"text\"]).split())\n",
    "print(\"Most common words:\", word_freq.most_common(20))"
   ]
  },
  {
   "cell_type": "code",
   "execution_count": null,
   "id": "85b9ebd7-af4a-4b7e-98e3-69a4ef9e70f4",
   "metadata": {
    "scrolled": true
   },
   "outputs": [],
   "source": [
    "pip install textblob"
   ]
  },
  {
   "cell_type": "markdown",
   "id": "800043a6-20a4-43d8-87ec-a6c18ee3a1ac",
   "metadata": {},
   "source": [
    "### Sentiment Analysis"
   ]
  },
  {
   "cell_type": "code",
   "execution_count": 24,
   "id": "1ff01326-ed33-4562-a3a9-7874de1bff41",
   "metadata": {},
   "outputs": [
    {
     "name": "stderr",
     "output_type": "stream",
     "text": [
      "/Users/simrannayak/opt/anaconda3/lib/python3.9/site-packages/scipy/__init__.py:146: UserWarning: A NumPy version >=1.16.5 and <1.23.0 is required for this version of SciPy (detected version 1.26.4\n",
      "  warnings.warn(f\"A NumPy version >={np_minversion} and <{np_maxversion}\"\n"
     ]
    },
    {
     "name": "stdout",
     "output_type": "stream",
     "text": [
      "count    180.000000\n",
      "mean       0.038649\n",
      "std        0.242418\n",
      "min       -1.000000\n",
      "25%        0.000000\n",
      "50%        0.000000\n",
      "75%        0.105903\n",
      "max        1.000000\n",
      "Name: Sentiment, dtype: float64\n"
     ]
    }
   ],
   "source": [
    "from textblob import TextBlob\n",
    "\n",
    "combined_tweets_df[\"Sentiment\"] = combined_tweets_df[\"text\"].apply(lambda x: TextBlob(x).sentiment.polarity)\n",
    "print(combined_tweets_df[\"Sentiment\"].describe())"
   ]
  },
  {
   "cell_type": "markdown",
   "id": "da7d0595-ef9b-4131-b9e0-ebeac7c4610f",
   "metadata": {},
   "source": [
    "### Cleaning Text"
   ]
  },
  {
   "cell_type": "markdown",
   "id": "379d80db-7a2b-43b5-8f3c-618e750ac1a4",
   "metadata": {
    "jp-MarkdownHeadingCollapsed": true
   },
   "source": [
    "**For Cleaning Text:**\n",
    "- **http\\S+**: Removes URLs\n",
    "- **@\\S+**: Removes mentions\n",
    "- **#\\S+**: Removes hashtags\n",
    "- **[^A-Za-z0-9 ]+**: Removes special characters\n",
    "- **.lower()**: Converts text to lowercase\n",
    "- **Removing Stopwords**: \"the\", \"is\", \"and\"\n",
    "- **Lemmatization**: \"running\" → \"run\""
   ]
  },
  {
   "cell_type": "markdown",
   "id": "b0677e00-81ca-4d8b-afa6-36a69d7ba774",
   "metadata": {},
   "source": [
    "In financial or stock-related tweets, $AAPL, $SPY, or #stocks are important. Removing these symbols would result in losing the meaning of stock references or hashtags that could be key to your analysis."
   ]
  },
  {
   "cell_type": "code",
   "execution_count": 28,
   "id": "ecfad60e-50b4-41b9-a865-a7282fd4f769",
   "metadata": {},
   "outputs": [
    {
     "name": "stderr",
     "output_type": "stream",
     "text": [
      "[nltk_data] Downloading package stopwords to\n",
      "[nltk_data]     /Users/simrannayak/nltk_data...\n",
      "[nltk_data]   Package stopwords is already up-to-date!\n",
      "[nltk_data] Downloading package wordnet to\n",
      "[nltk_data]     /Users/simrannayak/nltk_data...\n",
      "[nltk_data]   Package wordnet is already up-to-date!\n"
     ]
    },
    {
     "data": {
      "text/plain": [
       "True"
      ]
     },
     "execution_count": 28,
     "metadata": {},
     "output_type": "execute_result"
    }
   ],
   "source": [
    "# Download necessary NLTK resources\n",
    "import nltk\n",
    "nltk.download('stopwords')\n",
    "nltk.download('wordnet')"
   ]
  },
  {
   "cell_type": "markdown",
   "id": "e4d3b25a-829f-4653-bcb8-38ec9611d4d1",
   "metadata": {},
   "source": [
    "In financial or stock-related tweets, $AAPL, $SPY, or #stocks are important. Removing these symbols would result in losing the meaning of stock references or hashtags that could be key to your analysis.\n"
   ]
  },
  {
   "cell_type": "markdown",
   "id": "3e867ba0-523c-40a9-977f-b770420bbaa7",
   "metadata": {},
   "source": [
    "### Text Cleaning Without Removing '$' and '#'"
   ]
  },
  {
   "cell_type": "code",
   "execution_count": 14,
   "id": "8af086f2-c15c-4d59-9d3a-22a614d17422",
   "metadata": {
    "scrolled": true
   },
   "outputs": [
    {
     "name": "stderr",
     "output_type": "stream",
     "text": [
      "/Users/simrannayak/opt/anaconda3/lib/python3.9/site-packages/scipy/__init__.py:146: UserWarning: A NumPy version >=1.16.5 and <1.23.0 is required for this version of SciPy (detected version 1.26.4\n",
      "  warnings.warn(f\"A NumPy version >={np_minversion} and <{np_maxversion}\"\n"
     ]
    },
    {
     "name": "stdout",
     "output_type": "stream",
     "text": [
      "                                                 text  \\\n",
      "0   RT @TheEconomist: Turkey’s economy has taken a...   \n",
      "1   Digital currencies are literally immune to tar...   \n",
      "2   RT @zona_inversion: Buenos días 😀,  #reflexion...   \n",
      "3   JUST IN: 🇺🇸🇨🇳 US raises total tariffs on Chine...   \n",
      "4   $XAGUSD 1D;\\n\\n\"Finally\" the gold to #silver r...   \n",
      "5   RT @TheEconomist: Turkey’s economy has taken a...   \n",
      "6   في الربع الأول من 2025، كانت أسهم iBio، Inc. م...   \n",
      "7   Markets are rattled, sentiment is low — and th...   \n",
      "8   RT @uselinkinv: $XAUXAG 1D;\\n\\nPretty nasty ca...   \n",
      "9   $SPY futures gap down on the open following th...   \n",
      "10  RT @AustinBrother84: #LuxuryRealEstate #Luxury...   \n",
      "11  $SPY futures gap down on the open following th...   \n",
      "12  $ES_f SOC 5705.75 #stockmarketcrash #StockMark...   \n",
      "13  Tariffs are taxes on imported goods that can d...   \n",
      "14  RT @Thestocksmarket: Fundamental Strong Stocks...   \n",
      "15  Top losers today 📉😩\\n\\n$NCNO nCino, Inc. ($22....   \n",
      "16  🚨📣 #insidertrading Cohen Barry F bought $29.8K...   \n",
      "17  عانت شركة Eaton Corp PLC من تراجع حاد في قيمته...   \n",
      "18  Comment “X” and I’ll send you the free trainin...   \n",
      "19  For full list go to https://t.co/7qw3fSUUgj\\n\\...   \n",
      "\n",
      "                                           clean_text  \n",
      "0   rt turkey’s economy taken hit result ongoing p...  \n",
      "1   digital currency literally immune tariff ppl s...  \n",
      "2   rt buenos días 😀 #reflexion bursátil la #bolsa...  \n",
      "3   🇺🇸🇨🇳 u raise total tariff chinese good tariff ...  \n",
      "4   $xagusd finally gold #silver ratio broke upsid...  \n",
      "5   rt turkey’s economy taken hit result ongoing p...  \n",
      "6   في الربع الأول من ، كانت أسهم ibio، inc من بين...  \n",
      "7   market rattled sentiment low — that’s real opp...  \n",
      "8   rt $xauxag pretty nasty candle #gold #silver r...  \n",
      "9   $spy future gap open following #tariffs announ...  \n",
      "10  rt #luxuryrealestate #luxurytraveling #luxuryy...  \n",
      "11  $spy future gap open following #tariffs announ...  \n",
      "12    $esf soc #stockmarketcrash #stockmarket #stocks  \n",
      "13  tariff tax imported good drive price reduce tr...  \n",
      "14  rt fundamental strong stock discounted price 💸...  \n",
      "15  top loser today 📉😩 $ncno ncino inc $ $cort cor...  \n",
      "16  🚨📣 #insidertrading cohen barry f bought $ $ssi...  \n",
      "17  عانت شركة eaton corp plc من تراجع حاد في قيمته...  \n",
      "18  comment “x” i’ll send free training… strategy ...  \n",
      "19  full list go dont forget give u follow latest ...  \n"
     ]
    }
   ],
   "source": [
    "# Without Removing '$' and '#' \n",
    "import re\n",
    "import nltk\n",
    "import string\n",
    "from nltk.corpus import stopwords\n",
    "from nltk.stem import WordNetLemmatizer\n",
    "\n",
    "# Function to clean text\n",
    "def clean_text(text):\n",
    "    # Convert to lowercase\n",
    "    text = text.lower()\n",
    "\n",
    "    # Remove URLs and mentions, but preserve hashtags (#) and dollar signs ($)\n",
    "    text = re.sub(r'http\\S+|www\\.\\S+|@\\S+', '', text)  # Remove URLs and mentions, keep hashtags and $tickers\n",
    "\n",
    "    # Remove HTML tags (do not remove hashtags and $tickers)\n",
    "    text = re.sub(r'<.*?>', '', text)\n",
    "\n",
    "    # Remove punctuation (but keep hashtags and $tickers intact)\n",
    "    text = text.translate(str.maketrans('', '', string.punctuation.replace('#', '').replace('$', '')))\n",
    "\n",
    "    # Remove numbers and words with numbers, except for stock tickers\n",
    "    text = re.sub(r'\\w*\\d\\w*', '', text)\n",
    "\n",
    "    # Remove extra whitespaces and newlines\n",
    "    text = re.sub(r'\\s+', ' ', text).strip()\n",
    "\n",
    "    # Tokenization and stopword removal\n",
    "    stop_words = set(stopwords.words('english'))\n",
    "    words = text.split()\n",
    "    \n",
    "    # Preserve words starting with # or $ (for stock tickers and hashtags)\n",
    "    words = [word for word in words if word not in stop_words or word.startswith(('#', '$'))]\n",
    "\n",
    "    # Lemmatization\n",
    "    lemmatizer = WordNetLemmatizer()\n",
    "    words = [lemmatizer.lemmatize(word) for word in words]\n",
    "\n",
    "    return ' '.join(words)\n",
    "\n",
    "# Example Usage\n",
    "# Applying the clean_text function to each tweet in the 'text' column\n",
    "combined_tweets_df[\"clean_text\"] = combined_tweets_df[\"text\"].apply(clean_text)\n",
    "\n",
    "# Print the cleaned text of the first 20 rows\n",
    "print(combined_tweets_df[[\"text\", \"clean_text\"]].head(20))\n"
   ]
  },
  {
   "cell_type": "markdown",
   "id": "8b96bb4f-33b6-4999-bdaf-b3dbe1f6f8e2",
   "metadata": {},
   "source": [
    "### Cleaned Text File"
   ]
  },
  {
   "cell_type": "code",
   "execution_count": 16,
   "id": "dca7b797-6daf-4c60-b4df-3f4294c3d103",
   "metadata": {},
   "outputs": [
    {
     "name": "stdout",
     "output_type": "stream",
     "text": [
      "Cleaned text saved to 'stockmarket_cleanedtext.csv'\n"
     ]
    }
   ],
   "source": [
    "# Save the cleaned text to a CSV file\n",
    "combined_tweets_df[[\"clean_text\"]].to_csv(\"stockmarket_cleanedtext.csv\", index=False)\n",
    "\n",
    "print(\"Cleaned text saved to 'stockmarket_cleanedtext.csv'\")"
   ]
  },
  {
   "cell_type": "markdown",
   "id": "2aebe7fd-ab16-4752-8a44-ebd7454f1ea7",
   "metadata": {},
   "source": [
    "### Most Frequent Words After Cleaning"
   ]
  },
  {
   "cell_type": "code",
   "execution_count": 19,
   "id": "c614d970-5bc2-416e-9110-18f3c69003f4",
   "metadata": {},
   "outputs": [
    {
     "name": "stdout",
     "output_type": "stream",
     "text": [
      "Most common words: [('#stockmarket', 145), ('stock', 45), ('market', 44), ('rt', 36), ('#tariffs', 35), ('#stocks', 28), ('$', 28), ('u', 24), ('#stockmarketcrash', 24), ('#investing', 23), ('tariff', 21), ('#trump', 21), ('trump', 20), ('#trading', 19), ('#bitcoin', 16), ('#trumptariffs', 16), ('#crypto', 15), ('day', 14), ('#gold', 12), ('#', 12)]\n"
     ]
    }
   ],
   "source": [
    "from collections import Counter\n",
    "word_freq = Counter(\" \".join(combined_tweets_df[\"clean_text\"]).split())\n",
    "most_common_words = word_freq.most_common(20)\n",
    "print(\"Most common words:\", most_common_words)"
   ]
  },
  {
   "cell_type": "markdown",
   "id": "7d911b14-58d8-4fc8-bf78-07c0e1a7a47c",
   "metadata": {},
   "source": [
    "### Visualization using Most Frequent Words"
   ]
  },
  {
   "cell_type": "code",
   "execution_count": 23,
   "id": "d37bcbc2-76e2-425a-a864-d631faa3c60c",
   "metadata": {},
   "outputs": [
    {
     "data": {
      "image/png": "[encoded data removed]",
      "text/plain": [
       "<Figure size 864x432 with 1 Axes>"
      ]
     },
     "metadata": {
      "needs_background": "light"
     },
     "output_type": "display_data"
    }
   ],
   "source": [
    "import matplotlib.pyplot as plt\n",
    "import seaborn as sns\n",
    "\n",
    "# Convert to DataFrame for plotting\n",
    "freq_df = pd.DataFrame(most_common_words, columns=['word', 'count'])\n",
    "\n",
    "# Plotting\n",
    "plt.figure(figsize=(12, 6))\n",
    "sns.barplot(x='count', y='word', data=freq_df, palette='viridis')\n",
    "plt.title(\"Top 20 Most Frequent Words in Tweets\")\n",
    "plt.xlabel(\"Frequency\")\n",
    "plt.ylabel(\"Word\")\n",
    "plt.tight_layout()\n",
    "plt.show()\n"
   ]
  },
  {
   "cell_type": "markdown",
   "id": "468132de-12b9-47df-bd08-c21fc1de2b35",
   "metadata": {},
   "source": [
    "### Wordcloud\n"
   ]
  },
  {
   "cell_type": "code",
   "execution_count": 37,
   "id": "ce6335d2-c6bd-4301-8e7b-159e513253db",
   "metadata": {
    "scrolled": true
   },
   "outputs": [
    {
     "name": "stdout",
     "output_type": "stream",
     "text": [
      "Requirement already satisfied: wordcloud in /Users/simrannayak/opt/anaconda3/lib/python3.9/site-packages (1.9.4)\n",
      "Requirement already satisfied: numpy>=1.6.1 in /Users/simrannayak/opt/anaconda3/lib/python3.9/site-packages (from wordcloud) (1.26.4)\n",
      "Requirement already satisfied: pillow in /Users/simrannayak/opt/anaconda3/lib/python3.9/site-packages (from wordcloud) (8.4.0)\n",
      "Requirement already satisfied: matplotlib in /Users/simrannayak/opt/anaconda3/lib/python3.9/site-packages (from wordcloud) (3.4.3)\n",
      "Requirement already satisfied: cycler>=0.10 in /Users/simrannayak/opt/anaconda3/lib/python3.9/site-packages (from matplotlib->wordcloud) (0.10.0)\n",
      "Requirement already satisfied: kiwisolver>=1.0.1 in /Users/simrannayak/opt/anaconda3/lib/python3.9/site-packages (from matplotlib->wordcloud) (1.3.1)\n",
      "Requirement already satisfied: pyparsing>=2.2.1 in /Users/simrannayak/opt/anaconda3/lib/python3.9/site-packages (from matplotlib->wordcloud) (3.0.4)\n",
      "Requirement already satisfied: python-dateutil>=2.7 in /Users/simrannayak/opt/anaconda3/lib/python3.9/site-packages (from matplotlib->wordcloud) (2.8.2)\n",
      "Requirement already satisfied: six in /Users/simrannayak/opt/anaconda3/lib/python3.9/site-packages (from cycler>=0.10->matplotlib->wordcloud) (1.16.0)\n",
      "\u001b[33mWARNING: Error parsing dependencies of pyodbc: Invalid version: '4.0.0-unsupported'\u001b[0m\u001b[33m\n",
      "\u001b[0m\u001b[31mERROR: Exception:\n",
      "Traceback (most recent call last):\n",
      "  File \"/Users/simrannayak/opt/anaconda3/lib/python3.9/site-packages/pip/_internal/cli/base_command.py\", line 106, in _run_wrapper\n",
      "    status = _inner_run()\n",
      "  File \"/Users/simrannayak/opt/anaconda3/lib/python3.9/site-packages/pip/_internal/cli/base_command.py\", line 97, in _inner_run\n",
      "    return self.run(options, args)\n",
      "  File \"/Users/simrannayak/opt/anaconda3/lib/python3.9/site-packages/pip/_internal/cli/req_command.py\", line 67, in wrapper\n",
      "    return func(self, options, args)\n",
      "  File \"/Users/simrannayak/opt/anaconda3/lib/python3.9/site-packages/pip/_internal/commands/install.py\", line 484, in run\n",
      "    installed_versions[distribution.canonical_name] = distribution.version\n",
      "  File \"/Users/simrannayak/opt/anaconda3/lib/python3.9/site-packages/pip/_internal/metadata/pkg_resources.py\", line 192, in version\n",
      "    return parse_version(self._dist.version)\n",
      "  File \"/Users/simrannayak/opt/anaconda3/lib/python3.9/site-packages/pip/_vendor/packaging/version.py\", line 56, in parse\n",
      "    return Version(version)\n",
      "  File \"/Users/simrannayak/opt/anaconda3/lib/python3.9/site-packages/pip/_vendor/packaging/version.py\", line 202, in __init__\n",
      "    raise InvalidVersion(f\"Invalid version: {version!r}\")\n",
      "pip._vendor.packaging.version.InvalidVersion: Invalid version: '4.0.0-unsupported'\u001b[0m\u001b[31m\n",
      "\u001b[0m"
     ]
    }
   ],
   "source": [
    "!pip install wordcloud"
   ]
  },
  {
   "cell_type": "code",
   "execution_count": null,
   "id": "0f25b577-182f-4f85-8217-d2c7d2337b8f",
   "metadata": {
    "scrolled": true
   },
   "outputs": [],
   "source": [
    "# Will Work in Google Colab\n",
    "from wordcloud import WordCloud\n",
    "import matplotlib.pyplot as plt\n",
    "\n",
    "# Combine all the clean tweets into one big string\n",
    "text = \" \".join(combined_tweets_df[\"clean_text\"])\n",
    "\n",
    "# Create the WordCloud object\n",
    "wordcloud = WordCloud(\n",
    "    width=800, \n",
    "    height=400,\n",
    "    background_color='white',\n",
    "    colormap='viridis',     # Optional: choose any matplotlib colormap\n",
    "    max_words=100           # Adjust for more/less words\n",
    ").generate(text)\n",
    "\n",
    "# Plot it\n",
    "plt.figure(figsize=(12, 6))\n",
    "plt.imshow(wordcloud, interpolation='bilinear')\n",
    "plt.axis('off')\n",
    "plt.title(\"Word Cloud of Most Frequent Words in Tweets\", fontsize=16)\n",
    "plt.tight_layout()\n",
    "plt.show()"
   ]
  },
  {
   "cell_type": "code",
   "execution_count": null,
   "id": "a66f3962-59d9-477f-b778-27d05ed7121f",
   "metadata": {
    "scrolled": true
   },
   "outputs": [],
   "source": [
    "# Will Work in Google Colab\n",
    "from wordcloud import WordCloud\n",
    "import matplotlib.pyplot as plt\n",
    "\n",
    "# Generate the word cloud\n",
    "wordcloud = WordCloud(width=800, height=400).generate(\" \".join(combined_tweets_df[\"clean_text\"]))\n",
    "\n",
    "# Plot the word cloud image\n",
    "plt.imshow(wordcloud, interpolation=\"bilinear\")\n",
    "plt.title(\"Word Cloud of Most Frequent Words in Tweets\", fontsize=12)\n",
    "plt.axis('off')  # Hide axes for better display\n",
    "plt.show()\n"
   ]
  },
  {
   "cell_type": "markdown",
   "id": "285bc9bd-d992-4483-9ab9-d5f461c4f761",
   "metadata": {},
   "source": [
    "### Text Cleaning Removing '$' and '#'"
   ]
  },
  {
   "cell_type": "code",
   "execution_count": 32,
   "id": "15ab5e4c-f276-4f02-9b81-f13640bb1f8f",
   "metadata": {
    "scrolled": true
   },
   "outputs": [
    {
     "name": "stdout",
     "output_type": "stream",
     "text": [
      "                                                 text  \\\n",
      "0   RT @TheEconomist: Turkey’s economy has taken a...   \n",
      "1   Digital currencies are literally immune to tar...   \n",
      "2   RT @zona_inversion: Buenos días 😀,  #reflexion...   \n",
      "3   JUST IN: 🇺🇸🇨🇳 US raises total tariffs on Chine...   \n",
      "4   $XAGUSD 1D;\\n\\n\"Finally\" the gold to #silver r...   \n",
      "5   RT @TheEconomist: Turkey’s economy has taken a...   \n",
      "6   في الربع الأول من 2025، كانت أسهم iBio، Inc. م...   \n",
      "7   Markets are rattled, sentiment is low — and th...   \n",
      "8   RT @uselinkinv: $XAUXAG 1D;\\n\\nPretty nasty ca...   \n",
      "9   $SPY futures gap down on the open following th...   \n",
      "10  RT @AustinBrother84: #LuxuryRealEstate #Luxury...   \n",
      "11  $SPY futures gap down on the open following th...   \n",
      "12  $ES_f SOC 5705.75 #stockmarketcrash #StockMark...   \n",
      "13  Tariffs are taxes on imported goods that can d...   \n",
      "14  RT @Thestocksmarket: Fundamental Strong Stocks...   \n",
      "15  Top losers today 📉😩\\n\\n$NCNO nCino, Inc. ($22....   \n",
      "16  🚨📣 #insidertrading Cohen Barry F bought $29.8K...   \n",
      "17  عانت شركة Eaton Corp PLC من تراجع حاد في قيمته...   \n",
      "18  Comment “X” and I’ll send you the free trainin...   \n",
      "19  For full list go to https://t.co/7qw3fSUUgj\\n\\...   \n",
      "\n",
      "                                           clean_text  \n",
      "0   rt turkey’s economy taken hit result ongoing p...  \n",
      "1   digital currency literally immune tariff ppl s...  \n",
      "2                   rt buenos días 😀 bursátil la la 🌎  \n",
      "3   🇺🇸🇨🇳 u raise total tariff chinese good tariff ...  \n",
      "4   xagusd finally gold ratio broke upside good ba...  \n",
      "5   rt turkey’s economy taken hit result ongoing p...  \n",
      "6   في الربع الأول من ، كانت أسهم ibio، inc من بين...  \n",
      "7   market rattled sentiment low — that’s real opp...  \n",
      "8   rt xauxag pretty nasty candle ratio gdx gdxj s...  \n",
      "9   spy future gap open following announcement bul...  \n",
      "10                                                 rt  \n",
      "11  spy future gap open following announcement bul...  \n",
      "12                                            esf soc  \n",
      "13  tariff tax imported good drive price reduce tr...  \n",
      "14    rt fundamental strong stock discounted price 💸📈  \n",
      "15  top loser today 📉😩 ncno ncino inc cort corcept...  \n",
      "16  🚨📣 cohen barry f bought ssii insider performan...  \n",
      "17  عانت شركة eaton corp plc من تراجع حاد في قيمته...  \n",
      "18  comment “x” i’ll send free training… strategy ...  \n",
      "19  full list go dont forget give u follow latest ...  \n"
     ]
    },
    {
     "name": "stderr",
     "output_type": "stream",
     "text": [
      "[nltk_data] Downloading package stopwords to\n",
      "[nltk_data]     /Users/simrannayak/nltk_data...\n",
      "[nltk_data]   Package stopwords is already up-to-date!\n",
      "[nltk_data] Downloading package wordnet to\n",
      "[nltk_data]     /Users/simrannayak/nltk_data...\n",
      "[nltk_data]   Package wordnet is already up-to-date!\n"
     ]
    }
   ],
   "source": [
    "# Removing '$' and '#' \n",
    "import re\n",
    "import nltk\n",
    "from nltk.corpus import stopwords\n",
    "from nltk.stem import WordNetLemmatizer\n",
    "import pandas as pd\n",
    "import string\n",
    "\n",
    "# Download NLTK resources (if not already downloaded)\n",
    "nltk.download('stopwords')\n",
    "nltk.download('wordnet')\n",
    "\n",
    "# Function to clean text\n",
    "def clean_text(text):\n",
    "    # Convert to lowercase\n",
    "    text = text.lower()\n",
    "\n",
    "    # Remove URLs, mentions, and HTML tags \n",
    "    text = re.sub(r'http\\S+|www\\.\\S+|@\\S+', '', text)\n",
    "    text = re.sub(r'<.*?>+', '', text)\n",
    "\n",
    "    # Remove punctuation\n",
    "    text = text.translate(str.maketrans('', '', string.punctuation))\n",
    "\n",
    "    # Remove numbers and words with numbers\n",
    "    text = re.sub(r'\\w*\\d\\w*', '', text)\n",
    "\n",
    "    # Remove extra whitespaces and newlines\n",
    "    text = re.sub(r'\\s+', ' ', text).strip()\n",
    "\n",
    "    # Tokenization and stopword removal\n",
    "    stop_words = set(stopwords.words('english'))\n",
    "    words = text.split()\n",
    "    words = [word for word in words if word not in stop_words]\n",
    "\n",
    "    # Lemmatization\n",
    "    lemmatizer = WordNetLemmatizer()\n",
    "    words = [lemmatizer.lemmatize(word) for word in words]\n",
    "\n",
    "    return ' '.join(words)\n",
    "\n",
    "# Applying the clean_text function to each tweet in the 'text' column\n",
    "combined_tweets_df[\"clean_text\"] = combined_tweets_df[\"text\"].apply(clean_text)\n",
    "\n",
    "# Print the cleaned text of the first 5 rows\n",
    "print(combined_tweets_df[[\"text\", \"clean_text\"]].head(20))"
   ]
  },
  {
   "cell_type": "code",
   "execution_count": null,
   "id": "11c6d752-b1bd-4d62-8c7d-e074ac116065",
   "metadata": {},
   "outputs": [],
   "source": [
    "# Save the cleaned text to a CSV file\n",
    "tweets_df[[\"clean_text\"]].to_csv(\"stockmarket_cleantext.csv\", index=False)\n",
    "\n",
    "print(\"Cleaned text saved to 'stockmarket_cleantext.csv'\")"
   ]
  },
  {
   "cell_type": "code",
   "execution_count": 46,
   "id": "5e172a8d-f0cc-44d2-b8e5-a5e49356689f",
   "metadata": {},
   "outputs": [
    {
     "name": "stdout",
     "output_type": "stream",
     "text": [
      "                                                text  \\\n",
      "0  RT @TheEconomist: Turkey’s economy has taken a...   \n",
      "1  Digital currencies are literally immune to tar...   \n",
      "2  RT @zona_inversion: Buenos días 😀,  #reflexion...   \n",
      "3  JUST IN: 🇺🇸🇨🇳 US raises total tariffs on Chine...   \n",
      "4  $XAGUSD 1D;\\n\\n\"Finally\" the gold to #silver r...   \n",
      "\n",
      "                                          clean_text  \n",
      "0  rt turkey economy taken hit result ongoing pro...  \n",
      "1  digital currency literally immune tariff ppl s...  \n",
      "2                    rt buenos da burstil la la zona  \n",
      "3  u raise total tariff chinese good 54this tarif...  \n",
      "4  xagusd 1dfinally gold ratio broke upsidethis g...  \n"
     ]
    }
   ],
   "source": [
    "# Removing Emojis \n",
    "import re\n",
    "import nltk\n",
    "from nltk.corpus import stopwords\n",
    "from nltk.stem import WordNetLemmatizer\n",
    "import pandas as pd\n",
    "\n",
    "# Function to clean text\n",
    "def clean_text(text):\n",
    "    # Remove URLs, mentions, hashtags, and special characters\n",
    "    text = re.sub(r'http\\S+|@\\S+|#\\S+|[^A-Za-z0-9 ]+', '', text)\n",
    "\n",
    "    # Convert text to lowercase\n",
    "    text = text.lower()\n",
    "\n",
    "    # Remove stopwords\n",
    "    stop_words = set(stopwords.words('english'))\n",
    "    text = ' '.join([word for word in text.split() if word not in stop_words])\n",
    "\n",
    "    # Lemmatization (grouping similar words like \"running\" → \"run\")\n",
    "    lemmatizer = WordNetLemmatizer()\n",
    "    text = ' '.join([lemmatizer.lemmatize(word) for word in text.split()])\n",
    "\n",
    "    return text\n",
    "\n",
    "# Applying the clean_text function to each tweet in the 'text' column\n",
    "combined_tweets_df[\"clean_text\"] = combined_tweets_df[\"text\"].apply(clean_text)\n",
    "\n",
    "# Print the cleaned text of the first 5 rows\n",
    "print(combined_tweets_df[[\"text\", \"clean_text\"]].head())\n"
   ]
  },
  {
   "cell_type": "code",
   "execution_count": 46,
   "id": "94b27e2a-139f-48a8-bb8b-f7b494249ba0",
   "metadata": {},
   "outputs": [
    {
     "name": "stdout",
     "output_type": "stream",
     "text": [
      "Cleaned text saved to 'stockmarket_cleantext.csv'\n"
     ]
    }
   ],
   "source": [
    "# Save the cleaned text to a CSV file\n",
    "tweets_df[[\"clean_text\"]].to_csv(\"stockmarket_cleantext.csv\", index=False)\n",
    "\n",
    "print(\"Cleaned text saved to 'stockmarket_cleantext.csv'\")"
   ]
  },
  {
   "cell_type": "code",
   "execution_count": null,
   "id": "4a5f8554-3fc4-45eb-8e24-c97113e3d300",
   "metadata": {},
   "outputs": [],
   "source": []
  },
  {
   "cell_type": "code",
   "execution_count": null,
   "id": "0576a92f-d425-4a11-8fb2-f0e44e224fd3",
   "metadata": {},
   "outputs": [],
   "source": []
  },
  {
   "cell_type": "code",
   "execution_count": 49,
   "id": "32b16c4d-9d37-45c8-abeb-e1f24b65b2e3",
   "metadata": {},
   "outputs": [
    {
     "name": "stdout",
     "output_type": "stream",
     "text": [
      "Collecting vaderSentiment\n",
      "  Downloading vaderSentiment-3.3.2-py2.py3-none-any.whl.metadata (572 bytes)\n",
      "Requirement already satisfied: requests in /Users/simrannayak/opt/anaconda3/lib/python3.9/site-packages (from vaderSentiment) (2.32.3)\n",
      "Requirement already satisfied: charset-normalizer<4,>=2 in /Users/simrannayak/opt/anaconda3/lib/python3.9/site-packages (from requests->vaderSentiment) (2.0.4)\n",
      "Requirement already satisfied: idna<4,>=2.5 in /Users/simrannayak/opt/anaconda3/lib/python3.9/site-packages (from requests->vaderSentiment) (3.2)\n",
      "Requirement already satisfied: urllib3<3,>=1.21.1 in /Users/simrannayak/opt/anaconda3/lib/python3.9/site-packages (from requests->vaderSentiment) (2.3.0)\n",
      "Requirement already satisfied: certifi>=2017.4.17 in /Users/simrannayak/opt/anaconda3/lib/python3.9/site-packages (from requests->vaderSentiment) (2025.1.31)\n",
      "Downloading vaderSentiment-3.3.2-py2.py3-none-any.whl (125 kB)\n",
      "\u001b[33mWARNING: Error parsing dependencies of pyodbc: Invalid version: '4.0.0-unsupported'\u001b[0m\u001b[33m\n",
      "\u001b[0mInstalling collected packages: vaderSentiment\n",
      "\u001b[31mERROR: Exception:\n",
      "Traceback (most recent call last):\n",
      "  File \"/Users/simrannayak/opt/anaconda3/lib/python3.9/site-packages/pip/_internal/cli/base_command.py\", line 106, in _run_wrapper\n",
      "    status = _inner_run()\n",
      "  File \"/Users/simrannayak/opt/anaconda3/lib/python3.9/site-packages/pip/_internal/cli/base_command.py\", line 97, in _inner_run\n",
      "    return self.run(options, args)\n",
      "  File \"/Users/simrannayak/opt/anaconda3/lib/python3.9/site-packages/pip/_internal/cli/req_command.py\", line 67, in wrapper\n",
      "    return func(self, options, args)\n",
      "  File \"/Users/simrannayak/opt/anaconda3/lib/python3.9/site-packages/pip/_internal/commands/install.py\", line 484, in run\n",
      "    installed_versions[distribution.canonical_name] = distribution.version\n",
      "  File \"/Users/simrannayak/opt/anaconda3/lib/python3.9/site-packages/pip/_internal/metadata/pkg_resources.py\", line 192, in version\n",
      "    return parse_version(self._dist.version)\n",
      "  File \"/Users/simrannayak/opt/anaconda3/lib/python3.9/site-packages/pip/_vendor/packaging/version.py\", line 56, in parse\n",
      "    return Version(version)\n",
      "  File \"/Users/simrannayak/opt/anaconda3/lib/python3.9/site-packages/pip/_vendor/packaging/version.py\", line 202, in __init__\n",
      "    raise InvalidVersion(f\"Invalid version: {version!r}\")\n",
      "pip._vendor.packaging.version.InvalidVersion: Invalid version: '4.0.0-unsupported'\u001b[0m\u001b[31m\n",
      "\u001b[0mNote: you may need to restart the kernel to use updated packages.\n"
     ]
    }
   ],
   "source": [
    "pip install vaderSentiment"
   ]
  },
  {
   "cell_type": "code",
   "execution_count": null,
   "id": "bb74e5ab-59cc-4438-8fc3-9fd298cd9ec7",
   "metadata": {},
   "outputs": [],
   "source": [
    "from vaderSentiment.vaderSentiment import SentimentIntensityAnalyzer\n",
    "\n",
    "# Initialize VADER\n",
    "analyzer = SentimentIntensityAnalyzer()\n",
    "\n",
    "# Define a function to classify sentiment\n",
    "def get_sentiment(text):\n",
    "    score = analyzer.polarity_scores(text)['compound']\n",
    "    if score >= 0.05:\n",
    "        return 'positive'\n",
    "    elif score <= -0.05:\n",
    "        return 'negative'\n",
    "    else:\n",
    "        return 'neutral'\n",
    "\n",
    "# Apply to your DataFrame\n",
    "combined_tweets_df['sentiment'] = combined_tweets_df['clean_text'].apply(get_sentiment)"
   ]
  },
  {
   "cell_type": "code",
   "execution_count": null,
   "id": "2bc4873f-3409-43f4-9f13-24e61aa36231",
   "metadata": {},
   "outputs": [],
   "source": []
  },
  {
   "cell_type": "code",
   "execution_count": null,
   "id": "38e40462-d462-4868-a160-67272969302b",
   "metadata": {},
   "outputs": [],
   "source": []
  },
  {
   "cell_type": "code",
   "execution_count": null,
   "id": "bb254505-d7e8-49e0-98a1-1e2cc6d536ae",
   "metadata": {
    "scrolled": true
   },
   "outputs": [],
   "source": [
    "pip install transformers torch tensorflow"
   ]
  },
  {
   "cell_type": "code",
   "execution_count": null,
   "id": "f9d750f9-d7c7-42db-a923-5792b2a006e4",
   "metadata": {},
   "outputs": [],
   "source": [
    "pip uninstall -y transformers"
   ]
  },
  {
   "cell_type": "code",
   "execution_count": null,
   "id": "2afe27e1-67ed-4433-b93f-cf9e6340cce0",
   "metadata": {
    "scrolled": true
   },
   "outputs": [],
   "source": [
    "pip install transformers --upgrade"
   ]
  },
  {
   "cell_type": "code",
   "execution_count": 3,
   "id": "773f8423-37e1-4b3f-a14e-975964030d4f",
   "metadata": {
    "scrolled": true
   },
   "outputs": [
    {
     "name": "stdout",
     "output_type": "stream",
     "text": [
      "Collecting transformers==3.0.2\n",
      "  Downloading transformers-3.0.2-py3-none-any.whl.metadata (44 kB)\n",
      "Requirement already satisfied: numpy in /Users/simrannayak/opt/anaconda3/lib/python3.9/site-packages (from transformers==3.0.2) (1.26.4)\n",
      "Collecting tokenizers==0.8.1.rc1 (from transformers==3.0.2)\n",
      "  Downloading tokenizers-0.8.1rc1.tar.gz (97 kB)\n",
      "  Installing build dependencies ... \u001b[?25ldone\n",
      "\u001b[?25h  Getting requirements to build wheel ... \u001b[?25ldone\n",
      "\u001b[?25h  Preparing metadata (pyproject.toml) ... \u001b[?25ldone\n",
      "\u001b[?25hRequirement already satisfied: packaging in /Users/simrannayak/opt/anaconda3/lib/python3.9/site-packages (from transformers==3.0.2) (21.0)\n",
      "Requirement already satisfied: filelock in /Users/simrannayak/opt/anaconda3/lib/python3.9/site-packages (from transformers==3.0.2) (3.3.1)\n",
      "Requirement already satisfied: requests in /Users/simrannayak/opt/anaconda3/lib/python3.9/site-packages (from transformers==3.0.2) (2.32.3)\n",
      "Requirement already satisfied: tqdm>=4.27 in /Users/simrannayak/opt/anaconda3/lib/python3.9/site-packages (from transformers==3.0.2) (4.62.3)\n",
      "Requirement already satisfied: regex!=2019.12.17 in /Users/simrannayak/opt/anaconda3/lib/python3.9/site-packages (from transformers==3.0.2) (2021.8.3)\n",
      "Collecting sentencepiece!=0.1.92 (from transformers==3.0.2)\n",
      "  Downloading sentencepiece-0.2.0-cp39-cp39-macosx_10_9_x86_64.whl.metadata (7.7 kB)\n",
      "Collecting sacremoses (from transformers==3.0.2)\n",
      "  Downloading sacremoses-0.1.1-py3-none-any.whl.metadata (8.3 kB)\n",
      "Requirement already satisfied: pyparsing>=2.0.2 in /Users/simrannayak/opt/anaconda3/lib/python3.9/site-packages (from packaging->transformers==3.0.2) (3.0.4)\n",
      "Requirement already satisfied: charset-normalizer<4,>=2 in /Users/simrannayak/opt/anaconda3/lib/python3.9/site-packages (from requests->transformers==3.0.2) (2.0.4)\n",
      "Requirement already satisfied: idna<4,>=2.5 in /Users/simrannayak/opt/anaconda3/lib/python3.9/site-packages (from requests->transformers==3.0.2) (3.2)\n",
      "Requirement already satisfied: urllib3<3,>=1.21.1 in /Users/simrannayak/opt/anaconda3/lib/python3.9/site-packages (from requests->transformers==3.0.2) (2.3.0)\n",
      "Requirement already satisfied: certifi>=2017.4.17 in /Users/simrannayak/opt/anaconda3/lib/python3.9/site-packages (from requests->transformers==3.0.2) (2025.1.31)\n",
      "Requirement already satisfied: click in /Users/simrannayak/opt/anaconda3/lib/python3.9/site-packages (from sacremoses->transformers==3.0.2) (8.0.3)\n",
      "Requirement already satisfied: joblib in /Users/simrannayak/opt/anaconda3/lib/python3.9/site-packages (from sacremoses->transformers==3.0.2) (1.4.2)\n",
      "Downloading transformers-3.0.2-py3-none-any.whl (769 kB)\n",
      "\u001b[2K   \u001b[38;2;114;156;31m━━━━━━━━━━━━━━━━━━━━━━━━━━━━━━━━━━━━━━━━\u001b[0m \u001b[32m769.0/769.0 kB\u001b[0m \u001b[31m9.6 MB/s\u001b[0m eta \u001b[36m0:00:00\u001b[0m\n",
      "\u001b[?25hDownloading sentencepiece-0.2.0-cp39-cp39-macosx_10_9_x86_64.whl (1.2 MB)\n",
      "\u001b[2K   \u001b[38;2;114;156;31m━━━━━━━━━━━━━━━━━━━━━━━━━━━━━━━━━━━━━━━━\u001b[0m \u001b[32m1.2/1.2 MB\u001b[0m \u001b[31m9.9 MB/s\u001b[0m eta \u001b[36m0:00:00\u001b[0m\n",
      "\u001b[?25hDownloading sacremoses-0.1.1-py3-none-any.whl (897 kB)\n",
      "\u001b[2K   \u001b[38;2;114;156;31m━━━━━━━━━━━━━━━━━━━━━━━━━━━━━━━━━━━━━━━━\u001b[0m \u001b[32m897.5/897.5 kB\u001b[0m \u001b[31m9.4 MB/s\u001b[0m eta \u001b[36m0:00:00\u001b[0m\n",
      "\u001b[?25hBuilding wheels for collected packages: tokenizers\n",
      "  Building wheel for tokenizers (pyproject.toml) ... \u001b[?25lerror\n",
      "  \u001b[1;31merror\u001b[0m: \u001b[1msubprocess-exited-with-error\u001b[0m\n",
      "  \n",
      "  \u001b[31m×\u001b[0m \u001b[32mBuilding wheel for tokenizers \u001b[0m\u001b[1;32m(\u001b[0m\u001b[32mpyproject.toml\u001b[0m\u001b[1;32m)\u001b[0m did not run successfully.\n",
      "  \u001b[31m│\u001b[0m exit code: \u001b[1;36m1\u001b[0m\n",
      "  \u001b[31m╰─>\u001b[0m \u001b[31m[59 lines of output]\u001b[0m\n",
      "  \u001b[31m   \u001b[0m /private/var/folders/x1/6bcyhzh12ls05mggvts__wlw0000gn/T/pip-build-env-25pw9luf/overlay/lib/python3.9/site-packages/setuptools/dist.py:334: InformationOnly: Normalizing '0.8.1.rc1' to '0.8.1rc1'\n",
      "  \u001b[31m   \u001b[0m   self.metadata.version = self._normalize_version(self.metadata.version)\n",
      "  \u001b[31m   \u001b[0m /private/var/folders/x1/6bcyhzh12ls05mggvts__wlw0000gn/T/pip-build-env-25pw9luf/overlay/lib/python3.9/site-packages/setuptools/dist.py:759: SetuptoolsDeprecationWarning: License classifiers are deprecated.\n",
      "  \u001b[31m   \u001b[0m !!\n",
      "  \u001b[31m   \u001b[0m \n",
      "  \u001b[31m   \u001b[0m         ********************************************************************************\n",
      "  \u001b[31m   \u001b[0m         Please consider removing the following classifiers in favor of a SPDX license expression:\n",
      "  \u001b[31m   \u001b[0m \n",
      "  \u001b[31m   \u001b[0m         License :: OSI Approved :: Apache Software License\n",
      "  \u001b[31m   \u001b[0m \n",
      "  \u001b[31m   \u001b[0m         See https://packaging.python.org/en/latest/guides/writing-pyproject-toml/#license for details.\n",
      "  \u001b[31m   \u001b[0m         ********************************************************************************\n",
      "  \u001b[31m   \u001b[0m \n",
      "  \u001b[31m   \u001b[0m !!\n",
      "  \u001b[31m   \u001b[0m   self._finalize_license_expression()\n",
      "  \u001b[31m   \u001b[0m running bdist_wheel\n",
      "  \u001b[31m   \u001b[0m running build\n",
      "  \u001b[31m   \u001b[0m running build_py\n",
      "  \u001b[31m   \u001b[0m creating build/lib.macosx-10.9-x86_64-cpython-39/tokenizers\n",
      "  \u001b[31m   \u001b[0m copying tokenizers/__init__.py -> build/lib.macosx-10.9-x86_64-cpython-39/tokenizers\n",
      "  \u001b[31m   \u001b[0m creating build/lib.macosx-10.9-x86_64-cpython-39/tokenizers/models\n",
      "  \u001b[31m   \u001b[0m copying tokenizers/models/__init__.py -> build/lib.macosx-10.9-x86_64-cpython-39/tokenizers/models\n",
      "  \u001b[31m   \u001b[0m creating build/lib.macosx-10.9-x86_64-cpython-39/tokenizers/decoders\n",
      "  \u001b[31m   \u001b[0m copying tokenizers/decoders/__init__.py -> build/lib.macosx-10.9-x86_64-cpython-39/tokenizers/decoders\n",
      "  \u001b[31m   \u001b[0m creating build/lib.macosx-10.9-x86_64-cpython-39/tokenizers/normalizers\n",
      "  \u001b[31m   \u001b[0m copying tokenizers/normalizers/__init__.py -> build/lib.macosx-10.9-x86_64-cpython-39/tokenizers/normalizers\n",
      "  \u001b[31m   \u001b[0m creating build/lib.macosx-10.9-x86_64-cpython-39/tokenizers/pre_tokenizers\n",
      "  \u001b[31m   \u001b[0m copying tokenizers/pre_tokenizers/__init__.py -> build/lib.macosx-10.9-x86_64-cpython-39/tokenizers/pre_tokenizers\n",
      "  \u001b[31m   \u001b[0m creating build/lib.macosx-10.9-x86_64-cpython-39/tokenizers/processors\n",
      "  \u001b[31m   \u001b[0m copying tokenizers/processors/__init__.py -> build/lib.macosx-10.9-x86_64-cpython-39/tokenizers/processors\n",
      "  \u001b[31m   \u001b[0m creating build/lib.macosx-10.9-x86_64-cpython-39/tokenizers/trainers\n",
      "  \u001b[31m   \u001b[0m copying tokenizers/trainers/__init__.py -> build/lib.macosx-10.9-x86_64-cpython-39/tokenizers/trainers\n",
      "  \u001b[31m   \u001b[0m creating build/lib.macosx-10.9-x86_64-cpython-39/tokenizers/implementations\n",
      "  \u001b[31m   \u001b[0m copying tokenizers/implementations/byte_level_bpe.py -> build/lib.macosx-10.9-x86_64-cpython-39/tokenizers/implementations\n",
      "  \u001b[31m   \u001b[0m copying tokenizers/implementations/sentencepiece_bpe.py -> build/lib.macosx-10.9-x86_64-cpython-39/tokenizers/implementations\n",
      "  \u001b[31m   \u001b[0m copying tokenizers/implementations/base_tokenizer.py -> build/lib.macosx-10.9-x86_64-cpython-39/tokenizers/implementations\n",
      "  \u001b[31m   \u001b[0m copying tokenizers/implementations/__init__.py -> build/lib.macosx-10.9-x86_64-cpython-39/tokenizers/implementations\n",
      "  \u001b[31m   \u001b[0m copying tokenizers/implementations/char_level_bpe.py -> build/lib.macosx-10.9-x86_64-cpython-39/tokenizers/implementations\n",
      "  \u001b[31m   \u001b[0m copying tokenizers/implementations/bert_wordpiece.py -> build/lib.macosx-10.9-x86_64-cpython-39/tokenizers/implementations\n",
      "  \u001b[31m   \u001b[0m copying tokenizers/__init__.pyi -> build/lib.macosx-10.9-x86_64-cpython-39/tokenizers\n",
      "  \u001b[31m   \u001b[0m copying tokenizers/models/__init__.pyi -> build/lib.macosx-10.9-x86_64-cpython-39/tokenizers/models\n",
      "  \u001b[31m   \u001b[0m copying tokenizers/decoders/__init__.pyi -> build/lib.macosx-10.9-x86_64-cpython-39/tokenizers/decoders\n",
      "  \u001b[31m   \u001b[0m copying tokenizers/normalizers/__init__.pyi -> build/lib.macosx-10.9-x86_64-cpython-39/tokenizers/normalizers\n",
      "  \u001b[31m   \u001b[0m copying tokenizers/pre_tokenizers/__init__.pyi -> build/lib.macosx-10.9-x86_64-cpython-39/tokenizers/pre_tokenizers\n",
      "  \u001b[31m   \u001b[0m copying tokenizers/processors/__init__.pyi -> build/lib.macosx-10.9-x86_64-cpython-39/tokenizers/processors\n",
      "  \u001b[31m   \u001b[0m copying tokenizers/trainers/__init__.pyi -> build/lib.macosx-10.9-x86_64-cpython-39/tokenizers/trainers\n",
      "  \u001b[31m   \u001b[0m running build_ext\n",
      "  \u001b[31m   \u001b[0m running build_rust\n",
      "  \u001b[31m   \u001b[0m error: can't find Rust compiler\n",
      "  \u001b[31m   \u001b[0m \n",
      "  \u001b[31m   \u001b[0m If you are using an outdated pip version, it is possible a prebuilt wheel is available for this package but pip is not able to install from it. Installing from the wheel would avoid the need for a Rust compiler.\n",
      "  \u001b[31m   \u001b[0m \n",
      "  \u001b[31m   \u001b[0m To update pip, run:\n",
      "  \u001b[31m   \u001b[0m \n",
      "  \u001b[31m   \u001b[0m     pip install --upgrade pip\n",
      "  \u001b[31m   \u001b[0m \n",
      "  \u001b[31m   \u001b[0m and then retry package installation.\n",
      "  \u001b[31m   \u001b[0m \n",
      "  \u001b[31m   \u001b[0m If you did intend to build this package from source, try installing a Rust compiler from your system package manager and ensure it is on the PATH during installation. Alternatively, rustup (available at https://rustup.rs) is the recommended way to download and update the Rust compiler toolchain.\n",
      "  \u001b[31m   \u001b[0m \u001b[31m[end of output]\u001b[0m\n",
      "  \n",
      "  \u001b[1;35mnote\u001b[0m: This error originates from a subprocess, and is likely not a problem with pip.\n",
      "\u001b[31m  ERROR: Failed building wheel for tokenizers\u001b[0m\u001b[31m\n",
      "\u001b[0m\u001b[?25hFailed to build tokenizers\n",
      "\u001b[31mERROR: Failed to build installable wheels for some pyproject.toml based projects (tokenizers)\u001b[0m\u001b[31m\n",
      "\u001b[0mNote: you may need to restart the kernel to use updated packages.\n"
     ]
    }
   ],
   "source": [
    "pip install transformers==3.0.2"
   ]
  },
  {
   "cell_type": "markdown",
   "id": "6825f7e3-fc96-49b3-9aff-69c330e30e1c",
   "metadata": {},
   "source": [
    "### Synthetic Tweets Using GPT-2 Model"
   ]
  },
  {
   "cell_type": "code",
   "execution_count": null,
   "id": "a4208644-b4da-4d71-bf45-19869320adbb",
   "metadata": {},
   "outputs": [],
   "source": [
    "import torch  # Required for PyTorch backend\n",
    "from transformers import pipeline # For text generation model\n",
    "\n",
    "# Set device (0 for GPU, -1 for CPU)\n",
    "device = 0\n",
    "\n",
    "# Load the MetaIX/GPT4-X-Alpasta-30b model\n",
    "generator = pipeline(\"text-generation\", model = \"gpt2\", device = device)\n",
    "# generator = pipeline(\"text-generation\", model=\"distilgpt2\", device=device)\n",
    "# generator = pipeline(\"text-generation\", model=\"MetaIX/GPT4-X-Alpasta-30b\", device=device)\n",
    "\n",
    "\n",
    "def generate_tweets(prompt, num_tweets = 5):\n",
    "    return generator(prompt, max_length=50, num_return_sequences = num_tweets)\n",
    "\n",
    "prompt = \"Generate a tweet about stocks and SPY ETF\"\n",
    "\n",
    "synthetic_tweets = generate_tweets(prompt, 10)\n",
    "\n",
    "# Print Generated Tweets\n",
    "for tweet in synthetic_tweets: \n",
    "    print(tweet[\"generated_text\"])"
   ]
  },
  {
   "cell_type": "code",
   "execution_count": null,
   "id": "9a7eb2bf-a38d-419b-bde2-5d0e36def51f",
   "metadata": {},
   "outputs": [],
   "source": []
  },
  {
   "cell_type": "code",
   "execution_count": null,
   "id": "c6d30d60-a3e9-4d6d-86cd-225ed2682617",
   "metadata": {},
   "outputs": [],
   "source": [
    "\n"
   ]
  }
 ],
 "metadata": {
  "kernelspec": {
   "display_name": "Python [conda env:anaconda3]",
   "language": "python",
   "name": "conda-env-anaconda3-py"
  },
  "language_info": {
   "codemirror_mode": {
    "name": "ipython",
    "version": 3
   },
   "file_extension": ".py",
   "mimetype": "text/x-python",
   "name": "python",
   "nbconvert_exporter": "python",
   "pygments_lexer": "ipython3",
   "version": "3.9.7"
  }
 },
 "nbformat": 4,
 "nbformat_minor": 5
}
