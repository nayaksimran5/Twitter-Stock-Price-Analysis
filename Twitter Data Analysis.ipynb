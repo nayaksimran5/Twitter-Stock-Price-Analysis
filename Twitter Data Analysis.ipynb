{
 "cells": [
  {
   "cell_type": "markdown",
   "id": "e6b1a9ce-0579-42b0-9139-a6796008cb8d",
   "metadata": {},
   "source": [
    "### Project: Stock Market Prediction Using Twitter Data \n",
    "\n",
    "For this project, I will retrieve and analyze tweets related to major stock market trends and specific companies like Tesla ($TSLA), Apple ($AAPL), Amazon ($AMZN), and Microsoft ($MSFT). The tweets will be filtered based on stock-related hashtags such as #StockMarket, #Investing, #Trading, #TeslaStock, #AAPL, #Crypto, and relevant keywords like \"bullish,\" \"bearish,\" \"market crash,\" and \"price surge.\" \n",
    "\n",
    "By performing sentiment analysis on these tweets, I aim to quantify public opinion and correlate it with stock price fluctuations. The visualization will display sentiment trends, stock price movements, and trading volume patterns, helping investors and analysts understand how public sentiment influences the market. "
   ]
  },
  {
   "cell_type": "code",
   "execution_count": 4,
   "id": "260dcd7c-4ed6-4d62-a615-f58f98628727",
   "metadata": {
    "scrolled": true
   },
   "outputs": [
    {
     "name": "stdout",
     "output_type": "stream",
     "text": [
      "Collecting tweepy\n",
      "  Downloading tweepy-4.15.0-py3-none-any.whl.metadata (4.1 kB)\n",
      "Collecting oauthlib<4,>=3.2.0 (from tweepy)\n",
      "  Downloading oauthlib-3.2.2-py3-none-any.whl.metadata (7.5 kB)\n",
      "Requirement already satisfied: requests<3,>=2.27.0 in /Users/simrannayak/opt/anaconda3/lib/python3.9/site-packages (from tweepy) (2.32.3)\n",
      "Collecting requests-oauthlib<3,>=1.2.0 (from tweepy)\n",
      "  Downloading requests_oauthlib-2.0.0-py2.py3-none-any.whl.metadata (11 kB)\n",
      "Requirement already satisfied: charset-normalizer<4,>=2 in /Users/simrannayak/opt/anaconda3/lib/python3.9/site-packages (from requests<3,>=2.27.0->tweepy) (2.0.4)\n",
      "Requirement already satisfied: idna<4,>=2.5 in /Users/simrannayak/opt/anaconda3/lib/python3.9/site-packages (from requests<3,>=2.27.0->tweepy) (3.2)\n",
      "Requirement already satisfied: urllib3<3,>=1.21.1 in /Users/simrannayak/opt/anaconda3/lib/python3.9/site-packages (from requests<3,>=2.27.0->tweepy) (2.3.0)\n",
      "Requirement already satisfied: certifi>=2017.4.17 in /Users/simrannayak/opt/anaconda3/lib/python3.9/site-packages (from requests<3,>=2.27.0->tweepy) (2021.10.8)\n",
      "Downloading tweepy-4.15.0-py3-none-any.whl (99 kB)\n",
      "Downloading oauthlib-3.2.2-py3-none-any.whl (151 kB)\n",
      "Downloading requests_oauthlib-2.0.0-py2.py3-none-any.whl (24 kB)\n",
      "\u001b[33mWARNING: Error parsing dependencies of pyodbc: Invalid version: '4.0.0-unsupported'\u001b[0m\u001b[33m\n",
      "\u001b[0mInstalling collected packages: oauthlib, requests-oauthlib, tweepy\n",
      "\u001b[31mERROR: Exception:\n",
      "Traceback (most recent call last):\n",
      "  File \"/Users/simrannayak/opt/anaconda3/lib/python3.9/site-packages/pip/_internal/cli/base_command.py\", line 106, in _run_wrapper\n",
      "    status = _inner_run()\n",
      "  File \"/Users/simrannayak/opt/anaconda3/lib/python3.9/site-packages/pip/_internal/cli/base_command.py\", line 97, in _inner_run\n",
      "    return self.run(options, args)\n",
      "  File \"/Users/simrannayak/opt/anaconda3/lib/python3.9/site-packages/pip/_internal/cli/req_command.py\", line 67, in wrapper\n",
      "    return func(self, options, args)\n",
      "  File \"/Users/simrannayak/opt/anaconda3/lib/python3.9/site-packages/pip/_internal/commands/install.py\", line 484, in run\n",
      "    installed_versions[distribution.canonical_name] = distribution.version\n",
      "  File \"/Users/simrannayak/opt/anaconda3/lib/python3.9/site-packages/pip/_internal/metadata/pkg_resources.py\", line 192, in version\n",
      "    return parse_version(self._dist.version)\n",
      "  File \"/Users/simrannayak/opt/anaconda3/lib/python3.9/site-packages/pip/_vendor/packaging/version.py\", line 56, in parse\n",
      "    return Version(version)\n",
      "  File \"/Users/simrannayak/opt/anaconda3/lib/python3.9/site-packages/pip/_vendor/packaging/version.py\", line 202, in __init__\n",
      "    raise InvalidVersion(f\"Invalid version: {version!r}\")\n",
      "pip._vendor.packaging.version.InvalidVersion: Invalid version: '4.0.0-unsupported'\u001b[0m\u001b[31m\n",
      "\u001b[0m"
     ]
    }
   ],
   "source": [
    "!pip install tweepy"
   ]
  },
  {
   "cell_type": "markdown",
   "id": "ad087099-5605-4506-a5fd-5b225d300825",
   "metadata": {},
   "source": [
    "### Importing Libraries"
   ]
  },
  {
   "cell_type": "code",
   "execution_count": 12,
   "id": "c2c2fca1-4f13-4c86-bd7a-01173f6b494f",
   "metadata": {},
   "outputs": [],
   "source": [
    "import tweepy\n",
    "import pandas as pd\n",
    "\n",
    "bearer_token = 'AAAAAAAAAAAAAAAAAAAAAMMD0AEAAAAAg93ZgQcqq1i3BLOBlbiTk%2FH4Zc0%3DapjQL8OSBhgv5RDmIVA2hdM6RdT82kedydOCocbRmyCQkN5MzO'\n",
    "\n",
    "client = tweepy.Client(bearer_token = bearer_token, wait_on_rate_limit = True)"
   ]
  },
  {
   "cell_type": "code",
   "execution_count": 17,
   "id": "b6db94c4-c02f-4f1c-be5a-cfb6e2000372",
   "metadata": {},
   "outputs": [
    {
     "name": "stdout",
     "output_type": "stream",
     "text": [
      "                 created_at  \\\n",
      "0 2025-03-25 00:25:17+00:00   \n",
      "1 2025-03-25 00:22:30+00:00   \n",
      "2 2025-03-25 00:20:24+00:00   \n",
      "3 2025-03-25 00:18:48+00:00   \n",
      "4 2025-03-25 00:18:36+00:00   \n",
      "5 2025-03-25 00:17:54+00:00   \n",
      "6 2025-03-25 00:16:53+00:00   \n",
      "7 2025-03-25 00:16:38+00:00   \n",
      "8 2025-03-25 00:16:29+00:00   \n",
      "9 2025-03-25 00:15:40+00:00   \n",
      "\n",
      "                                                text  retweets  likes  \n",
      "0  I told you all #TSLA would rally! A 12% ($30) ...         0      0  \n",
      "1  🔥 The US stock market soared today, adding $1....         0      0  \n",
      "2  @Theory_Corps (1999-2002 West Nile Virus) (200...         0      0  \n",
      "3  Analysis worked perfectly 🔥❤️\\n\\n#stockmarket ...         0      2  \n",
      "4  MSTR STOCK PREDICTION (Strategy Stock Price Ac...         0      0  \n",
      "5  RT @Teeka_Tiwari: After a surge in bullish inv...         2      0  \n",
      "6  Oh, very interesting news from Rolls-Royce, ab...         0      0  \n",
      "7  RT @Teeka_Tiwari: Imagine it’s 2007. You’re re...         2      0  \n",
      "8  Love me some $MYNZ! This healthcare diagnostic...         0      0  \n",
      "9  RT @Teeka_Tiwari: If you’re looking to make (a...         3      0  \n"
     ]
    }
   ],
   "source": [
    "# Define the function to fetch tweets\n",
    "def fetch_tweets(client, query, max_results=10):\n",
    "    tweets = []\n",
    "\n",
    "    # Fetch recent tweets based on the query\n",
    "    response = client.search_recent_tweets(\n",
    "        query = query,\n",
    "        tweet_fields = ['created_at', 'public_metrics', 'author_id', 'text'],\n",
    "        max_results = max_results\n",
    "    )\n",
    "\n",
    "    # Check if the response has data\n",
    "    if response.data:\n",
    "        for tweet in response.data:\n",
    "            tweets.append({\n",
    "                'created_at': tweet.created_at,\n",
    "                'text': tweet.text,\n",
    "                'retweets': tweet.public_metrics['retweet_count'],\n",
    "                'likes': tweet.public_metrics['like_count']\n",
    "            })\n",
    "    # Return a DataFrame with the tweets\n",
    "    return pd.DataFrame(tweets)\n",
    "\n",
    "# Define the query for stock-related tweets\n",
    "query = 'StockMarket'\n",
    "\n",
    "# Fetch tweets and store in a DataFrame\n",
    "tweets_df = fetch_tweets(client,query, max_results = 10)\n",
    "\n",
    "# Check if the DataFrame is empty and print the results\n",
    "#if tweets_df.empty:\n",
    "#    print('No tweets were found for the given query.')\n",
    "#return\n",
    "\n",
    "# Check if the DataFrame is empty and print the results\n",
    "\n",
    "if not tweets_df.empty:\n",
    "    print(tweets_df)\n",
    "else:\n",
    "    print('No tweets were found for the given query.')"
   ]
  },
  {
   "cell_type": "code",
   "execution_count": 19,
   "id": "d4e9f64a-58e7-4114-8f1e-fa617047e667",
   "metadata": {},
   "outputs": [
    {
     "name": "stdout",
     "output_type": "stream",
     "text": [
      "<tweepy.client.Client object at 0x7fd68083fdf0>\n"
     ]
    }
   ],
   "source": [
    "print(client)"
   ]
  },
  {
   "cell_type": "code",
   "execution_count": 23,
   "id": "1a3c4adb-34b1-4c84-aa4c-52b9c39ddee8",
   "metadata": {},
   "outputs": [],
   "source": [
    "tweets_df.to_csv('stockmarket_tweets.csv')"
   ]
  },
  {
   "cell_type": "code",
   "execution_count": null,
   "id": "9ed1422a-c481-4ec6-b118-bcb439b75eaa",
   "metadata": {},
   "outputs": [],
   "source": []
  }
 ],
 "metadata": {
  "kernelspec": {
   "display_name": "Python [conda env:anaconda3]",
   "language": "python",
   "name": "conda-env-anaconda3-py"
  },
  "language_info": {
   "codemirror_mode": {
    "name": "ipython",
    "version": 3
   },
   "file_extension": ".py",
   "mimetype": "text/x-python",
   "name": "python",
   "nbconvert_exporter": "python",
   "pygments_lexer": "ipython3",
   "version": "3.9.7"
  }
 },
 "nbformat": 4,
 "nbformat_minor": 5
}
