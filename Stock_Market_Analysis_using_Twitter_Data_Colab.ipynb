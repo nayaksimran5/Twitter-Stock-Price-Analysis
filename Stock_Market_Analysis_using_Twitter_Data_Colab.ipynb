{
 "cells": [
  {
   "cell_type": "markdown",
   "metadata": {
    "id": "goD5caOzPbiO"
   },
   "source": [
    "## **Project: Stock Market Analysis Using Twitter Data**\n",
    "\n",
    "### **🔍 Objective**\n",
    "\n",
    "The purpose of this project is to analyze Twitter conversations related to the stock market—particularly around companies like **Tesla, Apple, Amazon, Microsoft, and the SPY ETF**—to understand how public sentiment aligns with stock market behavior. By performing sentiment analysis on relevant tweets, this project aims to uncover patterns in public opinion that may reflect investor mood and market trends."
   ]
  },
  {
   "cell_type": "markdown",
   "metadata": {
    "id": "rIRckVDQcki7"
   },
   "source": [
    "### **📥 Data Collection**\n",
    "Tweets were retrieved using the **Twitter API** by querying the hashtag `#StockMarket`. The collected tweets include discussions about the overall market and specific companies, as well as common trading sentiments. The dataset captures both the content and engagement of each tweet, such as retweets and likes."
   ]
  },
  {
   "cell_type": "markdown",
   "metadata": {
    "id": "aOSWzgIlPgb3"
   },
   "source": [
    "### **Importing Libraries**"
   ]
  },
  {
   "cell_type": "code",
   "execution_count": null,
   "metadata": {
    "id": "MK8etkHmPe1E"
   },
   "outputs": [],
   "source": [
    "import tweepy\n",
    "import pandas as pd"
   ]
  },
  {
   "cell_type": "markdown",
   "metadata": {
    "id": "KaDxGmELP6mY"
   },
   "source": [
    "### **Connecting to Twitter API Using Bearer Token**\n"
   ]
  },
  {
   "cell_type": "code",
   "execution_count": null,
   "metadata": {
    "id": "dMEM9bcTP5Ep"
   },
   "outputs": [],
   "source": [
    "# Initializing Tweepy Client for Twitter API Access\n",
    "bearer_token = 'AAAAAAAAAAAAAAAAAAAAAL0D0AEAAAAAVaybQyI7NZ32U6xwspgMRlsO7V8%3DNuFRl0OYpoIKfLhj0lVQnxMW2xkJufhVUjkbVFyHmkmeZqHIC7'\n",
    "client = tweepy.Client(bearer_token = bearer_token, wait_on_rate_limit = True)"
   ]
  },
  {
   "cell_type": "markdown",
   "metadata": {
    "id": "VKB8Hxs7QDES"
   },
   "source": [
    "### **Fetching Tweets From Twitter API**"
   ]
  },
  {
   "cell_type": "code",
   "execution_count": null,
   "metadata": {
    "id": "K1YVdY2EQGkg"
   },
   "outputs": [],
   "source": [
    "# Define the function to fetch tweets\n",
    "def fetch_tweets(client, query, max_results=60):\n",
    "    tweets = []\n",
    "\n",
    "    # Fetch recent tweets based on the query\n",
    "    response = client.search_recent_tweets(\n",
    "        query=query + \" -is:retweet lang:en\",  # Correct way to add language filter\n",
    "        tweet_fields=['created_at', 'public_metrics', 'author_id', 'text'],\n",
    "        max_results=max_results\n",
    "    )\n",
    "\n",
    "    # Check if the response has data\n",
    "    if response.data:\n",
    "        for tweet in response.data:\n",
    "            tweets.append({\n",
    "                'created_at': tweet.created_at,\n",
    "                'text': tweet.text,\n",
    "                'retweets': tweet.public_metrics['retweet_count'],\n",
    "                'likes': tweet.public_metrics['like_count']\n",
    "            })\n",
    "\n",
    "    # Return a DataFrame with the tweets\n",
    "    return pd.DataFrame(tweets)\n",
    "\n",
    "# Define the query for stock-related tweets\n",
    "query = \"#StockMarket\"  # Using hashtag for stock-related tweets\n",
    "\n",
    "# Fetch tweets and store in a DataFrame\n",
    "tweets_df = fetch_tweets(client, query, max_results=60)\n",
    "\n",
    "# Check if the DataFrame is empty and print the results\n",
    "if not tweets_df.empty:\n",
    "    print(tweets_df)\n",
    "else:\n",
    "    print(\"No tweets were found for the given query.\")"
   ]
  },
  {
   "cell_type": "markdown",
   "metadata": {
    "id": "RIE4zB5_frXa"
   },
   "source": [
    "### 💾 **Saving Retrieved Tweets to CSV Files**"
   ]
  },
  {
   "cell_type": "code",
   "execution_count": null,
   "metadata": {
    "id": "0OpPxRLcQWRd"
   },
   "outputs": [],
   "source": [
    "# Exporting Retrieved Tweets to CSV Files\n",
    "tweets_df.to_csv('stock_tweets.csv')\n",
    "tweets_df2.to_csv('stockmarket_new_tweets.csv')\n",
    "tweets_df3.to_csv('stockmarket_60new_tweets.csv')\n",
    "tweets_df4.to_csv('stockmarket_tweets.csv')"
   ]
  },
  {
   "cell_type": "markdown",
   "metadata": {
    "id": "ebmi4qffgksH"
   },
   "source": [
    "The collected tweets were saved into multiple CSV files after being retrieved at different times."
   ]
  },
  {
   "cell_type": "markdown",
   "metadata": {
    "id": "JhCqrVKhPPEn"
   },
   "source": [
    "### **Merging Tweet Datasets**"
   ]
  },
  {
   "cell_type": "code",
   "execution_count": null,
   "metadata": {
    "id": "XudryfUxxOn1"
   },
   "outputs": [],
   "source": [
    "tweets_df = pd.read_csv('/content/stock_tweets.csv')\n",
    "tweets_df2 = pd.read_csv('/content/stockmarket_new_tweets.csv')\n",
    "tweets_df3 = pd.read_csv('/content/stockmarket_60new_tweets.csv')\n",
    "tweets_df4 = pd.read_csv('/content/stockmarket_tweets.csv')\n",
    "\n",
    "# Combine them into a single DataFrame\n",
    "combined_tweets_df = pd.concat([tweets_df, tweets_df2, tweets_df3, tweets_df4], ignore_index=True)"
   ]
  },
  {
   "cell_type": "markdown",
   "metadata": {
    "id": "0v1ig78Wgerw"
   },
   "source": [
    "Merged the multiple tweet datasets into one unified DataFrame for easier analysis and processing."
   ]
  },
  {
   "cell_type": "markdown",
   "metadata": {
    "id": "fmtkpPFBgrJc"
   },
   "source": [
    "### **Stock Market Tweets Dataset After Merging**"
   ]
  },
  {
   "cell_type": "code",
   "execution_count": null,
   "metadata": {
    "colab": {
     "base_uri": "https://localhost:8080/"
    },
    "id": "L1kOIg-RxOt4",
    "outputId": "5a418a2d-b3cb-42a0-bbbf-811c301e91b9"
   },
   "outputs": [],
   "source": [
    "print(combined_tweets_df.head())"
   ]
  },
  {
   "cell_type": "markdown",
   "metadata": {
    "id": "e_btVIAihK-7"
   },
   "source": [
    "This dataset includes all the tweets related to stock market discussions about companies like Tesla, Apple, Amazon, Microsoft, and the SPY ETF. The data is combined into one file, with tweet text and engagement metrics (such as retweets and likes), and is ready for cleaning and further analysis.\n",
    "\n",
    "**📊 Dataset Columns**\n",
    "\n",
    "**created_at:** Date the tweet was posted\n",
    "\n",
    "**text:** Original tweet text\n",
    "\n",
    "**retweets:** Number of times the tweet was retweeted\n",
    "\n",
    "**likes:** Number of likes"
   ]
  },
  {
   "cell_type": "code",
   "execution_count": null,
   "metadata": {
    "colab": {
     "base_uri": "https://localhost:8080/"
    },
    "id": "zK29Abvmi4P0",
    "outputId": "2332e84d-1cf9-448a-ffaa-1943a31de01a"
   },
   "outputs": [],
   "source": [
    "print(combined_tweets_df.shape)"
   ]
  },
  {
   "cell_type": "markdown",
   "metadata": {
    "id": "N5Lh5ZRNjmfN"
   },
   "source": [
    "Dataset contains 180 rows (tweets) and 5 columns (tweet-related data including created_date, text, engagement metrics such as likes, and retweets).\n",
    "\n"
   ]
  },
  {
   "cell_type": "markdown",
   "metadata": {
    "id": "y0OLEdTZQsFO"
   },
   "source": [
    "### **Remove Duplicate Tweets**"
   ]
  },
  {
   "cell_type": "code",
   "execution_count": null,
   "metadata": {
    "id": "NAtwyyXoxOxm"
   },
   "outputs": [],
   "source": [
    "# Remove duplicates (Optional)\n",
    "combined_tweets_df.drop_duplicates(inplace=True)"
   ]
  },
  {
   "cell_type": "code",
   "execution_count": null,
   "metadata": {
    "colab": {
     "base_uri": "https://localhost:8080/"
    },
    "id": "FRW_rYvixO1j",
    "outputId": "14e69a73-7656-486d-f9cd-869843521c86"
   },
   "outputs": [],
   "source": [
    "# Save to new CSV (optional)\n",
    "combined_tweets_df.to_csv(\"all_stock_tweets_API.csv\", index=False)\n",
    "\n",
    "print(\"Combined text files saved to 'all_stock_tweets_API.csv'\")\n",
    "\n",
    "# Check result\n",
    "print(combined_tweets_df.shape)"
   ]
  },
  {
   "cell_type": "markdown",
   "metadata": {
    "id": "ipS8fnnOyERn"
   },
   "source": [
    "### **Most Frequent Words Before Cleaning**"
   ]
  },
  {
   "cell_type": "code",
   "execution_count": null,
   "metadata": {
    "colab": {
     "base_uri": "https://localhost:8080/"
    },
    "id": "22Md5IlIxO5T",
    "outputId": "ef88e95e-3eb6-45d9-d86e-22da3f21f729"
   },
   "outputs": [],
   "source": [
    "from collections import Counter\n",
    "word_freq = Counter(\" \".join(combined_tweets_df[\"text\"]).split())\n",
    "print(\"Most common words:\", word_freq.most_common(20))"
   ]
  },
  {
   "cell_type": "markdown",
   "metadata": {
    "id": "CR972fQEyRG-"
   },
   "source": [
    "### **Text Cleaning**"
   ]
  },
  {
   "cell_type": "markdown",
   "metadata": {
    "id": "wZxmLI-iyXZ0"
   },
   "source": [
    "**For Text Cleaning:**\n",
    "- **http\\S+**: Removes URLs\n",
    "- **@\\S+**: Removes mentions\n",
    "- **#\\S+**: Removes hashtags\n",
    "- **[^A-Za-z0-9 ]+**: Removes special characters\n",
    "- **.lower()**: Converts text to lowercase\n",
    "- **Removing Stopwords**: \"the\", \"is\", \"and\"\n",
    "- **Lemmatization**: \"running\" → \"run\""
   ]
  },
  {
   "cell_type": "code",
   "execution_count": null,
   "metadata": {
    "colab": {
     "base_uri": "https://localhost:8080/"
    },
    "id": "nxEYI3fJyQX1",
    "outputId": "037226eb-fc52-46b2-d0b0-c8c2ec6cd68a"
   },
   "outputs": [],
   "source": [
    "# Download necessary NLTK resources\n",
    "import nltk\n",
    "nltk.download('stopwords')\n",
    "nltk.download('wordnet')"
   ]
  },
  {
   "cell_type": "markdown",
   "metadata": {
    "id": "d-v2o-9pnJ_x"
   },
   "source": [
    "In stock-related tweets, symbols like `#` and `$` are used to represent companies and market trends, such as $AMZN for Amazon's stock. These symbols are important for understanding the topic of the tweet and for analyzing market discussions. Removing them would strip away key information about the stock references, which are crucial for our analysis."
   ]
  },
  {
   "cell_type": "markdown",
   "metadata": {
    "id": "jor7HAVuyuGD"
   },
   "source": [
    "### **Text Cleaning Without Removing '$' and '#'**"
   ]
  },
  {
   "cell_type": "code",
   "execution_count": null,
   "metadata": {
    "colab": {
     "base_uri": "https://localhost:8080/"
    },
    "id": "ci90ND2zyQbY",
    "outputId": "97d7a914-9aa2-437d-efe1-6241a33d1f53"
   },
   "outputs": [],
   "source": [
    "# Without Removing '$' and '#'\n",
    "import re\n",
    "import nltk\n",
    "import string\n",
    "from nltk.corpus import stopwords\n",
    "from nltk.stem import WordNetLemmatizer\n",
    "\n",
    "# Function to clean text\n",
    "def clean_text(text):\n",
    "    # Convert to lowercase\n",
    "    text = text.lower()\n",
    "\n",
    "    # Remove URLs and mentions, but preserve hashtags (#) and dollar signs ($)\n",
    "    text = re.sub(r'http\\S+|www\\.\\S+|@\\S+', '', text)  # Remove URLs and mentions, keep hashtags and $tickers\n",
    "\n",
    "    # Remove HTML tags (do not remove hashtags and $tickers)\n",
    "    text = re.sub(r'<.*?>', '', text)\n",
    "\n",
    "    # Remove punctuation (but keep hashtags and $tickers intact)\n",
    "    text = text.translate(str.maketrans('', '', string.punctuation.replace('#', '').replace('$', '')))\n",
    "\n",
    "    # Remove numbers and words with numbers, except for stock tickers\n",
    "    text = re.sub(r'\\w*\\d\\w*', '', text)\n",
    "\n",
    "    # Remove extra whitespaces and newlines\n",
    "    text = re.sub(r'\\s+', ' ', text).strip()\n",
    "\n",
    "    # Tokenization and stopword removal\n",
    "    stop_words = set(stopwords.words('english'))\n",
    "    words = text.split()\n",
    "\n",
    "    # Preserve words starting with # or $ (for stock tickers and hashtags)\n",
    "    words = [word for word in words if word not in stop_words or word.startswith(('#', '$'))]\n",
    "\n",
    "    # Lemmatization\n",
    "    lemmatizer = WordNetLemmatizer()\n",
    "    words = [lemmatizer.lemmatize(word) for word in words]\n",
    "\n",
    "    return ' '.join(words)\n",
    "\n",
    "# Example Usage\n",
    "# Applying the clean_text function to each tweet in the 'text' column\n",
    "combined_tweets_df[\"clean_text\"] = combined_tweets_df[\"text\"].apply(clean_text)\n",
    "\n",
    "# Print the cleaned text of the first 20 rows\n",
    "print(combined_tweets_df[[\"text\", \"clean_text\"]].head(20))"
   ]
  },
  {
   "cell_type": "markdown",
   "metadata": {
    "id": "LnsHFwLvzHF0"
   },
   "source": [
    "### **Cleaned Text File**"
   ]
  },
  {
   "cell_type": "code",
   "execution_count": null,
   "metadata": {
    "colab": {
     "base_uri": "https://localhost:8080/"
    },
    "id": "DdJFRi4zyQet",
    "outputId": "a9ea6da8-27d6-4367-f31d-6fa4a90b9f01"
   },
   "outputs": [],
   "source": [
    "# Save the cleaned text to a CSV file\n",
    "combined_tweets_df[[\"clean_text\"]].to_csv(\"stockmarket_cleanedtext.csv\", index=False)\n",
    "\n",
    "print(\"Cleaned text saved to 'stockmarket_cleanedtext.csv'\")"
   ]
  },
  {
   "cell_type": "markdown",
   "metadata": {
    "id": "HW2A9F4qzNBi"
   },
   "source": [
    "### **Most Frequent Words After Cleaning**"
   ]
  },
  {
   "cell_type": "code",
   "execution_count": null,
   "metadata": {
    "colab": {
     "base_uri": "https://localhost:8080/"
    },
    "id": "GQ2s7ixByQhb",
    "outputId": "39d003dc-ad27-4453-91e2-a16f30ca2cee"
   },
   "outputs": [],
   "source": [
    "from collections import Counter\n",
    "word_freq = Counter(\" \".join(combined_tweets_df[\"clean_text\"]).split())\n",
    "most_common_words = word_freq.most_common(20)\n",
    "print(\"Most common words:\", most_common_words)"
   ]
  },
  {
   "cell_type": "markdown",
   "metadata": {
    "id": "GqHcsYTCzSsL"
   },
   "source": [
    "### **Visualization using Most Frequent Words (Bar Chart)**\n"
   ]
  },
  {
   "cell_type": "code",
   "execution_count": null,
   "metadata": {
    "colab": {
     "base_uri": "https://localhost:8080/",
     "height": 716
    },
    "id": "TaTN-wq9yQkW",
    "outputId": "4f3f0082-9dfe-4ca8-82d1-47f5d778a00b"
   },
   "outputs": [],
   "source": [
    "import matplotlib.pyplot as plt\n",
    "import seaborn as sns\n",
    "\n",
    "# Convert to DataFrame for plotting\n",
    "freq_df = pd.DataFrame(most_common_words, columns=['word', 'count'])\n",
    "\n",
    "# Plotting\n",
    "plt.figure(figsize=(12, 6))\n",
    "sns.barplot(x='count', y='word', data=freq_df, palette='viridis')\n",
    "plt.title(\"Top 20 Most Frequent Words in Tweets\")\n",
    "plt.xlabel(\"Frequency\")\n",
    "plt.ylabel(\"Word\")\n",
    "plt.tight_layout()\n",
    "plt.show()"
   ]
  },
  {
   "cell_type": "markdown",
   "metadata": {
    "id": "HKXjRGWJouS8"
   },
   "source": [
    "The most frequently occurring words in the stock market-related tweets include hashtags like **`#stockmarket`, `#stocks`, and `#market`**, which help identify the key topics being discussed. Other common terms refer to trending issues such as #stockmarketcrash, **`#trump`, `#investing`, and `#trading`**, as well as mentions of assets like **`#bitcoin`, `#crypto`, and `#gold`**. These frequently used words highlight the main themes and discussions within the stock market conversations captured in the tweets."
   ]
  },
  {
   "cell_type": "markdown",
   "metadata": {
    "id": "GDAL8ui8zb5k"
   },
   "source": [
    "### **Word Cloud**"
   ]
  },
  {
   "cell_type": "code",
   "execution_count": null,
   "metadata": {
    "colab": {
     "base_uri": "https://localhost:8080/"
    },
    "id": "3eJYH7DTyQnr",
    "outputId": "6eb3030f-9ddb-47f1-a8f0-5b1160fe654d"
   },
   "outputs": [],
   "source": [
    "!pip install wordcloud"
   ]
  },
  {
   "cell_type": "code",
   "execution_count": null,
   "metadata": {
    "colab": {
     "base_uri": "https://localhost:8080/",
     "height": 607
    },
    "id": "IWIFVZRmzgLZ",
    "outputId": "f0873b4f-3de5-46c8-dff4-4c1f0e9bf36d"
   },
   "outputs": [],
   "source": [
    "from wordcloud import WordCloud\n",
    "import matplotlib.pyplot as plt\n",
    "\n",
    "# Combine all the clean tweets into one big string\n",
    "text = \" \".join(combined_tweets_df[\"clean_text\"])\n",
    "\n",
    "# Create the WordCloud object\n",
    "wordcloud = WordCloud(\n",
    "    width=800,\n",
    "    height=400,\n",
    "    background_color='white',\n",
    "    colormap='viridis',     # Optional: choose any matplotlib colormap\n",
    "    max_words=100           # Adjust for more/less words\n",
    ").generate(text)\n",
    "\n",
    "# Plot it\n",
    "plt.figure(figsize=(12, 6))\n",
    "plt.imshow(wordcloud, interpolation='bilinear')\n",
    "plt.axis('off')\n",
    "plt.title(\"Word Cloud of Most Frequent Words in Tweets\", fontsize=16)\n",
    "plt.tight_layout()\n",
    "plt.show()"
   ]
  },
  {
   "cell_type": "markdown",
   "metadata": {
    "id": "aKs5PlfftZnr"
   },
   "source": [
    "This word cloud represents the most frequently used words in tweets related to the stock market. Keywords like **“stockmarket”**, **“tariff”**, “**trump”, “trading”, and “investing**” highlight trending topics and public sentiment. The visualization provides a quick overview of what people are discussing in real time, offering valuable insights for further stock market analysis based on Twitter data."
   ]
  },
  {
   "cell_type": "markdown",
   "metadata": {
    "id": "3BJtnzJGIpoU"
   },
   "source": [
    "### **Sentiment Analysis**"
   ]
  },
  {
   "cell_type": "markdown",
   "metadata": {
    "id": "0aHcVLu_BiYd"
   },
   "source": [
    "\n",
    "\n",
    "### **1. TextBlob Sentiment Analysis**"
   ]
  },
  {
   "cell_type": "code",
   "execution_count": null,
   "metadata": {
    "id": "f-FpSW4_Ey2x"
   },
   "outputs": [],
   "source": [
    "pip install textblob"
   ]
  },
  {
   "cell_type": "code",
   "execution_count": null,
   "metadata": {
    "colab": {
     "base_uri": "https://localhost:8080/"
    },
    "id": "8CbgZ8DkI0x4",
    "outputId": "8ea7ab21-f490-4b4a-f2b0-853ee99f3c93"
   },
   "outputs": [],
   "source": [
    "from textblob import TextBlob\n",
    "\n",
    "combined_tweets_df[\"Sentiment\"] = combined_tweets_df[\"clean_text\"].apply(lambda x: TextBlob(x).sentiment.polarity)\n",
    "print(combined_tweets_df[\"Sentiment\"].describe())"
   ]
  },
  {
   "cell_type": "markdown",
   "metadata": {
    "id": "KarCYJdcv3jA"
   },
   "source": [
    "**Analysis Summary:**\n",
    "- Total Tweets Analyzed: 180\n",
    "\n",
    "- Average Sentiment (Mean): ~0.023 → Slightly positive overall.\n",
    "\n",
    "- Standard Deviation: ~0.231 → There's a fair bit of variation in sentiment.\n",
    "\n",
    "- Minimum Sentiment Score: -1.0 → Strongly negative tweet(s) present.\n",
    "\n",
    "- Maximum Sentiment Score: 1.0 → Strongly positive tweet(s) present.\n",
    "\n",
    "- Median (50%): 0.0 → Half of the tweets are neutral.\n",
    "\n",
    "- 25th Percentile: 0.0\n",
    "\n",
    "- 75th Percentile: ~0.07 → Most tweets are clustered between neutral and slightly positive."
   ]
  },
  {
   "cell_type": "code",
   "execution_count": null,
   "metadata": {
    "colab": {
     "base_uri": "https://localhost:8080/",
     "height": 472
    },
    "id": "c04X7eZTOM1W",
    "outputId": "3382d177-2af0-4c17-fd03-336c14d547d7"
   },
   "outputs": [],
   "source": [
    "# Histogram of Sentiment Scores\n",
    "combined_tweets_df[\"Sentiment\"].hist(bins=30, alpha=0.5, label='Tweepy')\n",
    "plt.legend()\n",
    "plt.title(\"Histogram of Sentiment Scores\")\n",
    "plt.xlabel(\"Sentiment Score\")\n",
    "plt.ylabel(\"Frequency\")\n",
    "plt.show()"
   ]
  },
  {
   "cell_type": "markdown",
   "metadata": {
    "id": "LVgoS3l2EJtN"
   },
   "source": [
    "**Interpretation:**\n",
    "\n",
    "The sentiment analysis using **TextBlob** shows that most tweets have a neutral tone, with sentiment scores clustered heavily around 0, as seen in the histogram. While there are a few strongly positive or negative tweets (scores near 1.0 or -1.0), the overall distribution suggests minimal emotional intensity in the majority of tweets.\n",
    "\n",
    "However, this outcome may be influenced by the limitations of **TextBlob**:\n",
    "\n",
    "- It misses sentiment in social media text that includes slang, emojis, hashtags, and other informal elements.\n",
    "\n",
    "- It may misinterpret or ignore context, especially with sarcasm, abbreviations, or short expressions commonly found on Twitter.\n",
    "\n",
    "Because of these limitations, the analysis might not fully capture the true emotional tone of tweets. To address this, moving forward with **VADER** Sentiment Analysis, which is specifically designed for short, informal, and social media-style text.\n"
   ]
  },
  {
   "cell_type": "markdown",
   "metadata": {
    "id": "YPCoyr_5Bzyh"
   },
   "source": [
    "### **2. VADER Sentiment Analysis**"
   ]
  },
  {
   "cell_type": "code",
   "execution_count": null,
   "metadata": {
    "colab": {
     "base_uri": "https://localhost:8080/"
    },
    "id": "1axs-IzQMRvq",
    "outputId": "22925433-f560-4417-8352-912521b255dd"
   },
   "outputs": [],
   "source": [
    "pip install vaderSentiment"
   ]
  },
  {
   "cell_type": "markdown",
   "metadata": {
    "id": "hZDlel4yeUsp"
   },
   "source": [
    "Here I'm using **VADER Sentiment Analysis (Valence Aware Dictionary and sEntiment Reasoner)** to classify the sentiment of tweets in the dataset."
   ]
  },
  {
   "cell_type": "code",
   "execution_count": null,
   "metadata": {
    "id": "hTIBTuVNMF0C"
   },
   "outputs": [],
   "source": [
    "from vaderSentiment.vaderSentiment import SentimentIntensityAnalyzer\n",
    "\n",
    "# Initialize VADER\n",
    "analyzer = SentimentIntensityAnalyzer()\n",
    "\n",
    "# Define a function to classify sentiment\n",
    "def get_sentiment(text):\n",
    "    score = analyzer.polarity_scores(text)['compound']\n",
    "    if score >= 0.05:\n",
    "        return 'positive'\n",
    "    elif score <= -0.05:\n",
    "        return 'negative'\n",
    "    else:\n",
    "        return 'neutral'\n",
    "\n",
    "# Apply to your DataFrame\n",
    "combined_tweets_df['sentiment'] = combined_tweets_df['clean_text'].apply(get_sentiment)\n"
   ]
  },
  {
   "cell_type": "code",
   "execution_count": null,
   "metadata": {
    "colab": {
     "base_uri": "https://localhost:8080/",
     "height": 310
    },
    "id": "zd1aDfWAMZ3y",
    "outputId": "966a2507-1626-40c5-8a13-1d9a112e6d3a"
   },
   "outputs": [],
   "source": [
    "combined_tweets_df.head(5)"
   ]
  },
  {
   "cell_type": "markdown",
   "metadata": {
    "id": "tOtsQZb0fMzl"
   },
   "source": [
    "### **Bar chart of Sentiment counts**"
   ]
  },
  {
   "cell_type": "code",
   "execution_count": null,
   "metadata": {
    "colab": {
     "base_uri": "https://localhost:8080/",
     "height": 514
    },
    "id": "w67TahhdesH2",
    "outputId": "5545a796-c8e7-459b-9dc2-6a9e51b316f9"
   },
   "outputs": [],
   "source": [
    "# Plotting a bar chart showing the number of tweets in each sentiment category\n",
    "combined_tweets_df['sentiment'].value_counts().plot(kind='bar')"
   ]
  },
  {
   "cell_type": "markdown",
   "metadata": {
    "id": "D2nv-7Zbyd1c"
   },
   "source": [
    "**VADER Sentiment Analysis (Bar Chart)**\n",
    "\n",
    "- This bar chart shows tweet sentiment using **VADER**, which is designed for social media text. It detects more positive tweets, with neutral and negative sentiments close behind.\n",
    "\n",
    "- **VADER** outperforms **TextBlob** by handling slang, emojis, and informal language, giving a more accurate picture of public opinion on the stock market.\n",
    "\n"
   ]
  },
  {
   "cell_type": "markdown",
   "metadata": {
    "id": "omB3tOimh7nY"
   },
   "source": [
    "### Separating Tweets by sentiment (neutral, positive, and negative tweets)"
   ]
  },
  {
   "cell_type": "code",
   "execution_count": null,
   "metadata": {
    "id": "c1cg8qU6ghef"
   },
   "outputs": [],
   "source": [
    "# Separate tweets by sentiment\n",
    "positive_tweets = combined_tweets_df[combined_tweets_df['sentiment'] == 'positive']\n",
    "neutral_tweets = combined_tweets_df[combined_tweets_df['sentiment'] == 'neutral']\n",
    "negative_tweets = combined_tweets_df[combined_tweets_df['sentiment'] == 'negative']\n"
   ]
  },
  {
   "cell_type": "markdown",
   "metadata": {
    "id": "tY8exdidiHBU"
   },
   "source": [
    "Here, I wanted to visualize frequent words in each **sentiment group(positive_tweets, neutral_tweets, negative_tweets)** using **WordCloud** of the top terms."
   ]
  },
  {
   "cell_type": "code",
   "execution_count": null,
   "metadata": {
    "colab": {
     "base_uri": "https://localhost:8080/",
     "height": 1000
    },
    "id": "JExNCmQ_ghiV",
    "outputId": "4e1b3417-b4f4-4434-88ae-04d9d45b4c7d"
   },
   "outputs": [],
   "source": [
    "# Combine all clean_text for each sentiment\n",
    "positive_words = ' '.join(positive_tweets['clean_text'])\n",
    "neutral_words = ' '.join(neutral_tweets['clean_text'])\n",
    "negative_words = ' '.join(negative_tweets['clean_text'])\n",
    "\n",
    "# Function to create wordcloud\n",
    "def show_wordcloud(text, title):\n",
    "    wordcloud = WordCloud(width=800, height=400, background_color='white').generate(text)\n",
    "    plt.figure(figsize=(10, 5))\n",
    "    plt.imshow(wordcloud, interpolation='bilinear')\n",
    "    plt.axis('off')\n",
    "    plt.title(title, fontsize=16)\n",
    "    plt.show()\n",
    "\n",
    "# Generate wordclouds\n",
    "show_wordcloud(positive_words, 'Frequent Words in Positive Tweets')\n",
    "show_wordcloud(neutral_words, 'Frequent Words in Neutral Tweets')\n",
    "show_wordcloud(negative_words, 'Frequent Words in Negative Tweets')\n"
   ]
  },
  {
   "cell_type": "markdown",
   "metadata": {
    "id": "UeXYay7g8ueQ"
   },
   "source": [
    "### **Emotion Analysis Using Lexicon-Based Approach**"
   ]
  },
  {
   "cell_type": "code",
   "execution_count": null,
   "metadata": {
    "id": "crFi5pIzSNTm"
   },
   "outputs": [],
   "source": [
    "pip install nltk"
   ]
  },
  {
   "cell_type": "code",
   "execution_count": null,
   "metadata": {
    "colab": {
     "base_uri": "https://localhost:8080/"
    },
    "id": "7iH1AYh9SNWF",
    "outputId": "726f8183-4346-4c4f-e2e8-3cac56ddd10b"
   },
   "outputs": [],
   "source": [
    "import nltk\n",
    "import pandas as pd\n",
    "from nltk.corpus import opinion_lexicon\n",
    "from nltk.tokenize import word_tokenize\n",
    "from nltk.corpus import stopwords\n",
    "\n",
    "# Download necessary resources from NLTK\n",
    "nltk.download('opinion_lexicon')\n",
    "nltk.download('punkt')\n",
    "nltk.download('punkt_tab')\n",
    "nltk.download('stopwords')"
   ]
  },
  {
   "cell_type": "code",
   "execution_count": null,
   "metadata": {
    "colab": {
     "base_uri": "https://localhost:8080/"
    },
    "id": "sd4iVcYApVdF",
    "outputId": "24caf20d-393c-4eee-ecf2-61fd0451842b"
   },
   "outputs": [],
   "source": [
    "# Define a Function for Emotion Analysis\n",
    "\n",
    "emotion_lexicon = {\n",
    "    'joy': [\n",
    "        'gain', 'profit', 'bullish', 'win', 'green', 'soaring', 'surge', 'rally', 'strong',\n",
    "        'record', 'positive', 'optimistic', 'uptrend', 'stockstobuy', 'invest', 'buythedip',\n",
    "        '#gain', '#profit', '#bullish', '#win', '#green', '#soaring', '#surge', '#rally', '#strong',\n",
    "        '#record', '#positive', '#optimistic', '#uptrend', '#stockstobuy', '#invest', '#buythedip'\n",
    "    ],\n",
    "    'anger': [\n",
    "        'fraud', 'scam', 'manipulated', 'rigged', 'corrupt', 'unfair', 'angry', 'mad', 'rage', 'annoyed',\n",
    "        '#fraud', '#scam', '#manipulated', '#rigged', '#corrupt', '#unfair', '#angry', '#mad', '#rage', '#annoyed'\n",
    "    ],\n",
    "    'sadness': [\n",
    "        'loss', 'lost', 'drop', 'down', 'red', 'slowdown', 'crash', 'stockmarketcrash', 'fall', 'decline',\n",
    "        'disappointed', 'depressed', 'regret', 'downtrend', 'selloff', 'worst', 'hit',\n",
    "        '#loss', '#lost', '#drop', '#down', '#red', '#slowdown', '#crash', '#stockmarketcrash',\n",
    "        '#fall', '#decline', '#disappointed', '#depressed', '#regret', '#downtrend', '#selloff'\n",
    "    ],\n",
    "    'fear': [\n",
    "        'fear', 'scared', 'panic', 'nervous', 'uncertain', 'volatility', 'risky', 'warning',\n",
    "        'concern', 'bearish', 'doubt', 'recession', 'losing',\n",
    "        '#fear', '#scared', '#panic', '#nervous', '#uncertain', '#volatility', '#risky',\n",
    "        '#warning', '#concern', '#bearish', '#doubt', '#recession', '#losing'\n",
    "    ],\n",
    "    'surprise': [\n",
    "        'unexpected', 'shock', 'surprised', 'amazement', 'jump', 'plummet', 'news', 'announcement', 'earningssurprise',\n",
    "        '#unexpected', '#shock', '#surprised', '#amazement', '#jump', '#plummet', '#news', '#announcement', '#earningssurprise'\n",
    "    ],\n",
    "    'trust': [\n",
    "        'confidence', 'believe', 'support', 'faith', 'trust', 'solid', 'stable', 'resilient',\n",
    "        '#confidence', '#believe', '#support', '#faith', '#trust', '#solid', '#stable', '#resilient'\n",
    "    ]\n",
    "}\n",
    "\n",
    "\n",
    "# Define the emotion classification function\n",
    "def classify_emotion(text):\n",
    "    # Tokenize and clean the text\n",
    "    words = word_tokenize(text.lower())  # Convert to lowercase\n",
    "    words = [word for word in words if word.isalnum()]  # Remove punctuation\n",
    "    stop_words = set(stopwords.words('english'))\n",
    "    words = [word for word in words if word not in stop_words]  # Remove stopwords\n",
    "\n",
    "    # Initialize emotion scores\n",
    "    emotion_scores = {emotion: 0 for emotion in emotion_lexicon}\n",
    "\n",
    "    # Count matching words for each emotion\n",
    "    for word in words:\n",
    "        for emotion, emotion_words in emotion_lexicon.items():\n",
    "            if word in emotion_words:\n",
    "                emotion_scores[emotion] += 1\n",
    "\n",
    "    # Determine the dominant emotion (or 'none' if all are 0)\n",
    "    if all(score == 0 for score in emotion_scores.values()):\n",
    "        return 'none', 0\n",
    "    else:\n",
    "        max_emotion = max(emotion_scores, key=emotion_scores.get)\n",
    "        return max_emotion, emotion_scores[max_emotion]\n",
    "\n",
    "# Apply the function to the DataFrame\n",
    "combined_tweets_df[['emotion', 'emotion_score']] = combined_tweets_df['clean_text'].apply(\n",
    "    lambda text: pd.Series(classify_emotion(text))\n",
    ")\n",
    "\n",
    "# Display results\n",
    "print(combined_tweets_df[['clean_text', 'emotion', 'emotion_score']].head(50))\n"
   ]
  },
  {
   "cell_type": "markdown",
   "metadata": {
    "id": "FCiYZcLA0Zh3"
   },
   "source": [
    "To understand the emotional tone behind stock-related tweets, a custom emotion lexicon was created with categories like **joy, anger, sadness, fear, surprise, and trust**. Each tweet is analyzed by matching keywords to these categories using tokenization and filtering techniques.\n",
    "\n",
    "The function then classifies each tweet by its dominant emotion, assigning a corresponding score based on keyword matches. This helps uncover not just sentiment, but the underlying emotions driving public opinion around the stock market."
   ]
  },
  {
   "cell_type": "markdown",
   "metadata": {
    "id": "G0N5i3o35cq0"
   },
   "source": [
    "### **Visualizing the Tweet Counts by Emotion (Joy, Anger, Sadness, Fear, Surprise, Trust)**"
   ]
  },
  {
   "cell_type": "code",
   "execution_count": null,
   "metadata": {
    "colab": {
     "base_uri": "https://localhost:8080/",
     "height": 652
    },
    "id": "0_FDff185UBJ",
    "outputId": "74fc7203-fc7f-45c3-c4b7-820cf4927d58"
   },
   "outputs": [],
   "source": [
    "import seaborn as sns\n",
    "import matplotlib.pyplot as plt\n",
    "\n",
    "emotion_counts = combined_tweets_df['emotion'].value_counts()\n",
    "sns.barplot(x=emotion_counts.index, y=emotion_counts.values, palette='viridis')\n",
    "plt.title('Distribution of Emotions in Stock Market Tweets')\n",
    "plt.xlabel('Emotion')\n",
    "plt.ylabel('Number of Tweets')\n",
    "plt.xticks(rotation=45)\n",
    "plt.show()\n"
   ]
  },
  {
   "cell_type": "markdown",
   "metadata": {
    "id": "w1AT9o1E07qA"
   },
   "source": [
    "**Interpretation: Distribution of Emotions in Stock Market Tweets**\n",
    "\n",
    "The majority of tweets are labeled with **\"none\"**, meaning they did not contain strong emotional keywords from the defined lexicon. This is common in financial tweets, which are often factual or analytical.\n",
    "\n",
    "Among the emotionally tagged tweets:\n",
    "\n",
    "- **Sadness** is the most common emotion, indicating concern about losses, crashes, or downtrends.\n",
    "\n",
    "- **Joy** follows, reflecting optimism about gains, rallies, or bullish trends.\n",
    "\n",
    "Emotions like **surprise, fear, anger, and trust** are less frequent but still present, showing a diverse emotional reaction to stock market events.\n",
    "\n",
    "Overall, this suggests that while most tweets are **neutral** in tone, there's a clear emotional pull toward **sadness and joy**, driven by market performance and public sentiment."
   ]
  },
  {
   "cell_type": "markdown",
   "metadata": {
    "id": "FoLwsdpLTwAI"
   },
   "source": [
    "### **Visualizing Popular Stock Names (Cashtags and Hashtags)**"
   ]
  },
  {
   "cell_type": "markdown",
   "metadata": {
    "id": "dYxbssAgTGSp"
   },
   "source": [
    "### **Extracting Stock Mentions from Tweets**\n",
    "\n"
   ]
  },
  {
   "cell_type": "code",
   "execution_count": null,
   "metadata": {
    "id": "OHIi6DJ_mrat"
   },
   "outputs": [],
   "source": [
    "import re\n",
    "from collections import Counter\n",
    "\n",
    "# Combine all tweets into one big string\n",
    "all_text = ' '.join(combined_tweets_df['clean_text'].tolist())\n",
    "\n",
    "# Use regex to extract all words starting with $ or #\n",
    "stock_mentions = re.findall(r'[\\$#][A-Za-z0-9]+', all_text)\n",
    "\n",
    "# Count the frequency of each mention\n",
    "mention_counts = Counter(stock_mentions)\n",
    "\n",
    "# Convert to a DataFrame for plotting\n",
    "mention_df = pd.DataFrame(mention_counts.items(), columns=['symbol', 'count'])\n",
    "\n",
    "# Top 100\n",
    "mention_df = mention_df.sort_values(by='count', ascending=False).head(100)\n"
   ]
  },
  {
   "cell_type": "markdown",
   "metadata": {
    "id": "Ycil3Ne34viS"
   },
   "source": [
    "Using regular expressions, tweets were scanned to identify stock-related mentions marked with **`$` (e.g., $AAPL) or `#` (e.g., #Tesla)**. The top 100 most frequently mentioned tickers and hashtags were extracted and counted, providing insights into which stocks or market topics are getting the most attention on Twitter."
   ]
  },
  {
   "cell_type": "markdown",
   "metadata": {
    "id": "VJS1dBddTFyk"
   },
   "source": [
    "### **Top Mentioned Stock Names (Bar Chart)**\n"
   ]
  },
  {
   "cell_type": "code",
   "execution_count": null,
   "metadata": {
    "colab": {
     "base_uri": "https://localhost:8080/",
     "height": 1000
    },
    "id": "fL3qxeJrVLI5",
    "outputId": "8253cdc3-945c-44d3-d628-92c9a4fa683a"
   },
   "outputs": [],
   "source": [
    "# Vertical Bar Chart\n",
    "import matplotlib.pyplot as plt\n",
    "import seaborn as sns\n",
    "\n",
    "plt.figure(figsize=(15, 20))\n",
    "sns.barplot(data=mention_df, x='count', y= 'symbol', palette='viridis')\n",
    "plt.title('Top Mentioned Stock Symbols on Twitter')\n",
    "plt.xlabel('Frequency')\n",
    "plt.ylabel('Stock Symbol')\n",
    "plt.xticks(rotation=90)\n",
    "plt.tight_layout()\n",
    "plt.show()"
   ]
  },
  {
   "cell_type": "markdown",
   "metadata": {
    "id": "BRRTi46i5vn5"
   },
   "source": [
    "This horizontal bar chart displays the **most frequently mentioned stock-related hashtags and symbols** from Twitter data.\n",
    "\n",
    "- **#stockmarket, #tariffs, and #stocks** top the list, indicating heavy discussion around broad market movements and economic policies.\n",
    "\n",
    "- Other high-frequency mentions include **#stockmarketcrash, #investing,** and popular tickers like **#bitcoin, #tesla, #gold, #eth, #nasdaq and #aapl**.\n",
    "\n",
    "This visualization helps identify trending topics and the most discussed companies or assets, providing valuable context for sentiment and market analysis."
   ]
  },
  {
   "cell_type": "code",
   "execution_count": null,
   "metadata": {
    "colab": {
     "base_uri": "https://localhost:8080/",
     "height": 752
    },
    "id": "sifnNODrmrkF",
    "outputId": "c25c9791-cffc-4707-ef11-a3433c9c3962"
   },
   "outputs": [],
   "source": [
    "# Horizontal Bar Chart\n",
    "import matplotlib.pyplot as plt\n",
    "import seaborn as sns\n",
    "\n",
    "plt.figure(figsize=(12,6))\n",
    "sns.barplot(data=mention_df, x='symbol', y='count', palette='viridis')\n",
    "plt.title('Top Mentioned Stock Symbols on Twitter')\n",
    "plt.xlabel('Stock Symbol')\n",
    "plt.ylabel('Frequency')\n",
    "plt.xticks(rotation=90)\n",
    "plt.tight_layout()\n",
    "plt.show()"
   ]
  },
  {
   "cell_type": "markdown",
   "metadata": {
    "id": "VxP_ylqfTgKW"
   },
   "source": [
    "### **Word Cloud of Stock Mentions**"
   ]
  },
  {
   "cell_type": "code",
   "execution_count": null,
   "metadata": {
    "colab": {
     "base_uri": "https://localhost:8080/",
     "height": 521
    },
    "id": "GVCQEV_1mrvR",
    "outputId": "d1a9f34c-ee8f-40fa-8a65-8b451751bd7c"
   },
   "outputs": [],
   "source": [
    "from wordcloud import WordCloud\n",
    "\n",
    "wordcloud = WordCloud(width=800, height=400, background_color='white').generate_from_frequencies(mention_counts)\n",
    "\n",
    "plt.figure(figsize=(12,6))\n",
    "plt.imshow(wordcloud, interpolation='bilinear')\n",
    "plt.axis('off')\n",
    "plt.title('Popular Stock Mentions (# or $ symbols)')\n",
    "plt.show()\n"
   ]
  },
  {
   "cell_type": "markdown",
   "metadata": {
    "id": "cTxyamqx8ey8"
   },
   "source": [
    "The presence of both company-specific symbols **(like btc, $tsla, $aapl)** and broad market terms **(like #stockmarketcrash, #crypto, #daytrading)** shows a mix of general market sentiment and focus on individual assets.\n",
    "\n",
    "This visualization gives a quick snapshot of where public attention is focused in the financial world on social media.\n",
    "\n"
   ]
  },
  {
   "cell_type": "code",
   "execution_count": null,
   "metadata": {
    "id": "AeAQWz1a8l6q"
   },
   "outputs": [],
   "source": []
  },
  {
   "cell_type": "code",
   "execution_count": null,
   "metadata": {
    "id": "g_Bi5itW8l-R"
   },
   "outputs": [],
   "source": []
  },
  {
   "cell_type": "markdown",
   "metadata": {
    "id": "I3ABcmXVQ8wd"
   },
   "source": [
    "### Synthetic Tweets Using GPT-2 Model"
   ]
  },
  {
   "cell_type": "code",
   "execution_count": null,
   "metadata": {
    "colab": {
     "base_uri": "https://localhost:8080/",
     "height": 1000,
     "referenced_widgets": [
      "ad9883d282814e9ca745f8578a607ac2",
      "d65487d319534d06a3e1d6803b800498",
      "78ef53eda0b44b96a4a69d71926afeff",
      "808caf96c3174d38aeb44554e0e783f7",
      "20637df97eff449585a1fd102247c7d6",
      "674d5e1fbe284a5fac40624df2212d52",
      "fd9dc17fe17a40ba87bb24cf398f438a",
      "c7a4c6720d284753ae8b226854fbe5aa",
      "4e33bead80de481b89ca68b333a2c4c1",
      "bd1b2c2b466d4e0eba991910659aaf0c",
      "9a466ad1316c45e98553c0843ef144f5",
      "e6ca30a9353d4ba6a6ed46c592031971",
      "1e1db31a78cf414d9f22f8d732c44acc",
      "90ec54e4136f4ebe8b1765c4284bd886",
      "03cbc41e69dd46b7a5c2ca5b46158037",
      "288ac9f8a8834fc4a84b94bf81c1ce51",
      "a9fc5f03ef144225bd447f6098078985",
      "c6a661d66dbb4fbea04de0823c516adf",
      "ecceb2af897e490dbf37a1ac4c8ded5f",
      "6800ec73ca6d43678e92e63ebb2f04ab",
      "3a859df3cc8940248c3b34a6501c3b4b",
      "7444fa3d45724b41a20300219a222cfa",
      "d1555f223714438bb4c87cd1cd732925",
      "5c9bd3eaf69d4fceb72f20b86c46f4b7",
      "753f1283bcbd431890ceaa17c0f2f702",
      "ab97ce9b763e495e9b9e11e4d0659876",
      "74983dd10bb842fab1a8593dbe5c19fc",
      "2b510b1cfba24591a6240b7df4383e3f",
      "9a914cdd8dcb4eb280bb9bde128e31a9",
      "a2449b25ee9d4d7d93755d2a25bdb0eb",
      "07a5f0f900334e669638ecee3203153f",
      "a0c943df135043899e51cc2c744d9cc1",
      "3f5ff108094f4e409f82b975b9323ac3",
      "f575a362bea643e6b0f8765d915e1032",
      "248806cbb72543f5ac9227ac20c95506",
      "319939a100e94746828d62cc81b0101c",
      "7cb6f7332ff34228977fa4650bfce8cf",
      "df2b17c4988f422dbd790762af5d54e7",
      "0bf2ac5e8a814542884f09e237e5e538",
      "46830561b4c6434993b22f806131545f",
      "bcb65f7fed234b5a913b6ebdae9b0f9c",
      "05696e79e98848aebedcace3ef1f7d4b",
      "75f44aa716004cb7bbba9eaa32725eaa",
      "73e9a2709da940209da6ea7dd32cf105",
      "adfac5f347214c32ad421990ab6ca7e2",
      "2d35d04d5da24c4c931c7860ea93725c",
      "2139e3613aa747a9b257bd092bd72788",
      "05bae6e7ca18473581f2c6986be8a539",
      "1e990006c2bf4041869192c83d32e040",
      "e98f4f807dce487e8a382f11d73e40f7",
      "a71179ddb33a488b83123e20f3da01e7",
      "3a081484d64e4710afafe84e17b652c5",
      "1b79f0ecad124f908455601eee4a046e",
      "d2a359d4b99a49279bab6f00c49d807e",
      "a59f6100cc9f4cd7878156bddc3a4c40",
      "c4e5a57c3f214c078a3db6997fb51c29",
      "32f143ce3a5545288bdd3eaacb532a87",
      "f407077a97e14067ab0986a57191c219",
      "b041f4f2c3be488f99f52221eb74d940",
      "bbd77e60a1a14f96a6d59530c1673fb0",
      "d1190b7a4df4428d9155a8466b32f376",
      "df10ca0b54a1495eb135a9eaeb8b3957",
      "36b64e86ce0543328a94b9294ad2208d",
      "e63e71c2b31547279685ff1e69eccaa6",
      "e2910f82155541e6a63f368dcae695fd",
      "035e328c02cf44fa9c3a90b5f00c38dd",
      "452dcaee5584432a8440409cce7f28f4",
      "9e56a635457241e5a9dd68284c055bed",
      "af0d51e726f4488ebddd139a42a7066f",
      "c39c5d73953c4ce682fba94f34897e74",
      "e1995bd4c8f64235919c07d8984f84ea",
      "abc4738fc9854c5ba855c8ce4d0f185f",
      "022961a01a694969997584e345ce7c9d",
      "7a206f71264142368f9e602467521ad4",
      "a8540a73d1a44dc68671434607a035c1",
      "f38ec9f06f474cb6bff5eee78075bcaf",
      "d44c0ab2e8144f69aa8f0d444d4dced4"
     ]
    },
    "id": "2L2Ueb64Q7eK",
    "outputId": "a7a94d53-9bd5-4b63-fcd4-fde2a311efc6"
   },
   "outputs": [],
   "source": [
    "import torch  # Required for PyTorch backend\n",
    "from transformers import pipeline # For text generation model\n",
    "\n",
    "# Set device (0 for GPU, -1 for CPU)\n",
    "device = 0\n",
    "\n",
    "# Load the MetaIX/GPT4-X-Alpasta-30b model\n",
    "generator = pipeline(\"text-generation\", model = \"gpt2\", device = device)\n",
    "# generator = pipeline(\"text-generation\", model=\"distilgpt2\", device=device)\n",
    "# generator = pipeline(\"text-generation\", model=\"MetaIX/GPT4-X-Alpasta-30b\", device=device)\n",
    "\n",
    "\n",
    "def generate_tweets(prompt, num_tweets = 5):\n",
    "    return generator(prompt, max_length=50, num_return_sequences = num_tweets)\n",
    "\n",
    "prompt = \"Generate a tweet about stocks and SPY ETF\"\n",
    "\n",
    "synthetic_tweets = generate_tweets(prompt, 1000)\n",
    "\n",
    "# Print Generated Tweets\n",
    "for tweet in synthetic_tweets:\n",
    "    print(tweet[\"generated_text\"])"
   ]
  },
  {
   "cell_type": "markdown",
   "metadata": {
    "id": "M54H-yB791jG"
   },
   "source": [
    "### **Save to a .csv file using pandas**"
   ]
  },
  {
   "cell_type": "code",
   "execution_count": null,
   "metadata": {
    "id": "58FeknWs9smr"
   },
   "outputs": [],
   "source": [
    "import pandas as pd\n",
    "\n",
    "# Convert to DataFrame\n",
    "tweet_texts = [tweet[\"generated_text\"] for tweet in synthetic_tweets]\n",
    "df = pd.DataFrame(tweet_texts, columns=[\"tweet\"])\n",
    "\n",
    "# Save to CSV\n",
    "df.to_csv(\"synthetic_tweets.csv\", index=False, encoding=\"utf-8\")\n"
   ]
  },
  {
   "cell_type": "code",
   "execution_count": null,
   "metadata": {
    "colab": {
     "base_uri": "https://localhost:8080/",
     "height": 881
    },
    "id": "adH-SPpXQ7i7",
    "outputId": "48abf4ff-def8-4076-b375-d7f1662be3c9"
   },
   "outputs": [],
   "source": [
    "import pandas as pd\n",
    "import re\n",
    "\n",
    "# Step 1: Load the CSV file\n",
    "synthetic_tweets_df = pd.read_csv(\"synthetic_tweets.csv\")  # make sure the file is uploaded\n",
    "synthetic_tweets_df.head(20)"
   ]
  },
  {
   "cell_type": "code",
   "execution_count": null,
   "metadata": {
    "colab": {
     "base_uri": "https://localhost:8080/",
     "height": 460
    },
    "id": "YXBW8QMsQIHo",
    "outputId": "9f173c43-5f96-48bb-9d26-993dd85423f4"
   },
   "outputs": [],
   "source": [
    "import re\n",
    "import nltk\n",
    "import string\n",
    "from nltk.corpus import stopwords\n",
    "from nltk.stem import WordNetLemmatizer\n",
    "import pandas as pd\n",
    "import re\n",
    "\n",
    "# Step 2: Define the cleaning function\n",
    "def clean_text(text):\n",
    "    text = text.lower()  # Lowercase\n",
    "    text = re.sub(r\"http\\S+|www\\S+|https\\S+\", \"\", text)  # Remove URLs\n",
    "    text = re.sub(r'@\\w+', \"\", text)  # Remove mentions\n",
    "    text = re.sub(r'#', \"\", text)  # Remove hashtag symbols (keep the word)\n",
    "    text = re.sub(r'[^a-z\\s]', \"\", text)  # Remove punctuation and numbers\n",
    "    text = re.sub(r'\\s+', \" \", text).strip()  # Remove extra spaces\n",
    "    return text\n",
    "\n",
    "# Step 3: Apply cleaning to tweet column\n",
    "synthetic_tweets_df['cleaned_tweet'] = synthetic_tweets_df['tweet'].astype(str).apply(clean_text)\n",
    "\n",
    "# Step 4: Save or view cleaned tweets\n",
    "synthetic_tweets_df.to_csv(\"cleaned_synthetic_tweets.csv\", index=False)\n",
    "synthetic_tweets_df[['tweet', 'cleaned_tweet']].head()\n"
   ]
  },
  {
   "cell_type": "code",
   "execution_count": null,
   "metadata": {
    "id": "hxrbC6b4QG1p"
   },
   "outputs": [],
   "source": []
  },
  {
   "cell_type": "code",
   "execution_count": null,
   "metadata": {
    "id": "7vplQvkgQ7pm"
   },
   "outputs": [],
   "source": []
  }
 ],
 "metadata": {
  "colab": {
   "provenance": []
  },
  "kernelspec": {
   "display_name": "Python [conda env:anaconda3]",
   "language": "python",
   "name": "conda-env-anaconda3-py"
  },
  "language_info": {
   "codemirror_mode": {
    "name": "ipython",
    "version": 3
   },
   "file_extension": ".py",
   "mimetype": "text/x-python",
   "name": "python",
   "nbconvert_exporter": "python",
   "pygments_lexer": "ipython3",
   "version": "3.9.7"
  },
  "widgets": {
   "application/vnd.jupyter.widget-state+json": {
    "022961a01a694969997584e345ce7c9d": {
     "model_module": "@jupyter-widgets/controls",
     "model_module_version": "1.5.0",
     "model_name": "DescriptionStyleModel",
     "state": {
      "_model_module": "@jupyter-widgets/controls",
      "_model_module_version": "1.5.0",
      "_model_name": "DescriptionStyleModel",
      "_view_count": null,
      "_view_module": "@jupyter-widgets/base",
      "_view_module_version": "1.2.0",
      "_view_name": "StyleView",
      "description_width": ""
     }
    },
    "035e328c02cf44fa9c3a90b5f00c38dd": {
     "model_module": "@jupyter-widgets/controls",
     "model_module_version": "1.5.0",
     "model_name": "DescriptionStyleModel",
     "state": {
      "_model_module": "@jupyter-widgets/controls",
      "_model_module_version": "1.5.0",
      "_model_name": "DescriptionStyleModel",
      "_view_count": null,
      "_view_module": "@jupyter-widgets/base",
      "_view_module_version": "1.2.0",
      "_view_name": "StyleView",
      "description_width": ""
     }
    },
    "03cbc41e69dd46b7a5c2ca5b46158037": {
     "model_module": "@jupyter-widgets/controls",
     "model_module_version": "1.5.0",
     "model_name": "HTMLModel",
     "state": {
      "_dom_classes": [],
      "_model_module": "@jupyter-widgets/controls",
      "_model_module_version": "1.5.0",
      "_model_name": "HTMLModel",
      "_view_count": null,
      "_view_module": "@jupyter-widgets/controls",
      "_view_module_version": "1.5.0",
      "_view_name": "HTMLView",
      "description": "",
      "description_tooltip": null,
      "layout": "IPY_MODEL_3a859df3cc8940248c3b34a6501c3b4b",
      "placeholder": "​",
      "style": "IPY_MODEL_7444fa3d45724b41a20300219a222cfa",
      "value": " 548M/548M [00:05&lt;00:00, 170MB/s]"
     }
    },
    "05696e79e98848aebedcace3ef1f7d4b": {
     "model_module": "@jupyter-widgets/controls",
     "model_module_version": "1.5.0",
     "model_name": "ProgressStyleModel",
     "state": {
      "_model_module": "@jupyter-widgets/controls",
      "_model_module_version": "1.5.0",
      "_model_name": "ProgressStyleModel",
      "_view_count": null,
      "_view_module": "@jupyter-widgets/base",
      "_view_module_version": "1.2.0",
      "_view_name": "StyleView",
      "bar_color": null,
      "description_width": ""
     }
    },
    "05bae6e7ca18473581f2c6986be8a539": {
     "model_module": "@jupyter-widgets/controls",
     "model_module_version": "1.5.0",
     "model_name": "HTMLModel",
     "state": {
      "_dom_classes": [],
      "_model_module": "@jupyter-widgets/controls",
      "_model_module_version": "1.5.0",
      "_model_name": "HTMLModel",
      "_view_count": null,
      "_view_module": "@jupyter-widgets/controls",
      "_view_module_version": "1.5.0",
      "_view_name": "HTMLView",
      "description": "",
      "description_tooltip": null,
      "layout": "IPY_MODEL_d2a359d4b99a49279bab6f00c49d807e",
      "placeholder": "​",
      "style": "IPY_MODEL_a59f6100cc9f4cd7878156bddc3a4c40",
      "value": " 1.04M/1.04M [00:00&lt;00:00, 7.81MB/s]"
     }
    },
    "07a5f0f900334e669638ecee3203153f": {
     "model_module": "@jupyter-widgets/controls",
     "model_module_version": "1.5.0",
     "model_name": "ProgressStyleModel",
     "state": {
      "_model_module": "@jupyter-widgets/controls",
      "_model_module_version": "1.5.0",
      "_model_name": "ProgressStyleModel",
      "_view_count": null,
      "_view_module": "@jupyter-widgets/base",
      "_view_module_version": "1.2.0",
      "_view_name": "StyleView",
      "bar_color": null,
      "description_width": ""
     }
    },
    "0bf2ac5e8a814542884f09e237e5e538": {
     "model_module": "@jupyter-widgets/base",
     "model_module_version": "1.2.0",
     "model_name": "LayoutModel",
     "state": {
      "_model_module": "@jupyter-widgets/base",
      "_model_module_version": "1.2.0",
      "_model_name": "LayoutModel",
      "_view_count": null,
      "_view_module": "@jupyter-widgets/base",
      "_view_module_version": "1.2.0",
      "_view_name": "LayoutView",
      "align_content": null,
      "align_items": null,
      "align_self": null,
      "border": null,
      "bottom": null,
      "display": null,
      "flex": null,
      "flex_flow": null,
      "grid_area": null,
      "grid_auto_columns": null,
      "grid_auto_flow": null,
      "grid_auto_rows": null,
      "grid_column": null,
      "grid_gap": null,
      "grid_row": null,
      "grid_template_areas": null,
      "grid_template_columns": null,
      "grid_template_rows": null,
      "height": null,
      "justify_content": null,
      "justify_items": null,
      "left": null,
      "margin": null,
      "max_height": null,
      "max_width": null,
      "min_height": null,
      "min_width": null,
      "object_fit": null,
      "object_position": null,
      "order": null,
      "overflow": null,
      "overflow_x": null,
      "overflow_y": null,
      "padding": null,
      "right": null,
      "top": null,
      "visibility": null,
      "width": null
     }
    },
    "1b79f0ecad124f908455601eee4a046e": {
     "model_module": "@jupyter-widgets/controls",
     "model_module_version": "1.5.0",
     "model_name": "ProgressStyleModel",
     "state": {
      "_model_module": "@jupyter-widgets/controls",
      "_model_module_version": "1.5.0",
      "_model_name": "ProgressStyleModel",
      "_view_count": null,
      "_view_module": "@jupyter-widgets/base",
      "_view_module_version": "1.2.0",
      "_view_name": "StyleView",
      "bar_color": null,
      "description_width": ""
     }
    },
    "1e1db31a78cf414d9f22f8d732c44acc": {
     "model_module": "@jupyter-widgets/controls",
     "model_module_version": "1.5.0",
     "model_name": "HTMLModel",
     "state": {
      "_dom_classes": [],
      "_model_module": "@jupyter-widgets/controls",
      "_model_module_version": "1.5.0",
      "_model_name": "HTMLModel",
      "_view_count": null,
      "_view_module": "@jupyter-widgets/controls",
      "_view_module_version": "1.5.0",
      "_view_name": "HTMLView",
      "description": "",
      "description_tooltip": null,
      "layout": "IPY_MODEL_a9fc5f03ef144225bd447f6098078985",
      "placeholder": "​",
      "style": "IPY_MODEL_c6a661d66dbb4fbea04de0823c516adf",
      "value": "model.safetensors: 100%"
     }
    },
    "1e990006c2bf4041869192c83d32e040": {
     "model_module": "@jupyter-widgets/base",
     "model_module_version": "1.2.0",
     "model_name": "LayoutModel",
     "state": {
      "_model_module": "@jupyter-widgets/base",
      "_model_module_version": "1.2.0",
      "_model_name": "LayoutModel",
      "_view_count": null,
      "_view_module": "@jupyter-widgets/base",
      "_view_module_version": "1.2.0",
      "_view_name": "LayoutView",
      "align_content": null,
      "align_items": null,
      "align_self": null,
      "border": null,
      "bottom": null,
      "display": null,
      "flex": null,
      "flex_flow": null,
      "grid_area": null,
      "grid_auto_columns": null,
      "grid_auto_flow": null,
      "grid_auto_rows": null,
      "grid_column": null,
      "grid_gap": null,
      "grid_row": null,
      "grid_template_areas": null,
      "grid_template_columns": null,
      "grid_template_rows": null,
      "height": null,
      "justify_content": null,
      "justify_items": null,
      "left": null,
      "margin": null,
      "max_height": null,
      "max_width": null,
      "min_height": null,
      "min_width": null,
      "object_fit": null,
      "object_position": null,
      "order": null,
      "overflow": null,
      "overflow_x": null,
      "overflow_y": null,
      "padding": null,
      "right": null,
      "top": null,
      "visibility": null,
      "width": null
     }
    },
    "20637df97eff449585a1fd102247c7d6": {
     "model_module": "@jupyter-widgets/base",
     "model_module_version": "1.2.0",
     "model_name": "LayoutModel",
     "state": {
      "_model_module": "@jupyter-widgets/base",
      "_model_module_version": "1.2.0",
      "_model_name": "LayoutModel",
      "_view_count": null,
      "_view_module": "@jupyter-widgets/base",
      "_view_module_version": "1.2.0",
      "_view_name": "LayoutView",
      "align_content": null,
      "align_items": null,
      "align_self": null,
      "border": null,
      "bottom": null,
      "display": null,
      "flex": null,
      "flex_flow": null,
      "grid_area": null,
      "grid_auto_columns": null,
      "grid_auto_flow": null,
      "grid_auto_rows": null,
      "grid_column": null,
      "grid_gap": null,
      "grid_row": null,
      "grid_template_areas": null,
      "grid_template_columns": null,
      "grid_template_rows": null,
      "height": null,
      "justify_content": null,
      "justify_items": null,
      "left": null,
      "margin": null,
      "max_height": null,
      "max_width": null,
      "min_height": null,
      "min_width": null,
      "object_fit": null,
      "object_position": null,
      "order": null,
      "overflow": null,
      "overflow_x": null,
      "overflow_y": null,
      "padding": null,
      "right": null,
      "top": null,
      "visibility": null,
      "width": null
     }
    },
    "2139e3613aa747a9b257bd092bd72788": {
     "model_module": "@jupyter-widgets/controls",
     "model_module_version": "1.5.0",
     "model_name": "FloatProgressModel",
     "state": {
      "_dom_classes": [],
      "_model_module": "@jupyter-widgets/controls",
      "_model_module_version": "1.5.0",
      "_model_name": "FloatProgressModel",
      "_view_count": null,
      "_view_module": "@jupyter-widgets/controls",
      "_view_module_version": "1.5.0",
      "_view_name": "ProgressView",
      "bar_style": "success",
      "description": "",
      "description_tooltip": null,
      "layout": "IPY_MODEL_3a081484d64e4710afafe84e17b652c5",
      "max": 1042301,
      "min": 0,
      "orientation": "horizontal",
      "style": "IPY_MODEL_1b79f0ecad124f908455601eee4a046e",
      "value": 1042301
     }
    },
    "248806cbb72543f5ac9227ac20c95506": {
     "model_module": "@jupyter-widgets/controls",
     "model_module_version": "1.5.0",
     "model_name": "HTMLModel",
     "state": {
      "_dom_classes": [],
      "_model_module": "@jupyter-widgets/controls",
      "_model_module_version": "1.5.0",
      "_model_name": "HTMLModel",
      "_view_count": null,
      "_view_module": "@jupyter-widgets/controls",
      "_view_module_version": "1.5.0",
      "_view_name": "HTMLView",
      "description": "",
      "description_tooltip": null,
      "layout": "IPY_MODEL_0bf2ac5e8a814542884f09e237e5e538",
      "placeholder": "​",
      "style": "IPY_MODEL_46830561b4c6434993b22f806131545f",
      "value": "tokenizer_config.json: 100%"
     }
    },
    "288ac9f8a8834fc4a84b94bf81c1ce51": {
     "model_module": "@jupyter-widgets/base",
     "model_module_version": "1.2.0",
     "model_name": "LayoutModel",
     "state": {
      "_model_module": "@jupyter-widgets/base",
      "_model_module_version": "1.2.0",
      "_model_name": "LayoutModel",
      "_view_count": null,
      "_view_module": "@jupyter-widgets/base",
      "_view_module_version": "1.2.0",
      "_view_name": "LayoutView",
      "align_content": null,
      "align_items": null,
      "align_self": null,
      "border": null,
      "bottom": null,
      "display": null,
      "flex": null,
      "flex_flow": null,
      "grid_area": null,
      "grid_auto_columns": null,
      "grid_auto_flow": null,
      "grid_auto_rows": null,
      "grid_column": null,
      "grid_gap": null,
      "grid_row": null,
      "grid_template_areas": null,
      "grid_template_columns": null,
      "grid_template_rows": null,
      "height": null,
      "justify_content": null,
      "justify_items": null,
      "left": null,
      "margin": null,
      "max_height": null,
      "max_width": null,
      "min_height": null,
      "min_width": null,
      "object_fit": null,
      "object_position": null,
      "order": null,
      "overflow": null,
      "overflow_x": null,
      "overflow_y": null,
      "padding": null,
      "right": null,
      "top": null,
      "visibility": null,
      "width": null
     }
    },
    "2b510b1cfba24591a6240b7df4383e3f": {
     "model_module": "@jupyter-widgets/base",
     "model_module_version": "1.2.0",
     "model_name": "LayoutModel",
     "state": {
      "_model_module": "@jupyter-widgets/base",
      "_model_module_version": "1.2.0",
      "_model_name": "LayoutModel",
      "_view_count": null,
      "_view_module": "@jupyter-widgets/base",
      "_view_module_version": "1.2.0",
      "_view_name": "LayoutView",
      "align_content": null,
      "align_items": null,
      "align_self": null,
      "border": null,
      "bottom": null,
      "display": null,
      "flex": null,
      "flex_flow": null,
      "grid_area": null,
      "grid_auto_columns": null,
      "grid_auto_flow": null,
      "grid_auto_rows": null,
      "grid_column": null,
      "grid_gap": null,
      "grid_row": null,
      "grid_template_areas": null,
      "grid_template_columns": null,
      "grid_template_rows": null,
      "height": null,
      "justify_content": null,
      "justify_items": null,
      "left": null,
      "margin": null,
      "max_height": null,
      "max_width": null,
      "min_height": null,
      "min_width": null,
      "object_fit": null,
      "object_position": null,
      "order": null,
      "overflow": null,
      "overflow_x": null,
      "overflow_y": null,
      "padding": null,
      "right": null,
      "top": null,
      "visibility": null,
      "width": null
     }
    },
    "2d35d04d5da24c4c931c7860ea93725c": {
     "model_module": "@jupyter-widgets/controls",
     "model_module_version": "1.5.0",
     "model_name": "HTMLModel",
     "state": {
      "_dom_classes": [],
      "_model_module": "@jupyter-widgets/controls",
      "_model_module_version": "1.5.0",
      "_model_name": "HTMLModel",
      "_view_count": null,
      "_view_module": "@jupyter-widgets/controls",
      "_view_module_version": "1.5.0",
      "_view_name": "HTMLView",
      "description": "",
      "description_tooltip": null,
      "layout": "IPY_MODEL_e98f4f807dce487e8a382f11d73e40f7",
      "placeholder": "​",
      "style": "IPY_MODEL_a71179ddb33a488b83123e20f3da01e7",
      "value": "vocab.json: 100%"
     }
    },
    "319939a100e94746828d62cc81b0101c": {
     "model_module": "@jupyter-widgets/controls",
     "model_module_version": "1.5.0",
     "model_name": "FloatProgressModel",
     "state": {
      "_dom_classes": [],
      "_model_module": "@jupyter-widgets/controls",
      "_model_module_version": "1.5.0",
      "_model_name": "FloatProgressModel",
      "_view_count": null,
      "_view_module": "@jupyter-widgets/controls",
      "_view_module_version": "1.5.0",
      "_view_name": "ProgressView",
      "bar_style": "success",
      "description": "",
      "description_tooltip": null,
      "layout": "IPY_MODEL_bcb65f7fed234b5a913b6ebdae9b0f9c",
      "max": 26,
      "min": 0,
      "orientation": "horizontal",
      "style": "IPY_MODEL_05696e79e98848aebedcace3ef1f7d4b",
      "value": 26
     }
    },
    "32f143ce3a5545288bdd3eaacb532a87": {
     "model_module": "@jupyter-widgets/controls",
     "model_module_version": "1.5.0",
     "model_name": "HTMLModel",
     "state": {
      "_dom_classes": [],
      "_model_module": "@jupyter-widgets/controls",
      "_model_module_version": "1.5.0",
      "_model_name": "HTMLModel",
      "_view_count": null,
      "_view_module": "@jupyter-widgets/controls",
      "_view_module_version": "1.5.0",
      "_view_name": "HTMLView",
      "description": "",
      "description_tooltip": null,
      "layout": "IPY_MODEL_d1190b7a4df4428d9155a8466b32f376",
      "placeholder": "​",
      "style": "IPY_MODEL_df10ca0b54a1495eb135a9eaeb8b3957",
      "value": "merges.txt: 100%"
     }
    },
    "36b64e86ce0543328a94b9294ad2208d": {
     "model_module": "@jupyter-widgets/base",
     "model_module_version": "1.2.0",
     "model_name": "LayoutModel",
     "state": {
      "_model_module": "@jupyter-widgets/base",
      "_model_module_version": "1.2.0",
      "_model_name": "LayoutModel",
      "_view_count": null,
      "_view_module": "@jupyter-widgets/base",
      "_view_module_version": "1.2.0",
      "_view_name": "LayoutView",
      "align_content": null,
      "align_items": null,
      "align_self": null,
      "border": null,
      "bottom": null,
      "display": null,
      "flex": null,
      "flex_flow": null,
      "grid_area": null,
      "grid_auto_columns": null,
      "grid_auto_flow": null,
      "grid_auto_rows": null,
      "grid_column": null,
      "grid_gap": null,
      "grid_row": null,
      "grid_template_areas": null,
      "grid_template_columns": null,
      "grid_template_rows": null,
      "height": null,
      "justify_content": null,
      "justify_items": null,
      "left": null,
      "margin": null,
      "max_height": null,
      "max_width": null,
      "min_height": null,
      "min_width": null,
      "object_fit": null,
      "object_position": null,
      "order": null,
      "overflow": null,
      "overflow_x": null,
      "overflow_y": null,
      "padding": null,
      "right": null,
      "top": null,
      "visibility": null,
      "width": null
     }
    },
    "3a081484d64e4710afafe84e17b652c5": {
     "model_module": "@jupyter-widgets/base",
     "model_module_version": "1.2.0",
     "model_name": "LayoutModel",
     "state": {
      "_model_module": "@jupyter-widgets/base",
      "_model_module_version": "1.2.0",
      "_model_name": "LayoutModel",
      "_view_count": null,
      "_view_module": "@jupyter-widgets/base",
      "_view_module_version": "1.2.0",
      "_view_name": "LayoutView",
      "align_content": null,
      "align_items": null,
      "align_self": null,
      "border": null,
      "bottom": null,
      "display": null,
      "flex": null,
      "flex_flow": null,
      "grid_area": null,
      "grid_auto_columns": null,
      "grid_auto_flow": null,
      "grid_auto_rows": null,
      "grid_column": null,
      "grid_gap": null,
      "grid_row": null,
      "grid_template_areas": null,
      "grid_template_columns": null,
      "grid_template_rows": null,
      "height": null,
      "justify_content": null,
      "justify_items": null,
      "left": null,
      "margin": null,
      "max_height": null,
      "max_width": null,
      "min_height": null,
      "min_width": null,
      "object_fit": null,
      "object_position": null,
      "order": null,
      "overflow": null,
      "overflow_x": null,
      "overflow_y": null,
      "padding": null,
      "right": null,
      "top": null,
      "visibility": null,
      "width": null
     }
    },
    "3a859df3cc8940248c3b34a6501c3b4b": {
     "model_module": "@jupyter-widgets/base",
     "model_module_version": "1.2.0",
     "model_name": "LayoutModel",
     "state": {
      "_model_module": "@jupyter-widgets/base",
      "_model_module_version": "1.2.0",
      "_model_name": "LayoutModel",
      "_view_count": null,
      "_view_module": "@jupyter-widgets/base",
      "_view_module_version": "1.2.0",
      "_view_name": "LayoutView",
      "align_content": null,
      "align_items": null,
      "align_self": null,
      "border": null,
      "bottom": null,
      "display": null,
      "flex": null,
      "flex_flow": null,
      "grid_area": null,
      "grid_auto_columns": null,
      "grid_auto_flow": null,
      "grid_auto_rows": null,
      "grid_column": null,
      "grid_gap": null,
      "grid_row": null,
      "grid_template_areas": null,
      "grid_template_columns": null,
      "grid_template_rows": null,
      "height": null,
      "justify_content": null,
      "justify_items": null,
      "left": null,
      "margin": null,
      "max_height": null,
      "max_width": null,
      "min_height": null,
      "min_width": null,
      "object_fit": null,
      "object_position": null,
      "order": null,
      "overflow": null,
      "overflow_x": null,
      "overflow_y": null,
      "padding": null,
      "right": null,
      "top": null,
      "visibility": null,
      "width": null
     }
    },
    "3f5ff108094f4e409f82b975b9323ac3": {
     "model_module": "@jupyter-widgets/controls",
     "model_module_version": "1.5.0",
     "model_name": "DescriptionStyleModel",
     "state": {
      "_model_module": "@jupyter-widgets/controls",
      "_model_module_version": "1.5.0",
      "_model_name": "DescriptionStyleModel",
      "_view_count": null,
      "_view_module": "@jupyter-widgets/base",
      "_view_module_version": "1.2.0",
      "_view_name": "StyleView",
      "description_width": ""
     }
    },
    "452dcaee5584432a8440409cce7f28f4": {
     "model_module": "@jupyter-widgets/controls",
     "model_module_version": "1.5.0",
     "model_name": "HBoxModel",
     "state": {
      "_dom_classes": [],
      "_model_module": "@jupyter-widgets/controls",
      "_model_module_version": "1.5.0",
      "_model_name": "HBoxModel",
      "_view_count": null,
      "_view_module": "@jupyter-widgets/controls",
      "_view_module_version": "1.5.0",
      "_view_name": "HBoxView",
      "box_style": "",
      "children": [
       "IPY_MODEL_9e56a635457241e5a9dd68284c055bed",
       "IPY_MODEL_af0d51e726f4488ebddd139a42a7066f",
       "IPY_MODEL_c39c5d73953c4ce682fba94f34897e74"
      ],
      "layout": "IPY_MODEL_e1995bd4c8f64235919c07d8984f84ea"
     }
    },
    "46830561b4c6434993b22f806131545f": {
     "model_module": "@jupyter-widgets/controls",
     "model_module_version": "1.5.0",
     "model_name": "DescriptionStyleModel",
     "state": {
      "_model_module": "@jupyter-widgets/controls",
      "_model_module_version": "1.5.0",
      "_model_name": "DescriptionStyleModel",
      "_view_count": null,
      "_view_module": "@jupyter-widgets/base",
      "_view_module_version": "1.2.0",
      "_view_name": "StyleView",
      "description_width": ""
     }
    },
    "4e33bead80de481b89ca68b333a2c4c1": {
     "model_module": "@jupyter-widgets/controls",
     "model_module_version": "1.5.0",
     "model_name": "ProgressStyleModel",
     "state": {
      "_model_module": "@jupyter-widgets/controls",
      "_model_module_version": "1.5.0",
      "_model_name": "ProgressStyleModel",
      "_view_count": null,
      "_view_module": "@jupyter-widgets/base",
      "_view_module_version": "1.2.0",
      "_view_name": "StyleView",
      "bar_color": null,
      "description_width": ""
     }
    },
    "5c9bd3eaf69d4fceb72f20b86c46f4b7": {
     "model_module": "@jupyter-widgets/controls",
     "model_module_version": "1.5.0",
     "model_name": "HTMLModel",
     "state": {
      "_dom_classes": [],
      "_model_module": "@jupyter-widgets/controls",
      "_model_module_version": "1.5.0",
      "_model_name": "HTMLModel",
      "_view_count": null,
      "_view_module": "@jupyter-widgets/controls",
      "_view_module_version": "1.5.0",
      "_view_name": "HTMLView",
      "description": "",
      "description_tooltip": null,
      "layout": "IPY_MODEL_2b510b1cfba24591a6240b7df4383e3f",
      "placeholder": "​",
      "style": "IPY_MODEL_9a914cdd8dcb4eb280bb9bde128e31a9",
      "value": "generation_config.json: 100%"
     }
    },
    "674d5e1fbe284a5fac40624df2212d52": {
     "model_module": "@jupyter-widgets/base",
     "model_module_version": "1.2.0",
     "model_name": "LayoutModel",
     "state": {
      "_model_module": "@jupyter-widgets/base",
      "_model_module_version": "1.2.0",
      "_model_name": "LayoutModel",
      "_view_count": null,
      "_view_module": "@jupyter-widgets/base",
      "_view_module_version": "1.2.0",
      "_view_name": "LayoutView",
      "align_content": null,
      "align_items": null,
      "align_self": null,
      "border": null,
      "bottom": null,
      "display": null,
      "flex": null,
      "flex_flow": null,
      "grid_area": null,
      "grid_auto_columns": null,
      "grid_auto_flow": null,
      "grid_auto_rows": null,
      "grid_column": null,
      "grid_gap": null,
      "grid_row": null,
      "grid_template_areas": null,
      "grid_template_columns": null,
      "grid_template_rows": null,
      "height": null,
      "justify_content": null,
      "justify_items": null,
      "left": null,
      "margin": null,
      "max_height": null,
      "max_width": null,
      "min_height": null,
      "min_width": null,
      "object_fit": null,
      "object_position": null,
      "order": null,
      "overflow": null,
      "overflow_x": null,
      "overflow_y": null,
      "padding": null,
      "right": null,
      "top": null,
      "visibility": null,
      "width": null
     }
    },
    "6800ec73ca6d43678e92e63ebb2f04ab": {
     "model_module": "@jupyter-widgets/controls",
     "model_module_version": "1.5.0",
     "model_name": "ProgressStyleModel",
     "state": {
      "_model_module": "@jupyter-widgets/controls",
      "_model_module_version": "1.5.0",
      "_model_name": "ProgressStyleModel",
      "_view_count": null,
      "_view_module": "@jupyter-widgets/base",
      "_view_module_version": "1.2.0",
      "_view_name": "StyleView",
      "bar_color": null,
      "description_width": ""
     }
    },
    "73e9a2709da940209da6ea7dd32cf105": {
     "model_module": "@jupyter-widgets/controls",
     "model_module_version": "1.5.0",
     "model_name": "DescriptionStyleModel",
     "state": {
      "_model_module": "@jupyter-widgets/controls",
      "_model_module_version": "1.5.0",
      "_model_name": "DescriptionStyleModel",
      "_view_count": null,
      "_view_module": "@jupyter-widgets/base",
      "_view_module_version": "1.2.0",
      "_view_name": "StyleView",
      "description_width": ""
     }
    },
    "7444fa3d45724b41a20300219a222cfa": {
     "model_module": "@jupyter-widgets/controls",
     "model_module_version": "1.5.0",
     "model_name": "DescriptionStyleModel",
     "state": {
      "_model_module": "@jupyter-widgets/controls",
      "_model_module_version": "1.5.0",
      "_model_name": "DescriptionStyleModel",
      "_view_count": null,
      "_view_module": "@jupyter-widgets/base",
      "_view_module_version": "1.2.0",
      "_view_name": "StyleView",
      "description_width": ""
     }
    },
    "74983dd10bb842fab1a8593dbe5c19fc": {
     "model_module": "@jupyter-widgets/base",
     "model_module_version": "1.2.0",
     "model_name": "LayoutModel",
     "state": {
      "_model_module": "@jupyter-widgets/base",
      "_model_module_version": "1.2.0",
      "_model_name": "LayoutModel",
      "_view_count": null,
      "_view_module": "@jupyter-widgets/base",
      "_view_module_version": "1.2.0",
      "_view_name": "LayoutView",
      "align_content": null,
      "align_items": null,
      "align_self": null,
      "border": null,
      "bottom": null,
      "display": null,
      "flex": null,
      "flex_flow": null,
      "grid_area": null,
      "grid_auto_columns": null,
      "grid_auto_flow": null,
      "grid_auto_rows": null,
      "grid_column": null,
      "grid_gap": null,
      "grid_row": null,
      "grid_template_areas": null,
      "grid_template_columns": null,
      "grid_template_rows": null,
      "height": null,
      "justify_content": null,
      "justify_items": null,
      "left": null,
      "margin": null,
      "max_height": null,
      "max_width": null,
      "min_height": null,
      "min_width": null,
      "object_fit": null,
      "object_position": null,
      "order": null,
      "overflow": null,
      "overflow_x": null,
      "overflow_y": null,
      "padding": null,
      "right": null,
      "top": null,
      "visibility": null,
      "width": null
     }
    },
    "753f1283bcbd431890ceaa17c0f2f702": {
     "model_module": "@jupyter-widgets/controls",
     "model_module_version": "1.5.0",
     "model_name": "FloatProgressModel",
     "state": {
      "_dom_classes": [],
      "_model_module": "@jupyter-widgets/controls",
      "_model_module_version": "1.5.0",
      "_model_name": "FloatProgressModel",
      "_view_count": null,
      "_view_module": "@jupyter-widgets/controls",
      "_view_module_version": "1.5.0",
      "_view_name": "ProgressView",
      "bar_style": "success",
      "description": "",
      "description_tooltip": null,
      "layout": "IPY_MODEL_a2449b25ee9d4d7d93755d2a25bdb0eb",
      "max": 124,
      "min": 0,
      "orientation": "horizontal",
      "style": "IPY_MODEL_07a5f0f900334e669638ecee3203153f",
      "value": 124
     }
    },
    "75f44aa716004cb7bbba9eaa32725eaa": {
     "model_module": "@jupyter-widgets/base",
     "model_module_version": "1.2.0",
     "model_name": "LayoutModel",
     "state": {
      "_model_module": "@jupyter-widgets/base",
      "_model_module_version": "1.2.0",
      "_model_name": "LayoutModel",
      "_view_count": null,
      "_view_module": "@jupyter-widgets/base",
      "_view_module_version": "1.2.0",
      "_view_name": "LayoutView",
      "align_content": null,
      "align_items": null,
      "align_self": null,
      "border": null,
      "bottom": null,
      "display": null,
      "flex": null,
      "flex_flow": null,
      "grid_area": null,
      "grid_auto_columns": null,
      "grid_auto_flow": null,
      "grid_auto_rows": null,
      "grid_column": null,
      "grid_gap": null,
      "grid_row": null,
      "grid_template_areas": null,
      "grid_template_columns": null,
      "grid_template_rows": null,
      "height": null,
      "justify_content": null,
      "justify_items": null,
      "left": null,
      "margin": null,
      "max_height": null,
      "max_width": null,
      "min_height": null,
      "min_width": null,
      "object_fit": null,
      "object_position": null,
      "order": null,
      "overflow": null,
      "overflow_x": null,
      "overflow_y": null,
      "padding": null,
      "right": null,
      "top": null,
      "visibility": null,
      "width": null
     }
    },
    "78ef53eda0b44b96a4a69d71926afeff": {
     "model_module": "@jupyter-widgets/controls",
     "model_module_version": "1.5.0",
     "model_name": "FloatProgressModel",
     "state": {
      "_dom_classes": [],
      "_model_module": "@jupyter-widgets/controls",
      "_model_module_version": "1.5.0",
      "_model_name": "FloatProgressModel",
      "_view_count": null,
      "_view_module": "@jupyter-widgets/controls",
      "_view_module_version": "1.5.0",
      "_view_name": "ProgressView",
      "bar_style": "success",
      "description": "",
      "description_tooltip": null,
      "layout": "IPY_MODEL_c7a4c6720d284753ae8b226854fbe5aa",
      "max": 665,
      "min": 0,
      "orientation": "horizontal",
      "style": "IPY_MODEL_4e33bead80de481b89ca68b333a2c4c1",
      "value": 665
     }
    },
    "7a206f71264142368f9e602467521ad4": {
     "model_module": "@jupyter-widgets/base",
     "model_module_version": "1.2.0",
     "model_name": "LayoutModel",
     "state": {
      "_model_module": "@jupyter-widgets/base",
      "_model_module_version": "1.2.0",
      "_model_name": "LayoutModel",
      "_view_count": null,
      "_view_module": "@jupyter-widgets/base",
      "_view_module_version": "1.2.0",
      "_view_name": "LayoutView",
      "align_content": null,
      "align_items": null,
      "align_self": null,
      "border": null,
      "bottom": null,
      "display": null,
      "flex": null,
      "flex_flow": null,
      "grid_area": null,
      "grid_auto_columns": null,
      "grid_auto_flow": null,
      "grid_auto_rows": null,
      "grid_column": null,
      "grid_gap": null,
      "grid_row": null,
      "grid_template_areas": null,
      "grid_template_columns": null,
      "grid_template_rows": null,
      "height": null,
      "justify_content": null,
      "justify_items": null,
      "left": null,
      "margin": null,
      "max_height": null,
      "max_width": null,
      "min_height": null,
      "min_width": null,
      "object_fit": null,
      "object_position": null,
      "order": null,
      "overflow": null,
      "overflow_x": null,
      "overflow_y": null,
      "padding": null,
      "right": null,
      "top": null,
      "visibility": null,
      "width": null
     }
    },
    "7cb6f7332ff34228977fa4650bfce8cf": {
     "model_module": "@jupyter-widgets/controls",
     "model_module_version": "1.5.0",
     "model_name": "HTMLModel",
     "state": {
      "_dom_classes": [],
      "_model_module": "@jupyter-widgets/controls",
      "_model_module_version": "1.5.0",
      "_model_name": "HTMLModel",
      "_view_count": null,
      "_view_module": "@jupyter-widgets/controls",
      "_view_module_version": "1.5.0",
      "_view_name": "HTMLView",
      "description": "",
      "description_tooltip": null,
      "layout": "IPY_MODEL_75f44aa716004cb7bbba9eaa32725eaa",
      "placeholder": "​",
      "style": "IPY_MODEL_73e9a2709da940209da6ea7dd32cf105",
      "value": " 26.0/26.0 [00:00&lt;00:00, 2.42kB/s]"
     }
    },
    "808caf96c3174d38aeb44554e0e783f7": {
     "model_module": "@jupyter-widgets/controls",
     "model_module_version": "1.5.0",
     "model_name": "HTMLModel",
     "state": {
      "_dom_classes": [],
      "_model_module": "@jupyter-widgets/controls",
      "_model_module_version": "1.5.0",
      "_model_name": "HTMLModel",
      "_view_count": null,
      "_view_module": "@jupyter-widgets/controls",
      "_view_module_version": "1.5.0",
      "_view_name": "HTMLView",
      "description": "",
      "description_tooltip": null,
      "layout": "IPY_MODEL_bd1b2c2b466d4e0eba991910659aaf0c",
      "placeholder": "​",
      "style": "IPY_MODEL_9a466ad1316c45e98553c0843ef144f5",
      "value": " 665/665 [00:00&lt;00:00, 57.2kB/s]"
     }
    },
    "90ec54e4136f4ebe8b1765c4284bd886": {
     "model_module": "@jupyter-widgets/controls",
     "model_module_version": "1.5.0",
     "model_name": "FloatProgressModel",
     "state": {
      "_dom_classes": [],
      "_model_module": "@jupyter-widgets/controls",
      "_model_module_version": "1.5.0",
      "_model_name": "FloatProgressModel",
      "_view_count": null,
      "_view_module": "@jupyter-widgets/controls",
      "_view_module_version": "1.5.0",
      "_view_name": "ProgressView",
      "bar_style": "success",
      "description": "",
      "description_tooltip": null,
      "layout": "IPY_MODEL_ecceb2af897e490dbf37a1ac4c8ded5f",
      "max": 548105171,
      "min": 0,
      "orientation": "horizontal",
      "style": "IPY_MODEL_6800ec73ca6d43678e92e63ebb2f04ab",
      "value": 548105171
     }
    },
    "9a466ad1316c45e98553c0843ef144f5": {
     "model_module": "@jupyter-widgets/controls",
     "model_module_version": "1.5.0",
     "model_name": "DescriptionStyleModel",
     "state": {
      "_model_module": "@jupyter-widgets/controls",
      "_model_module_version": "1.5.0",
      "_model_name": "DescriptionStyleModel",
      "_view_count": null,
      "_view_module": "@jupyter-widgets/base",
      "_view_module_version": "1.2.0",
      "_view_name": "StyleView",
      "description_width": ""
     }
    },
    "9a914cdd8dcb4eb280bb9bde128e31a9": {
     "model_module": "@jupyter-widgets/controls",
     "model_module_version": "1.5.0",
     "model_name": "DescriptionStyleModel",
     "state": {
      "_model_module": "@jupyter-widgets/controls",
      "_model_module_version": "1.5.0",
      "_model_name": "DescriptionStyleModel",
      "_view_count": null,
      "_view_module": "@jupyter-widgets/base",
      "_view_module_version": "1.2.0",
      "_view_name": "StyleView",
      "description_width": ""
     }
    },
    "9e56a635457241e5a9dd68284c055bed": {
     "model_module": "@jupyter-widgets/controls",
     "model_module_version": "1.5.0",
     "model_name": "HTMLModel",
     "state": {
      "_dom_classes": [],
      "_model_module": "@jupyter-widgets/controls",
      "_model_module_version": "1.5.0",
      "_model_name": "HTMLModel",
      "_view_count": null,
      "_view_module": "@jupyter-widgets/controls",
      "_view_module_version": "1.5.0",
      "_view_name": "HTMLView",
      "description": "",
      "description_tooltip": null,
      "layout": "IPY_MODEL_abc4738fc9854c5ba855c8ce4d0f185f",
      "placeholder": "​",
      "style": "IPY_MODEL_022961a01a694969997584e345ce7c9d",
      "value": "tokenizer.json: 100%"
     }
    },
    "a0c943df135043899e51cc2c744d9cc1": {
     "model_module": "@jupyter-widgets/base",
     "model_module_version": "1.2.0",
     "model_name": "LayoutModel",
     "state": {
      "_model_module": "@jupyter-widgets/base",
      "_model_module_version": "1.2.0",
      "_model_name": "LayoutModel",
      "_view_count": null,
      "_view_module": "@jupyter-widgets/base",
      "_view_module_version": "1.2.0",
      "_view_name": "LayoutView",
      "align_content": null,
      "align_items": null,
      "align_self": null,
      "border": null,
      "bottom": null,
      "display": null,
      "flex": null,
      "flex_flow": null,
      "grid_area": null,
      "grid_auto_columns": null,
      "grid_auto_flow": null,
      "grid_auto_rows": null,
      "grid_column": null,
      "grid_gap": null,
      "grid_row": null,
      "grid_template_areas": null,
      "grid_template_columns": null,
      "grid_template_rows": null,
      "height": null,
      "justify_content": null,
      "justify_items": null,
      "left": null,
      "margin": null,
      "max_height": null,
      "max_width": null,
      "min_height": null,
      "min_width": null,
      "object_fit": null,
      "object_position": null,
      "order": null,
      "overflow": null,
      "overflow_x": null,
      "overflow_y": null,
      "padding": null,
      "right": null,
      "top": null,
      "visibility": null,
      "width": null
     }
    },
    "a2449b25ee9d4d7d93755d2a25bdb0eb": {
     "model_module": "@jupyter-widgets/base",
     "model_module_version": "1.2.0",
     "model_name": "LayoutModel",
     "state": {
      "_model_module": "@jupyter-widgets/base",
      "_model_module_version": "1.2.0",
      "_model_name": "LayoutModel",
      "_view_count": null,
      "_view_module": "@jupyter-widgets/base",
      "_view_module_version": "1.2.0",
      "_view_name": "LayoutView",
      "align_content": null,
      "align_items": null,
      "align_self": null,
      "border": null,
      "bottom": null,
      "display": null,
      "flex": null,
      "flex_flow": null,
      "grid_area": null,
      "grid_auto_columns": null,
      "grid_auto_flow": null,
      "grid_auto_rows": null,
      "grid_column": null,
      "grid_gap": null,
      "grid_row": null,
      "grid_template_areas": null,
      "grid_template_columns": null,
      "grid_template_rows": null,
      "height": null,
      "justify_content": null,
      "justify_items": null,
      "left": null,
      "margin": null,
      "max_height": null,
      "max_width": null,
      "min_height": null,
      "min_width": null,
      "object_fit": null,
      "object_position": null,
      "order": null,
      "overflow": null,
      "overflow_x": null,
      "overflow_y": null,
      "padding": null,
      "right": null,
      "top": null,
      "visibility": null,
      "width": null
     }
    },
    "a59f6100cc9f4cd7878156bddc3a4c40": {
     "model_module": "@jupyter-widgets/controls",
     "model_module_version": "1.5.0",
     "model_name": "DescriptionStyleModel",
     "state": {
      "_model_module": "@jupyter-widgets/controls",
      "_model_module_version": "1.5.0",
      "_model_name": "DescriptionStyleModel",
      "_view_count": null,
      "_view_module": "@jupyter-widgets/base",
      "_view_module_version": "1.2.0",
      "_view_name": "StyleView",
      "description_width": ""
     }
    },
    "a71179ddb33a488b83123e20f3da01e7": {
     "model_module": "@jupyter-widgets/controls",
     "model_module_version": "1.5.0",
     "model_name": "DescriptionStyleModel",
     "state": {
      "_model_module": "@jupyter-widgets/controls",
      "_model_module_version": "1.5.0",
      "_model_name": "DescriptionStyleModel",
      "_view_count": null,
      "_view_module": "@jupyter-widgets/base",
      "_view_module_version": "1.2.0",
      "_view_name": "StyleView",
      "description_width": ""
     }
    },
    "a8540a73d1a44dc68671434607a035c1": {
     "model_module": "@jupyter-widgets/controls",
     "model_module_version": "1.5.0",
     "model_name": "ProgressStyleModel",
     "state": {
      "_model_module": "@jupyter-widgets/controls",
      "_model_module_version": "1.5.0",
      "_model_name": "ProgressStyleModel",
      "_view_count": null,
      "_view_module": "@jupyter-widgets/base",
      "_view_module_version": "1.2.0",
      "_view_name": "StyleView",
      "bar_color": null,
      "description_width": ""
     }
    },
    "a9fc5f03ef144225bd447f6098078985": {
     "model_module": "@jupyter-widgets/base",
     "model_module_version": "1.2.0",
     "model_name": "LayoutModel",
     "state": {
      "_model_module": "@jupyter-widgets/base",
      "_model_module_version": "1.2.0",
      "_model_name": "LayoutModel",
      "_view_count": null,
      "_view_module": "@jupyter-widgets/base",
      "_view_module_version": "1.2.0",
      "_view_name": "LayoutView",
      "align_content": null,
      "align_items": null,
      "align_self": null,
      "border": null,
      "bottom": null,
      "display": null,
      "flex": null,
      "flex_flow": null,
      "grid_area": null,
      "grid_auto_columns": null,
      "grid_auto_flow": null,
      "grid_auto_rows": null,
      "grid_column": null,
      "grid_gap": null,
      "grid_row": null,
      "grid_template_areas": null,
      "grid_template_columns": null,
      "grid_template_rows": null,
      "height": null,
      "justify_content": null,
      "justify_items": null,
      "left": null,
      "margin": null,
      "max_height": null,
      "max_width": null,
      "min_height": null,
      "min_width": null,
      "object_fit": null,
      "object_position": null,
      "order": null,
      "overflow": null,
      "overflow_x": null,
      "overflow_y": null,
      "padding": null,
      "right": null,
      "top": null,
      "visibility": null,
      "width": null
     }
    },
    "ab97ce9b763e495e9b9e11e4d0659876": {
     "model_module": "@jupyter-widgets/controls",
     "model_module_version": "1.5.0",
     "model_name": "HTMLModel",
     "state": {
      "_dom_classes": [],
      "_model_module": "@jupyter-widgets/controls",
      "_model_module_version": "1.5.0",
      "_model_name": "HTMLModel",
      "_view_count": null,
      "_view_module": "@jupyter-widgets/controls",
      "_view_module_version": "1.5.0",
      "_view_name": "HTMLView",
      "description": "",
      "description_tooltip": null,
      "layout": "IPY_MODEL_a0c943df135043899e51cc2c744d9cc1",
      "placeholder": "​",
      "style": "IPY_MODEL_3f5ff108094f4e409f82b975b9323ac3",
      "value": " 124/124 [00:00&lt;00:00, 9.61kB/s]"
     }
    },
    "abc4738fc9854c5ba855c8ce4d0f185f": {
     "model_module": "@jupyter-widgets/base",
     "model_module_version": "1.2.0",
     "model_name": "LayoutModel",
     "state": {
      "_model_module": "@jupyter-widgets/base",
      "_model_module_version": "1.2.0",
      "_model_name": "LayoutModel",
      "_view_count": null,
      "_view_module": "@jupyter-widgets/base",
      "_view_module_version": "1.2.0",
      "_view_name": "LayoutView",
      "align_content": null,
      "align_items": null,
      "align_self": null,
      "border": null,
      "bottom": null,
      "display": null,
      "flex": null,
      "flex_flow": null,
      "grid_area": null,
      "grid_auto_columns": null,
      "grid_auto_flow": null,
      "grid_auto_rows": null,
      "grid_column": null,
      "grid_gap": null,
      "grid_row": null,
      "grid_template_areas": null,
      "grid_template_columns": null,
      "grid_template_rows": null,
      "height": null,
      "justify_content": null,
      "justify_items": null,
      "left": null,
      "margin": null,
      "max_height": null,
      "max_width": null,
      "min_height": null,
      "min_width": null,
      "object_fit": null,
      "object_position": null,
      "order": null,
      "overflow": null,
      "overflow_x": null,
      "overflow_y": null,
      "padding": null,
      "right": null,
      "top": null,
      "visibility": null,
      "width": null
     }
    },
    "ad9883d282814e9ca745f8578a607ac2": {
     "model_module": "@jupyter-widgets/controls",
     "model_module_version": "1.5.0",
     "model_name": "HBoxModel",
     "state": {
      "_dom_classes": [],
      "_model_module": "@jupyter-widgets/controls",
      "_model_module_version": "1.5.0",
      "_model_name": "HBoxModel",
      "_view_count": null,
      "_view_module": "@jupyter-widgets/controls",
      "_view_module_version": "1.5.0",
      "_view_name": "HBoxView",
      "box_style": "",
      "children": [
       "IPY_MODEL_d65487d319534d06a3e1d6803b800498",
       "IPY_MODEL_78ef53eda0b44b96a4a69d71926afeff",
       "IPY_MODEL_808caf96c3174d38aeb44554e0e783f7"
      ],
      "layout": "IPY_MODEL_20637df97eff449585a1fd102247c7d6"
     }
    },
    "adfac5f347214c32ad421990ab6ca7e2": {
     "model_module": "@jupyter-widgets/controls",
     "model_module_version": "1.5.0",
     "model_name": "HBoxModel",
     "state": {
      "_dom_classes": [],
      "_model_module": "@jupyter-widgets/controls",
      "_model_module_version": "1.5.0",
      "_model_name": "HBoxModel",
      "_view_count": null,
      "_view_module": "@jupyter-widgets/controls",
      "_view_module_version": "1.5.0",
      "_view_name": "HBoxView",
      "box_style": "",
      "children": [
       "IPY_MODEL_2d35d04d5da24c4c931c7860ea93725c",
       "IPY_MODEL_2139e3613aa747a9b257bd092bd72788",
       "IPY_MODEL_05bae6e7ca18473581f2c6986be8a539"
      ],
      "layout": "IPY_MODEL_1e990006c2bf4041869192c83d32e040"
     }
    },
    "af0d51e726f4488ebddd139a42a7066f": {
     "model_module": "@jupyter-widgets/controls",
     "model_module_version": "1.5.0",
     "model_name": "FloatProgressModel",
     "state": {
      "_dom_classes": [],
      "_model_module": "@jupyter-widgets/controls",
      "_model_module_version": "1.5.0",
      "_model_name": "FloatProgressModel",
      "_view_count": null,
      "_view_module": "@jupyter-widgets/controls",
      "_view_module_version": "1.5.0",
      "_view_name": "ProgressView",
      "bar_style": "success",
      "description": "",
      "description_tooltip": null,
      "layout": "IPY_MODEL_7a206f71264142368f9e602467521ad4",
      "max": 1355256,
      "min": 0,
      "orientation": "horizontal",
      "style": "IPY_MODEL_a8540a73d1a44dc68671434607a035c1",
      "value": 1355256
     }
    },
    "b041f4f2c3be488f99f52221eb74d940": {
     "model_module": "@jupyter-widgets/controls",
     "model_module_version": "1.5.0",
     "model_name": "HTMLModel",
     "state": {
      "_dom_classes": [],
      "_model_module": "@jupyter-widgets/controls",
      "_model_module_version": "1.5.0",
      "_model_name": "HTMLModel",
      "_view_count": null,
      "_view_module": "@jupyter-widgets/controls",
      "_view_module_version": "1.5.0",
      "_view_name": "HTMLView",
      "description": "",
      "description_tooltip": null,
      "layout": "IPY_MODEL_e2910f82155541e6a63f368dcae695fd",
      "placeholder": "​",
      "style": "IPY_MODEL_035e328c02cf44fa9c3a90b5f00c38dd",
      "value": " 456k/456k [00:00&lt;00:00, 3.67MB/s]"
     }
    },
    "bbd77e60a1a14f96a6d59530c1673fb0": {
     "model_module": "@jupyter-widgets/base",
     "model_module_version": "1.2.0",
     "model_name": "LayoutModel",
     "state": {
      "_model_module": "@jupyter-widgets/base",
      "_model_module_version": "1.2.0",
      "_model_name": "LayoutModel",
      "_view_count": null,
      "_view_module": "@jupyter-widgets/base",
      "_view_module_version": "1.2.0",
      "_view_name": "LayoutView",
      "align_content": null,
      "align_items": null,
      "align_self": null,
      "border": null,
      "bottom": null,
      "display": null,
      "flex": null,
      "flex_flow": null,
      "grid_area": null,
      "grid_auto_columns": null,
      "grid_auto_flow": null,
      "grid_auto_rows": null,
      "grid_column": null,
      "grid_gap": null,
      "grid_row": null,
      "grid_template_areas": null,
      "grid_template_columns": null,
      "grid_template_rows": null,
      "height": null,
      "justify_content": null,
      "justify_items": null,
      "left": null,
      "margin": null,
      "max_height": null,
      "max_width": null,
      "min_height": null,
      "min_width": null,
      "object_fit": null,
      "object_position": null,
      "order": null,
      "overflow": null,
      "overflow_x": null,
      "overflow_y": null,
      "padding": null,
      "right": null,
      "top": null,
      "visibility": null,
      "width": null
     }
    },
    "bcb65f7fed234b5a913b6ebdae9b0f9c": {
     "model_module": "@jupyter-widgets/base",
     "model_module_version": "1.2.0",
     "model_name": "LayoutModel",
     "state": {
      "_model_module": "@jupyter-widgets/base",
      "_model_module_version": "1.2.0",
      "_model_name": "LayoutModel",
      "_view_count": null,
      "_view_module": "@jupyter-widgets/base",
      "_view_module_version": "1.2.0",
      "_view_name": "LayoutView",
      "align_content": null,
      "align_items": null,
      "align_self": null,
      "border": null,
      "bottom": null,
      "display": null,
      "flex": null,
      "flex_flow": null,
      "grid_area": null,
      "grid_auto_columns": null,
      "grid_auto_flow": null,
      "grid_auto_rows": null,
      "grid_column": null,
      "grid_gap": null,
      "grid_row": null,
      "grid_template_areas": null,
      "grid_template_columns": null,
      "grid_template_rows": null,
      "height": null,
      "justify_content": null,
      "justify_items": null,
      "left": null,
      "margin": null,
      "max_height": null,
      "max_width": null,
      "min_height": null,
      "min_width": null,
      "object_fit": null,
      "object_position": null,
      "order": null,
      "overflow": null,
      "overflow_x": null,
      "overflow_y": null,
      "padding": null,
      "right": null,
      "top": null,
      "visibility": null,
      "width": null
     }
    },
    "bd1b2c2b466d4e0eba991910659aaf0c": {
     "model_module": "@jupyter-widgets/base",
     "model_module_version": "1.2.0",
     "model_name": "LayoutModel",
     "state": {
      "_model_module": "@jupyter-widgets/base",
      "_model_module_version": "1.2.0",
      "_model_name": "LayoutModel",
      "_view_count": null,
      "_view_module": "@jupyter-widgets/base",
      "_view_module_version": "1.2.0",
      "_view_name": "LayoutView",
      "align_content": null,
      "align_items": null,
      "align_self": null,
      "border": null,
      "bottom": null,
      "display": null,
      "flex": null,
      "flex_flow": null,
      "grid_area": null,
      "grid_auto_columns": null,
      "grid_auto_flow": null,
      "grid_auto_rows": null,
      "grid_column": null,
      "grid_gap": null,
      "grid_row": null,
      "grid_template_areas": null,
      "grid_template_columns": null,
      "grid_template_rows": null,
      "height": null,
      "justify_content": null,
      "justify_items": null,
      "left": null,
      "margin": null,
      "max_height": null,
      "max_width": null,
      "min_height": null,
      "min_width": null,
      "object_fit": null,
      "object_position": null,
      "order": null,
      "overflow": null,
      "overflow_x": null,
      "overflow_y": null,
      "padding": null,
      "right": null,
      "top": null,
      "visibility": null,
      "width": null
     }
    },
    "c39c5d73953c4ce682fba94f34897e74": {
     "model_module": "@jupyter-widgets/controls",
     "model_module_version": "1.5.0",
     "model_name": "HTMLModel",
     "state": {
      "_dom_classes": [],
      "_model_module": "@jupyter-widgets/controls",
      "_model_module_version": "1.5.0",
      "_model_name": "HTMLModel",
      "_view_count": null,
      "_view_module": "@jupyter-widgets/controls",
      "_view_module_version": "1.5.0",
      "_view_name": "HTMLView",
      "description": "",
      "description_tooltip": null,
      "layout": "IPY_MODEL_f38ec9f06f474cb6bff5eee78075bcaf",
      "placeholder": "​",
      "style": "IPY_MODEL_d44c0ab2e8144f69aa8f0d444d4dced4",
      "value": " 1.36M/1.36M [00:00&lt;00:00, 5.38MB/s]"
     }
    },
    "c4e5a57c3f214c078a3db6997fb51c29": {
     "model_module": "@jupyter-widgets/controls",
     "model_module_version": "1.5.0",
     "model_name": "HBoxModel",
     "state": {
      "_dom_classes": [],
      "_model_module": "@jupyter-widgets/controls",
      "_model_module_version": "1.5.0",
      "_model_name": "HBoxModel",
      "_view_count": null,
      "_view_module": "@jupyter-widgets/controls",
      "_view_module_version": "1.5.0",
      "_view_name": "HBoxView",
      "box_style": "",
      "children": [
       "IPY_MODEL_32f143ce3a5545288bdd3eaacb532a87",
       "IPY_MODEL_f407077a97e14067ab0986a57191c219",
       "IPY_MODEL_b041f4f2c3be488f99f52221eb74d940"
      ],
      "layout": "IPY_MODEL_bbd77e60a1a14f96a6d59530c1673fb0"
     }
    },
    "c6a661d66dbb4fbea04de0823c516adf": {
     "model_module": "@jupyter-widgets/controls",
     "model_module_version": "1.5.0",
     "model_name": "DescriptionStyleModel",
     "state": {
      "_model_module": "@jupyter-widgets/controls",
      "_model_module_version": "1.5.0",
      "_model_name": "DescriptionStyleModel",
      "_view_count": null,
      "_view_module": "@jupyter-widgets/base",
      "_view_module_version": "1.2.0",
      "_view_name": "StyleView",
      "description_width": ""
     }
    },
    "c7a4c6720d284753ae8b226854fbe5aa": {
     "model_module": "@jupyter-widgets/base",
     "model_module_version": "1.2.0",
     "model_name": "LayoutModel",
     "state": {
      "_model_module": "@jupyter-widgets/base",
      "_model_module_version": "1.2.0",
      "_model_name": "LayoutModel",
      "_view_count": null,
      "_view_module": "@jupyter-widgets/base",
      "_view_module_version": "1.2.0",
      "_view_name": "LayoutView",
      "align_content": null,
      "align_items": null,
      "align_self": null,
      "border": null,
      "bottom": null,
      "display": null,
      "flex": null,
      "flex_flow": null,
      "grid_area": null,
      "grid_auto_columns": null,
      "grid_auto_flow": null,
      "grid_auto_rows": null,
      "grid_column": null,
      "grid_gap": null,
      "grid_row": null,
      "grid_template_areas": null,
      "grid_template_columns": null,
      "grid_template_rows": null,
      "height": null,
      "justify_content": null,
      "justify_items": null,
      "left": null,
      "margin": null,
      "max_height": null,
      "max_width": null,
      "min_height": null,
      "min_width": null,
      "object_fit": null,
      "object_position": null,
      "order": null,
      "overflow": null,
      "overflow_x": null,
      "overflow_y": null,
      "padding": null,
      "right": null,
      "top": null,
      "visibility": null,
      "width": null
     }
    },
    "d1190b7a4df4428d9155a8466b32f376": {
     "model_module": "@jupyter-widgets/base",
     "model_module_version": "1.2.0",
     "model_name": "LayoutModel",
     "state": {
      "_model_module": "@jupyter-widgets/base",
      "_model_module_version": "1.2.0",
      "_model_name": "LayoutModel",
      "_view_count": null,
      "_view_module": "@jupyter-widgets/base",
      "_view_module_version": "1.2.0",
      "_view_name": "LayoutView",
      "align_content": null,
      "align_items": null,
      "align_self": null,
      "border": null,
      "bottom": null,
      "display": null,
      "flex": null,
      "flex_flow": null,
      "grid_area": null,
      "grid_auto_columns": null,
      "grid_auto_flow": null,
      "grid_auto_rows": null,
      "grid_column": null,
      "grid_gap": null,
      "grid_row": null,
      "grid_template_areas": null,
      "grid_template_columns": null,
      "grid_template_rows": null,
      "height": null,
      "justify_content": null,
      "justify_items": null,
      "left": null,
      "margin": null,
      "max_height": null,
      "max_width": null,
      "min_height": null,
      "min_width": null,
      "object_fit": null,
      "object_position": null,
      "order": null,
      "overflow": null,
      "overflow_x": null,
      "overflow_y": null,
      "padding": null,
      "right": null,
      "top": null,
      "visibility": null,
      "width": null
     }
    },
    "d1555f223714438bb4c87cd1cd732925": {
     "model_module": "@jupyter-widgets/controls",
     "model_module_version": "1.5.0",
     "model_name": "HBoxModel",
     "state": {
      "_dom_classes": [],
      "_model_module": "@jupyter-widgets/controls",
      "_model_module_version": "1.5.0",
      "_model_name": "HBoxModel",
      "_view_count": null,
      "_view_module": "@jupyter-widgets/controls",
      "_view_module_version": "1.5.0",
      "_view_name": "HBoxView",
      "box_style": "",
      "children": [
       "IPY_MODEL_5c9bd3eaf69d4fceb72f20b86c46f4b7",
       "IPY_MODEL_753f1283bcbd431890ceaa17c0f2f702",
       "IPY_MODEL_ab97ce9b763e495e9b9e11e4d0659876"
      ],
      "layout": "IPY_MODEL_74983dd10bb842fab1a8593dbe5c19fc"
     }
    },
    "d2a359d4b99a49279bab6f00c49d807e": {
     "model_module": "@jupyter-widgets/base",
     "model_module_version": "1.2.0",
     "model_name": "LayoutModel",
     "state": {
      "_model_module": "@jupyter-widgets/base",
      "_model_module_version": "1.2.0",
      "_model_name": "LayoutModel",
      "_view_count": null,
      "_view_module": "@jupyter-widgets/base",
      "_view_module_version": "1.2.0",
      "_view_name": "LayoutView",
      "align_content": null,
      "align_items": null,
      "align_self": null,
      "border": null,
      "bottom": null,
      "display": null,
      "flex": null,
      "flex_flow": null,
      "grid_area": null,
      "grid_auto_columns": null,
      "grid_auto_flow": null,
      "grid_auto_rows": null,
      "grid_column": null,
      "grid_gap": null,
      "grid_row": null,
      "grid_template_areas": null,
      "grid_template_columns": null,
      "grid_template_rows": null,
      "height": null,
      "justify_content": null,
      "justify_items": null,
      "left": null,
      "margin": null,
      "max_height": null,
      "max_width": null,
      "min_height": null,
      "min_width": null,
      "object_fit": null,
      "object_position": null,
      "order": null,
      "overflow": null,
      "overflow_x": null,
      "overflow_y": null,
      "padding": null,
      "right": null,
      "top": null,
      "visibility": null,
      "width": null
     }
    },
    "d44c0ab2e8144f69aa8f0d444d4dced4": {
     "model_module": "@jupyter-widgets/controls",
     "model_module_version": "1.5.0",
     "model_name": "DescriptionStyleModel",
     "state": {
      "_model_module": "@jupyter-widgets/controls",
      "_model_module_version": "1.5.0",
      "_model_name": "DescriptionStyleModel",
      "_view_count": null,
      "_view_module": "@jupyter-widgets/base",
      "_view_module_version": "1.2.0",
      "_view_name": "StyleView",
      "description_width": ""
     }
    },
    "d65487d319534d06a3e1d6803b800498": {
     "model_module": "@jupyter-widgets/controls",
     "model_module_version": "1.5.0",
     "model_name": "HTMLModel",
     "state": {
      "_dom_classes": [],
      "_model_module": "@jupyter-widgets/controls",
      "_model_module_version": "1.5.0",
      "_model_name": "HTMLModel",
      "_view_count": null,
      "_view_module": "@jupyter-widgets/controls",
      "_view_module_version": "1.5.0",
      "_view_name": "HTMLView",
      "description": "",
      "description_tooltip": null,
      "layout": "IPY_MODEL_674d5e1fbe284a5fac40624df2212d52",
      "placeholder": "​",
      "style": "IPY_MODEL_fd9dc17fe17a40ba87bb24cf398f438a",
      "value": "config.json: 100%"
     }
    },
    "df10ca0b54a1495eb135a9eaeb8b3957": {
     "model_module": "@jupyter-widgets/controls",
     "model_module_version": "1.5.0",
     "model_name": "DescriptionStyleModel",
     "state": {
      "_model_module": "@jupyter-widgets/controls",
      "_model_module_version": "1.5.0",
      "_model_name": "DescriptionStyleModel",
      "_view_count": null,
      "_view_module": "@jupyter-widgets/base",
      "_view_module_version": "1.2.0",
      "_view_name": "StyleView",
      "description_width": ""
     }
    },
    "df2b17c4988f422dbd790762af5d54e7": {
     "model_module": "@jupyter-widgets/base",
     "model_module_version": "1.2.0",
     "model_name": "LayoutModel",
     "state": {
      "_model_module": "@jupyter-widgets/base",
      "_model_module_version": "1.2.0",
      "_model_name": "LayoutModel",
      "_view_count": null,
      "_view_module": "@jupyter-widgets/base",
      "_view_module_version": "1.2.0",
      "_view_name": "LayoutView",
      "align_content": null,
      "align_items": null,
      "align_self": null,
      "border": null,
      "bottom": null,
      "display": null,
      "flex": null,
      "flex_flow": null,
      "grid_area": null,
      "grid_auto_columns": null,
      "grid_auto_flow": null,
      "grid_auto_rows": null,
      "grid_column": null,
      "grid_gap": null,
      "grid_row": null,
      "grid_template_areas": null,
      "grid_template_columns": null,
      "grid_template_rows": null,
      "height": null,
      "justify_content": null,
      "justify_items": null,
      "left": null,
      "margin": null,
      "max_height": null,
      "max_width": null,
      "min_height": null,
      "min_width": null,
      "object_fit": null,
      "object_position": null,
      "order": null,
      "overflow": null,
      "overflow_x": null,
      "overflow_y": null,
      "padding": null,
      "right": null,
      "top": null,
      "visibility": null,
      "width": null
     }
    },
    "e1995bd4c8f64235919c07d8984f84ea": {
     "model_module": "@jupyter-widgets/base",
     "model_module_version": "1.2.0",
     "model_name": "LayoutModel",
     "state": {
      "_model_module": "@jupyter-widgets/base",
      "_model_module_version": "1.2.0",
      "_model_name": "LayoutModel",
      "_view_count": null,
      "_view_module": "@jupyter-widgets/base",
      "_view_module_version": "1.2.0",
      "_view_name": "LayoutView",
      "align_content": null,
      "align_items": null,
      "align_self": null,
      "border": null,
      "bottom": null,
      "display": null,
      "flex": null,
      "flex_flow": null,
      "grid_area": null,
      "grid_auto_columns": null,
      "grid_auto_flow": null,
      "grid_auto_rows": null,
      "grid_column": null,
      "grid_gap": null,
      "grid_row": null,
      "grid_template_areas": null,
      "grid_template_columns": null,
      "grid_template_rows": null,
      "height": null,
      "justify_content": null,
      "justify_items": null,
      "left": null,
      "margin": null,
      "max_height": null,
      "max_width": null,
      "min_height": null,
      "min_width": null,
      "object_fit": null,
      "object_position": null,
      "order": null,
      "overflow": null,
      "overflow_x": null,
      "overflow_y": null,
      "padding": null,
      "right": null,
      "top": null,
      "visibility": null,
      "width": null
     }
    },
    "e2910f82155541e6a63f368dcae695fd": {
     "model_module": "@jupyter-widgets/base",
     "model_module_version": "1.2.0",
     "model_name": "LayoutModel",
     "state": {
      "_model_module": "@jupyter-widgets/base",
      "_model_module_version": "1.2.0",
      "_model_name": "LayoutModel",
      "_view_count": null,
      "_view_module": "@jupyter-widgets/base",
      "_view_module_version": "1.2.0",
      "_view_name": "LayoutView",
      "align_content": null,
      "align_items": null,
      "align_self": null,
      "border": null,
      "bottom": null,
      "display": null,
      "flex": null,
      "flex_flow": null,
      "grid_area": null,
      "grid_auto_columns": null,
      "grid_auto_flow": null,
      "grid_auto_rows": null,
      "grid_column": null,
      "grid_gap": null,
      "grid_row": null,
      "grid_template_areas": null,
      "grid_template_columns": null,
      "grid_template_rows": null,
      "height": null,
      "justify_content": null,
      "justify_items": null,
      "left": null,
      "margin": null,
      "max_height": null,
      "max_width": null,
      "min_height": null,
      "min_width": null,
      "object_fit": null,
      "object_position": null,
      "order": null,
      "overflow": null,
      "overflow_x": null,
      "overflow_y": null,
      "padding": null,
      "right": null,
      "top": null,
      "visibility": null,
      "width": null
     }
    },
    "e63e71c2b31547279685ff1e69eccaa6": {
     "model_module": "@jupyter-widgets/controls",
     "model_module_version": "1.5.0",
     "model_name": "ProgressStyleModel",
     "state": {
      "_model_module": "@jupyter-widgets/controls",
      "_model_module_version": "1.5.0",
      "_model_name": "ProgressStyleModel",
      "_view_count": null,
      "_view_module": "@jupyter-widgets/base",
      "_view_module_version": "1.2.0",
      "_view_name": "StyleView",
      "bar_color": null,
      "description_width": ""
     }
    },
    "e6ca30a9353d4ba6a6ed46c592031971": {
     "model_module": "@jupyter-widgets/controls",
     "model_module_version": "1.5.0",
     "model_name": "HBoxModel",
     "state": {
      "_dom_classes": [],
      "_model_module": "@jupyter-widgets/controls",
      "_model_module_version": "1.5.0",
      "_model_name": "HBoxModel",
      "_view_count": null,
      "_view_module": "@jupyter-widgets/controls",
      "_view_module_version": "1.5.0",
      "_view_name": "HBoxView",
      "box_style": "",
      "children": [
       "IPY_MODEL_1e1db31a78cf414d9f22f8d732c44acc",
       "IPY_MODEL_90ec54e4136f4ebe8b1765c4284bd886",
       "IPY_MODEL_03cbc41e69dd46b7a5c2ca5b46158037"
      ],
      "layout": "IPY_MODEL_288ac9f8a8834fc4a84b94bf81c1ce51"
     }
    },
    "e98f4f807dce487e8a382f11d73e40f7": {
     "model_module": "@jupyter-widgets/base",
     "model_module_version": "1.2.0",
     "model_name": "LayoutModel",
     "state": {
      "_model_module": "@jupyter-widgets/base",
      "_model_module_version": "1.2.0",
      "_model_name": "LayoutModel",
      "_view_count": null,
      "_view_module": "@jupyter-widgets/base",
      "_view_module_version": "1.2.0",
      "_view_name": "LayoutView",
      "align_content": null,
      "align_items": null,
      "align_self": null,
      "border": null,
      "bottom": null,
      "display": null,
      "flex": null,
      "flex_flow": null,
      "grid_area": null,
      "grid_auto_columns": null,
      "grid_auto_flow": null,
      "grid_auto_rows": null,
      "grid_column": null,
      "grid_gap": null,
      "grid_row": null,
      "grid_template_areas": null,
      "grid_template_columns": null,
      "grid_template_rows": null,
      "height": null,
      "justify_content": null,
      "justify_items": null,
      "left": null,
      "margin": null,
      "max_height": null,
      "max_width": null,
      "min_height": null,
      "min_width": null,
      "object_fit": null,
      "object_position": null,
      "order": null,
      "overflow": null,
      "overflow_x": null,
      "overflow_y": null,
      "padding": null,
      "right": null,
      "top": null,
      "visibility": null,
      "width": null
     }
    },
    "ecceb2af897e490dbf37a1ac4c8ded5f": {
     "model_module": "@jupyter-widgets/base",
     "model_module_version": "1.2.0",
     "model_name": "LayoutModel",
     "state": {
      "_model_module": "@jupyter-widgets/base",
      "_model_module_version": "1.2.0",
      "_model_name": "LayoutModel",
      "_view_count": null,
      "_view_module": "@jupyter-widgets/base",
      "_view_module_version": "1.2.0",
      "_view_name": "LayoutView",
      "align_content": null,
      "align_items": null,
      "align_self": null,
      "border": null,
      "bottom": null,
      "display": null,
      "flex": null,
      "flex_flow": null,
      "grid_area": null,
      "grid_auto_columns": null,
      "grid_auto_flow": null,
      "grid_auto_rows": null,
      "grid_column": null,
      "grid_gap": null,
      "grid_row": null,
      "grid_template_areas": null,
      "grid_template_columns": null,
      "grid_template_rows": null,
      "height": null,
      "justify_content": null,
      "justify_items": null,
      "left": null,
      "margin": null,
      "max_height": null,
      "max_width": null,
      "min_height": null,
      "min_width": null,
      "object_fit": null,
      "object_position": null,
      "order": null,
      "overflow": null,
      "overflow_x": null,
      "overflow_y": null,
      "padding": null,
      "right": null,
      "top": null,
      "visibility": null,
      "width": null
     }
    },
    "f38ec9f06f474cb6bff5eee78075bcaf": {
     "model_module": "@jupyter-widgets/base",
     "model_module_version": "1.2.0",
     "model_name": "LayoutModel",
     "state": {
      "_model_module": "@jupyter-widgets/base",
      "_model_module_version": "1.2.0",
      "_model_name": "LayoutModel",
      "_view_count": null,
      "_view_module": "@jupyter-widgets/base",
      "_view_module_version": "1.2.0",
      "_view_name": "LayoutView",
      "align_content": null,
      "align_items": null,
      "align_self": null,
      "border": null,
      "bottom": null,
      "display": null,
      "flex": null,
      "flex_flow": null,
      "grid_area": null,
      "grid_auto_columns": null,
      "grid_auto_flow": null,
      "grid_auto_rows": null,
      "grid_column": null,
      "grid_gap": null,
      "grid_row": null,
      "grid_template_areas": null,
      "grid_template_columns": null,
      "grid_template_rows": null,
      "height": null,
      "justify_content": null,
      "justify_items": null,
      "left": null,
      "margin": null,
      "max_height": null,
      "max_width": null,
      "min_height": null,
      "min_width": null,
      "object_fit": null,
      "object_position": null,
      "order": null,
      "overflow": null,
      "overflow_x": null,
      "overflow_y": null,
      "padding": null,
      "right": null,
      "top": null,
      "visibility": null,
      "width": null
     }
    },
    "f407077a97e14067ab0986a57191c219": {
     "model_module": "@jupyter-widgets/controls",
     "model_module_version": "1.5.0",
     "model_name": "FloatProgressModel",
     "state": {
      "_dom_classes": [],
      "_model_module": "@jupyter-widgets/controls",
      "_model_module_version": "1.5.0",
      "_model_name": "FloatProgressModel",
      "_view_count": null,
      "_view_module": "@jupyter-widgets/controls",
      "_view_module_version": "1.5.0",
      "_view_name": "ProgressView",
      "bar_style": "success",
      "description": "",
      "description_tooltip": null,
      "layout": "IPY_MODEL_36b64e86ce0543328a94b9294ad2208d",
      "max": 456318,
      "min": 0,
      "orientation": "horizontal",
      "style": "IPY_MODEL_e63e71c2b31547279685ff1e69eccaa6",
      "value": 456318
     }
    },
    "f575a362bea643e6b0f8765d915e1032": {
     "model_module": "@jupyter-widgets/controls",
     "model_module_version": "1.5.0",
     "model_name": "HBoxModel",
     "state": {
      "_dom_classes": [],
      "_model_module": "@jupyter-widgets/controls",
      "_model_module_version": "1.5.0",
      "_model_name": "HBoxModel",
      "_view_count": null,
      "_view_module": "@jupyter-widgets/controls",
      "_view_module_version": "1.5.0",
      "_view_name": "HBoxView",
      "box_style": "",
      "children": [
       "IPY_MODEL_248806cbb72543f5ac9227ac20c95506",
       "IPY_MODEL_319939a100e94746828d62cc81b0101c",
       "IPY_MODEL_7cb6f7332ff34228977fa4650bfce8cf"
      ],
      "layout": "IPY_MODEL_df2b17c4988f422dbd790762af5d54e7"
     }
    },
    "fd9dc17fe17a40ba87bb24cf398f438a": {
     "model_module": "@jupyter-widgets/controls",
     "model_module_version": "1.5.0",
     "model_name": "DescriptionStyleModel",
     "state": {
      "_model_module": "@jupyter-widgets/controls",
      "_model_module_version": "1.5.0",
      "_model_name": "DescriptionStyleModel",
      "_view_count": null,
      "_view_module": "@jupyter-widgets/base",
      "_view_module_version": "1.2.0",
      "_view_name": "StyleView",
      "description_width": ""
     }
    }
   }
  }
 },
 "nbformat": 4,
 "nbformat_minor": 4
}
